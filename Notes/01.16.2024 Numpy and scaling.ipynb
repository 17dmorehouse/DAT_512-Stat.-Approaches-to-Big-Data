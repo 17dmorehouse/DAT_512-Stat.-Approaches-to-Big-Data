{
 "cells": [
  {
   "cell_type": "markdown",
   "metadata": {},
   "source": [
    "# Numpy and  Data Transformations \n",
    "\n",
    "\n",
    "We will be looking at a number of common operations and calculations here,  all making use of numpy\n",
    "\n",
    "Two things to look for here\n",
    "\n",
    "-How was numpy used in these calculations  \n",
    "\n",
    "-What are standardization and normalization\n",
    "\n",
    "\n"
   ]
  },
  {
   "cell_type": "code",
   "execution_count": 1,
   "metadata": {
    "scrolled": true
   },
   "outputs": [],
   "source": [
    "import numpy as np"
   ]
  },
  {
   "cell_type": "markdown",
   "metadata": {},
   "source": [
    "### Centered Data\n",
    "\n",
    "One common approach to data is to work with centered data,  which means to subtract the mean value from a variable, or a \n",
    "set of variables.\n",
    "\n",
    "if x is a varialbe, then the centered version of x is xc, where\n",
    "\n",
    "    xc=x-mean(x)\n",
    "\n",
    "This does not alter the variance,   var(x)=var(xc)\n",
    "\n",
    "here's an example\n",
    "\n",
    "Note that these are all numby based variables and we can use member functions of the np arrays to do the calculations"
   ]
  },
  {
   "cell_type": "code",
   "execution_count": 2,
   "metadata": {},
   "outputs": [
    {
     "name": "stdout",
     "output_type": "stream",
     "text": [
      "3.4678896656758433\n",
      "3.4678896656758424\n",
      "-7.327471962526033e-16\n",
      "2.223023042815128\n"
     ]
    }
   ],
   "source": [
    "x=np.random.normal(2,2, 20)\n",
    "\n",
    "xc= x-x.mean()\n",
    "\n",
    "print(x.var())\n",
    "print(xc.var())\n",
    "\n",
    "print(xc.mean())\n",
    "print(x.mean())"
   ]
  },
  {
   "cell_type": "markdown",
   "metadata": {},
   "source": [
    "Variance\n",
    "\n",
    "I typically think of variance as\n",
    "\n",
    "Variance is 1/(n-1) x sum(  (x-mean(x))^2)\n",
    "\n",
    "Notice this is also 1/(n-1) sum (xc^2)\n",
    "\n",
    "When mean(x) is estimated from data, the value (n-1) is the number of degrees of freedom in the measurements after the mean(x) is estimated\n",
    "\n",
    "Some software (including numpy,  it looks like)  calculates variance as\n",
    "\n",
    "1/(n) x sum(  (x-mean(x))^2)\n",
    "\n",
    "We can write this in matrix form as  1/(n) xc * xc.T\n",
    "\n",
    "To write out this calculation,  we can use np.matmul to multiple the two matrics and then use xc.shape[0] to get n, the length of the data.   x.shape gives us a response like (20,3) so xc.shape gives us the number of rows in xc, which is n\n",
    "\n",
    "Be a bit aware of the two ways to calculate variance\n",
    "\n",
    "Below is the approach to calculating variance based on matrix multiplication of a centered matrix"
   ]
  },
  {
   "cell_type": "code",
   "execution_count": 3,
   "metadata": {},
   "outputs": [
    {
     "data": {
      "text/plain": [
       "3.4678896656758424"
      ]
     },
     "execution_count": 3,
     "metadata": {},
     "output_type": "execute_result"
    }
   ],
   "source": [
    "np.matmul(xc,xc.T)/(xc.shape[0])"
   ]
  },
  {
   "cell_type": "markdown",
   "metadata": {},
   "source": [
    "Regression with Centered Matrices\n",
    "\n",
    "In a regression model, like the simple one below\n",
    "\n",
    "    y=mx+b\n",
    "    \n",
    "we say that x predicts y\n",
    "\n",
    "notice that mean(y)= m * mean(x) +b\n",
    "\n",
    "so yc = y-mean(y)= (mx+b) -m* (mean(x)+b)\n",
    "\n",
    "and \n",
    "\n",
    "    yc= mx- m* mean(x)\n",
    "\n",
    "so that\n",
    "\n",
    "    yc= m xc\n",
    "    \n",
    "This means that the equation  y=mx+b is equal to yc = m xc,   \n",
    "\n",
    "The dependence of y on x and yc on mx stays the same,  if x is good predictor of y,  then so is xc, the only thing that\n",
    "changes is the value of b\n",
    "\n",
    "If we work with yc and xc,  that intercept is going to be zero.  This can greatly simplify calculations,  \n",
    "\n",
    "\n",
    "Let's generate a faked data set to see this, and think about the implications"
   ]
  },
  {
   "cell_type": "code",
   "execution_count": 8,
   "metadata": {},
   "outputs": [
    {
     "data": {
      "text/plain": [
       "array([-2. , -1.5, -1. , -0.5,  0. ,  0.5,  1. ,  1.5,  2. ,  2.5,  3. ,\n",
       "        3.5,  4. ,  4.5,  5. ,  5.5,  6. ,  6.5,  7. ,  7.5,  8. ,  8.5,\n",
       "        9. ,  9.5])"
      ]
     },
     "execution_count": 8,
     "metadata": {},
     "output_type": "execute_result"
    }
   ],
   "source": [
    "# create a set of x values\n",
    "\n",
    "x=np.arange(-2,10,0.5)\n",
    "x"
   ]
  },
  {
   "cell_type": "code",
   "execution_count": 6,
   "metadata": {},
   "outputs": [
    {
     "data": {
      "text/plain": [
       "array([-10.68216309,  -8.49838372,  -7.89514982,  -5.29037622,\n",
       "        -2.86339097,  -2.71506413,   0.25310282,   0.62846127,\n",
       "         2.88409625,   4.86949605,   8.46290314,   9.11487505,\n",
       "        11.73887071,  13.6983276 ,  12.31646343,  15.71878291,\n",
       "        16.64108892,  18.71304787,  20.31097636,  22.96394337,\n",
       "        22.96410755,  23.30941967,  28.05740774,  27.62124936])"
      ]
     },
     "execution_count": 6,
     "metadata": {},
     "output_type": "execute_result"
    }
   ],
   "source": [
    "# set up y with an error term\n",
    "\n",
    "y=3.5*x-4 +np.random.normal(0, 1, x.shape)\n",
    "y"
   ]
  },
  {
   "cell_type": "markdown",
   "metadata": {},
   "source": [
    "Note what i did here was to create a generative model\n",
    "\n",
    "We can use models to predict, to analyze relationships, detect anomalies, etc\n",
    "\n",
    "This is a generative use of a model, to create synthetic data,   it is also called a Monte Carlo model\n",
    "\n",
    "We can use it for various types of testing,  you'll see this tactic again"
   ]
  },
  {
   "cell_type": "code",
   "execution_count": 9,
   "metadata": {},
   "outputs": [
    {
     "data": {
      "image/png": "[encoded data removed]",
      "text/plain": [
       "<Figure size 640x480 with 1 Axes>"
      ]
     },
     "metadata": {},
     "output_type": "display_data"
    }
   ],
   "source": [
    "import matplotlib.pyplot as plt\n",
    "\n",
    "%matplotlib inline\n",
    "\n",
    "plt.plot(x,y,'o')\n",
    "plt.grid()"
   ]
  },
  {
   "cell_type": "code",
   "execution_count": 10,
   "metadata": {},
   "outputs": [
    {
     "data": {
      "image/png": "[encoded data removed]",
      "text/plain": [
       "<Figure size 640x480 with 1 Axes>"
      ]
     },
     "metadata": {},
     "output_type": "display_data"
    }
   ],
   "source": [
    "# let's look at this using xc and yc\n",
    "\n",
    "xc=x-x.mean()\n",
    "yc=y-y.mean()\n",
    "\n",
    "plt.plot(xc,yc,'o')\n",
    "plt.grid()"
   ]
  },
  {
   "cell_type": "markdown",
   "metadata": {},
   "source": [
    "Notice that only difference in the two plots is the intercept\n",
    "\n",
    "The relationship between yc and xc is identical to that between y and x,   the centering didn't alter the slope"
   ]
  },
  {
   "cell_type": "code",
   "execution_count": 11,
   "metadata": {},
   "outputs": [
    {
     "data": {
      "text/html": [
       "<style>#sk-container-id-1 {color: black;}#sk-container-id-1 pre{padding: 0;}#sk-container-id-1 div.sk-toggleable {background-color: white;}#sk-container-id-1 label.sk-toggleable__label {cursor: pointer;display: block;width: 100%;margin-bottom: 0;padding: 0.3em;box-sizing: border-box;text-align: center;}#sk-container-id-1 label.sk-toggleable__label-arrow:before {content: \"▸\";float: left;margin-right: 0.25em;color: #696969;}#sk-container-id-1 label.sk-toggleable__label-arrow:hover:before {color: black;}#sk-container-id-1 div.sk-estimator:hover label.sk-toggleable__label-arrow:before {color: black;}#sk-container-id-1 div.sk-toggleable__content {max-height: 0;max-width: 0;overflow: hidden;text-align: left;background-color: #f0f8ff;}#sk-container-id-1 div.sk-toggleable__content pre {margin: 0.2em;color: black;border-radius: 0.25em;background-color: #f0f8ff;}#sk-container-id-1 input.sk-toggleable__control:checked~div.sk-toggleable__content {max-height: 200px;max-width: 100%;overflow: auto;}#sk-container-id-1 input.sk-toggleable__control:checked~label.sk-toggleable__label-arrow:before {content: \"▾\";}#sk-container-id-1 div.sk-estimator input.sk-toggleable__control:checked~label.sk-toggleable__label {background-color: #d4ebff;}#sk-container-id-1 div.sk-label input.sk-toggleable__control:checked~label.sk-toggleable__label {background-color: #d4ebff;}#sk-container-id-1 input.sk-hidden--visually {border: 0;clip: rect(1px 1px 1px 1px);clip: rect(1px, 1px, 1px, 1px);height: 1px;margin: -1px;overflow: hidden;padding: 0;position: absolute;width: 1px;}#sk-container-id-1 div.sk-estimator {font-family: monospace;background-color: #f0f8ff;border: 1px dotted black;border-radius: 0.25em;box-sizing: border-box;margin-bottom: 0.5em;}#sk-container-id-1 div.sk-estimator:hover {background-color: #d4ebff;}#sk-container-id-1 div.sk-parallel-item::after {content: \"\";width: 100%;border-bottom: 1px solid gray;flex-grow: 1;}#sk-container-id-1 div.sk-label:hover label.sk-toggleable__label {background-color: #d4ebff;}#sk-container-id-1 div.sk-serial::before {content: \"\";position: absolute;border-left: 1px solid gray;box-sizing: border-box;top: 0;bottom: 0;left: 50%;z-index: 0;}#sk-container-id-1 div.sk-serial {display: flex;flex-direction: column;align-items: center;background-color: white;padding-right: 0.2em;padding-left: 0.2em;position: relative;}#sk-container-id-1 div.sk-item {position: relative;z-index: 1;}#sk-container-id-1 div.sk-parallel {display: flex;align-items: stretch;justify-content: center;background-color: white;position: relative;}#sk-container-id-1 div.sk-item::before, #sk-container-id-1 div.sk-parallel-item::before {content: \"\";position: absolute;border-left: 1px solid gray;box-sizing: border-box;top: 0;bottom: 0;left: 50%;z-index: -1;}#sk-container-id-1 div.sk-parallel-item {display: flex;flex-direction: column;z-index: 1;position: relative;background-color: white;}#sk-container-id-1 div.sk-parallel-item:first-child::after {align-self: flex-end;width: 50%;}#sk-container-id-1 div.sk-parallel-item:last-child::after {align-self: flex-start;width: 50%;}#sk-container-id-1 div.sk-parallel-item:only-child::after {width: 0;}#sk-container-id-1 div.sk-dashed-wrapped {border: 1px dashed gray;margin: 0 0.4em 0.5em 0.4em;box-sizing: border-box;padding-bottom: 0.4em;background-color: white;}#sk-container-id-1 div.sk-label label {font-family: monospace;font-weight: bold;display: inline-block;line-height: 1.2em;}#sk-container-id-1 div.sk-label-container {text-align: center;}#sk-container-id-1 div.sk-container {/* jupyter's `normalize.less` sets `[hidden] { display: none; }` but bootstrap.min.css set `[hidden] { display: none !important; }` so we also need the `!important` here to be able to override the default hidden behavior on the sphinx rendered scikit-learn.org. See: https://github.com/scikit-learn/scikit-learn/issues/21755 */display: inline-block !important;position: relative;}#sk-container-id-1 div.sk-text-repr-fallback {display: none;}</style><div id=\"sk-container-id-1\" class=\"sk-top-container\"><div class=\"sk-text-repr-fallback\"><pre>LinearRegression()</pre><b>In a Jupyter environment, please rerun this cell to show the HTML representation or trust the notebook. <br />On GitHub, the HTML representation is unable to render, please try loading this page with nbviewer.org.</b></div><div class=\"sk-container\" hidden><div class=\"sk-item\"><div class=\"sk-estimator sk-toggleable\"><input class=\"sk-toggleable__control sk-hidden--visually\" id=\"sk-estimator-id-1\" type=\"checkbox\" checked><label for=\"sk-estimator-id-1\" class=\"sk-toggleable__label sk-toggleable__label-arrow\">LinearRegression</label><div class=\"sk-toggleable__content\"><pre>LinearRegression()</pre></div></div></div></div></div>"
      ],
      "text/plain": [
       "LinearRegression()"
      ]
     },
     "execution_count": 11,
     "metadata": {},
     "output_type": "execute_result"
    }
   ],
   "source": [
    "from sklearn.linear_model import LinearRegression\n",
    "\n",
    "#create an instance of a linear model using sklearn\n",
    "\n",
    "lin_mod=LinearRegression()\n",
    "\n",
    "# fit the model to x, y\n",
    "# not the reshape of x required here,  converting it from a row matrix to a column matrix\n",
    "\n",
    "lin_mod.fit(x.reshape(-1,1),y)\n"
   ]
  },
  {
   "cell_type": "code",
   "execution_count": 12,
   "metadata": {
    "scrolled": true
   },
   "outputs": [
    {
     "data": {
      "text/plain": [
       "array([[-2. ],\n",
       "       [-1.5],\n",
       "       [-1. ],\n",
       "       [-0.5],\n",
       "       [ 0. ],\n",
       "       [ 0.5],\n",
       "       [ 1. ],\n",
       "       [ 1.5],\n",
       "       [ 2. ],\n",
       "       [ 2.5],\n",
       "       [ 3. ],\n",
       "       [ 3.5],\n",
       "       [ 4. ],\n",
       "       [ 4.5],\n",
       "       [ 5. ],\n",
       "       [ 5.5],\n",
       "       [ 6. ],\n",
       "       [ 6.5],\n",
       "       [ 7. ],\n",
       "       [ 7.5],\n",
       "       [ 8. ],\n",
       "       [ 8.5],\n",
       "       [ 9. ],\n",
       "       [ 9.5]])"
      ]
     },
     "execution_count": 12,
     "metadata": {},
     "output_type": "execute_result"
    }
   ],
   "source": [
    "#what did that reshape do?\n",
    "x.reshape(-1,1)"
   ]
  },
  {
   "cell_type": "code",
   "execution_count": 13,
   "metadata": {},
   "outputs": [
    {
     "data": {
      "text/plain": [
       "array([-2. , -1.5, -1. , -0.5,  0. ,  0.5,  1. ,  1.5,  2. ,  2.5,  3. ,\n",
       "        3.5,  4. ,  4.5,  5. ,  5.5,  6. ,  6.5,  7. ,  7.5,  8. ,  8.5,\n",
       "        9. ,  9.5])"
      ]
     },
     "execution_count": 13,
     "metadata": {},
     "output_type": "execute_result"
    }
   ],
   "source": [
    "# what was x prior to the reshape?\n",
    "x"
   ]
  },
  {
   "cell_type": "markdown",
   "metadata": {},
   "source": [
    "Okay that makes sense to get from a row format to a column it is reshape(-1,1)\n",
    "\n",
    "May want to tinker with that a bit more"
   ]
  },
  {
   "cell_type": "markdown",
   "metadata": {},
   "source": [
    "What is the slope of the linear model?"
   ]
  },
  {
   "cell_type": "code",
   "execution_count": 14,
   "metadata": {},
   "outputs": [
    {
     "name": "stdout",
     "output_type": "stream",
     "text": [
      "[3.39234143]\n",
      "-3.457859875287994\n"
     ]
    }
   ],
   "source": [
    "print(lin_mod.coef_)\n",
    "print(lin_mod.intercept_)"
   ]
  },
  {
   "cell_type": "markdown",
   "metadata": {},
   "source": [
    "What about a model based on xc and yc\n",
    "\n",
    "What slope will be get>"
   ]
  },
  {
   "cell_type": "code",
   "execution_count": 15,
   "metadata": {},
   "outputs": [
    {
     "name": "stdout",
     "output_type": "stream",
     "text": [
      "[3.39234143]\n",
      "0.0\n"
     ]
    }
   ],
   "source": [
    "lin_modc=LinearRegression()\n",
    "\n",
    "# fit the model to xc, yc\n",
    "# not the reshape of x required here,  converting it from a row matrix to a column matrix\n",
    "\n",
    "lin_modc.fit(xc.reshape(-1,1),yc)\n",
    "\n",
    "print(lin_modc.coef_)\n",
    "print(lin_modc.intercept_)"
   ]
  },
  {
   "cell_type": "code",
   "execution_count": 16,
   "metadata": {},
   "outputs": [
    {
     "name": "stdout",
     "output_type": "stream",
     "text": [
      "[3.39234143]\n",
      "9.263420504186838\n"
     ]
    }
   ],
   "source": [
    "#What happens when we use xc to predict y\n",
    "\n",
    "lin_modc2=LinearRegression()\n",
    "\n",
    "# fit the model to xc, y\n",
    "# not the reshape of x required here,  converting it from a row matrix to a column matrix\n",
    "\n",
    "lin_modc2.fit(xc.reshape(-1,1),y)\n",
    "\n",
    "print(lin_modc2.coef_)\n",
    "print(lin_modc2.intercept_)"
   ]
  },
  {
   "cell_type": "code",
   "execution_count": 18,
   "metadata": {},
   "outputs": [
    {
     "name": "stdout",
     "output_type": "stream",
     "text": [
      "[[ 12.5         42.40426793]\n",
      " [ 42.40426793 144.86890517]]\n",
      "[[ 12.5         42.40426793]\n",
      " [ 42.40426793 144.86890517]]\n"
     ]
    }
   ],
   "source": [
    "# What about covariation or correlation of x and y - more coming on covariation and correlation\n",
    "# note we are getting the entire variance-covariance matrix from this output\n",
    "\n",
    "print(np.cov(x,y))\n",
    "print(np.cov(xc,yc))"
   ]
  },
  {
   "cell_type": "code",
   "execution_count": 19,
   "metadata": {},
   "outputs": [
    {
     "name": "stdout",
     "output_type": "stream",
     "text": [
      "[[1.        0.9964763]\n",
      " [0.9964763 1.       ]]\n",
      "[[1.        0.9964763]\n",
      " [0.9964763 1.       ]]\n"
     ]
    }
   ],
   "source": [
    "# working with correlation is also helpful at times,   correlation is the covariance rescaled by standard deviations\n",
    "\n",
    "print(np.corrcoef(x,y))\n",
    "print(np.corrcoef(xc,yc))\n",
    "\n",
    "\n",
    "# the R^2 measure of performance often used in assessing is just the squared correlation of x and y, so\n",
    "# the R^2 will be the same for the three relationships, y to x, yc to xc,  y to xc"
   ]
  },
  {
   "cell_type": "markdown",
   "metadata": {},
   "source": [
    "# Summary\n",
    "\n",
    "If we are using x as a predictor,  using xc instead\n",
    "\n",
    "-may simplify some calculations\n",
    "\n",
    "-gives the same slope in linear models\n",
    "\n",
    "-changing from x to xc and/or y to yc does not alter covariation or correlation\n",
    "\n",
    "Take away point-  if x is a predictor, then so is xc,  and both predict y equally well (or yc for that matter)\n"
   ]
  },
  {
   "cell_type": "markdown",
   "metadata": {},
   "source": [
    "# Standardized data\n",
    "\n",
    "It is also common to standardize data by dividing xc through by the standard deviation (sd) which is the square root of variance\n",
    "\n",
    "    xs= xc/sd(xc)\n",
    "    \n",
    "for a model like\n",
    "\n",
    "    yc= m xc\n",
    "    \n",
    "    yc/sd(xc) =  m xc/sd(xc)\n",
    "    \n",
    "    yc/sd(xc) = m xs\n",
    "    \n",
    "    yc= (m * sd(xc))  xs\n",
    "    \n",
    " this means that if xc is good predictor of yc,   sx, the standardized version will be as well.    The slope does change, it \n",
    " becomes m * sd(xc),  but the fraction of the variance in y  explained by xs will stay the same, as well the correlation\n",
    " \n",
    " All measures of the performance of the model will be unchanged,  the scale of xs and of the coefficients do change.\n",
    " \n",
    "Changing from xc to xs is like measuring lengths in feet vs miles, changing units can't alter any relationships involved."
   ]
  },
  {
   "cell_type": "code",
   "execution_count": 20,
   "metadata": {},
   "outputs": [],
   "source": [
    "xs=xc/np.var(xc)**0.5"
   ]
  },
  {
   "cell_type": "code",
   "execution_count": 21,
   "metadata": {
    "scrolled": true
   },
   "outputs": [
    {
     "data": {
      "text/plain": [
       "1.0"
      ]
     },
     "execution_count": 21,
     "metadata": {},
     "output_type": "execute_result"
    }
   ],
   "source": [
    "# the variance should now be 1,  and sd is the square root of variance, so it will be 1 as well\n",
    "\n",
    "np.var(xs)"
   ]
  },
  {
   "cell_type": "code",
   "execution_count": 23,
   "metadata": {},
   "outputs": [
    {
     "data": {
      "text/plain": [
       "-3.700743415417188e-17"
      ]
     },
     "execution_count": 23,
     "metadata": {},
     "output_type": "execute_result"
    }
   ],
   "source": [
    "xs.mean()"
   ]
  },
  {
   "cell_type": "code",
   "execution_count": 24,
   "metadata": {},
   "outputs": [
    {
     "name": "stdout",
     "output_type": "stream",
     "text": [
      "[[1.        0.9964763]\n",
      " [0.9964763 1.       ]]\n",
      "[[1.        0.9964763]\n",
      " [0.9964763 1.       ]]\n"
     ]
    }
   ],
   "source": [
    "# correlation is changed\n",
    "print(np.corrcoef(xs, y))\n",
    "print(np.corrcoef(x,y))\n",
    "\n",
    "# the R^2 for y to x and y to xs is the same,  x and xs have the same predictive power"
   ]
  },
  {
   "cell_type": "markdown",
   "metadata": {},
   "source": [
    "# Conclusion\n",
    "\n",
    "If x is predictor,  xs is also, with the same predictive power\n",
    "\n",
    "-the intercepts and sloped do change,   as does the covariance\n",
    "\n",
    "-the correlation does not change\n",
    "\n",
    "-predictive power does not change\n",
    "\n",
    "Why use \"Standard Scaling?\"\n",
    "\n",
    "Rounding errors are the smallest in computers when the floating point values are all close to zero,  in the range -1 to 1,\n",
    "or -10 to 10\n",
    "\n",
    "Standard scaling forces all the values to be close to zero,  which reduces numerical errors.\n",
    "\n",
    "Many modeling packages require standard scaling,   it is typically good practice\n",
    "\n"
   ]
  },
  {
   "cell_type": "markdown",
   "metadata": {},
   "source": [
    "# Normalization\n",
    "\n",
    "This is typically done by dividing x by the range of values in x\n",
    "\n",
    "    xnorm = x/(max(x) - min (x))\n",
    "    \n",
    "which forces xnorm to range from zero to 1\n",
    "\n",
    "the correlation of xnorm with y will be the same as x with y,  so if\n",
    "x is a good predictor of y,  xnorm will be equally good\n",
    "\n",
    "xnorm is just a scaled version of x,  it's like changing units again, just as with standization\n",
    "\n",
    "Normalization is helpful if the output is a probability in the range 0 to 1,  that requirement is one type of normalization.\n",
    "\n"
   ]
  },
  {
   "cell_type": "code",
   "execution_count": 25,
   "metadata": {},
   "outputs": [],
   "source": [
    "xn=x/(x.max()-x.min())"
   ]
  },
  {
   "cell_type": "code",
   "execution_count": 26,
   "metadata": {},
   "outputs": [
    {
     "name": "stdout",
     "output_type": "stream",
     "text": [
      "[[1.        0.9964763]\n",
      " [0.9964763 1.       ]]\n",
      "[[1.        0.9964763]\n",
      " [0.9964763 1.       ]]\n"
     ]
    }
   ],
   "source": [
    "print(np.corrcoef(x,y))\n",
    "print(np.corrcoef(xn,y))"
   ]
  },
  {
   "cell_type": "code",
   "execution_count": 29,
   "metadata": {},
   "outputs": [
    {
     "data": {
      "text/plain": [
       "0.3260869565217392"
      ]
     },
     "execution_count": 29,
     "metadata": {},
     "output_type": "execute_result"
    }
   ],
   "source": [
    "xn.mean()"
   ]
  }
 ],
 "metadata": {
  "kernelspec": {
   "display_name": "Python 3 (ipykernel)",
   "language": "python",
   "name": "python3"
  },
  "language_info": {
   "codemirror_mode": {
    "name": "ipython",
    "version": 3
   },
   "file_extension": ".py",
   "mimetype": "text/x-python",
   "name": "python",
   "nbconvert_exporter": "python",
   "pygments_lexer": "ipython3",
   "version": "3.11.5"
  }
 },
 "nbformat": 4,
 "nbformat_minor": 4
}
