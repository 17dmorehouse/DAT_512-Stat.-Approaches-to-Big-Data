{
 "cells": [
  {
   "cell_type": "markdown",
   "id": "14a38374",
   "metadata": {},
   "source": [
    "# Other bits and pieces of Pandas\n",
    "\n",
    "Some other useful features within Panda"
   ]
  },
  {
   "cell_type": "code",
   "execution_count": 1,
   "id": "f0f641e9",
   "metadata": {},
   "outputs": [],
   "source": [
    "import pandas as pd\n",
    "import numpy as np\n",
    "import matplotlib.pyplot as plt"
   ]
  },
  {
   "cell_type": "markdown",
   "id": "cf6598b9",
   "metadata": {},
   "source": [
    "# Background info\n",
    "\n",
    "\n",
    "zip() produces an iterable of tuples from one or more arrays"
   ]
  },
  {
   "cell_type": "code",
   "execution_count": 2,
   "id": "d246e6cb",
   "metadata": {},
   "outputs": [
    {
     "name": "stdout",
     "output_type": "stream",
     "text": [
      "[('Java', 14), ('Python', 3), ('JavaScript', 6)]\n",
      "<class 'zip'>\n"
     ]
    }
   ],
   "source": [
    "# what does zip() do\n",
    "\n",
    "languages = ['Java', 'Python', 'JavaScript']\n",
    "versions = [14, 3, 6]\n",
    "\n",
    "result = zip(languages, versions)\n",
    "print(list(result))\n",
    "print(type(result))"
   ]
  },
  {
   "cell_type": "code",
   "execution_count": 3,
   "id": "206902de",
   "metadata": {},
   "outputs": [
    {
     "name": "stdout",
     "output_type": "stream",
     "text": [
      "Java\n",
      "14\n",
      "Python\n",
      "3\n",
      "JavaScript\n",
      "6\n"
     ]
    }
   ],
   "source": [
    "# using zip to make multiple iterations make more sense\n",
    "\n",
    "for languages, versions in zip(languages, versions):\n",
    "    print(languages)\n",
    "    print(versions)"
   ]
  },
  {
   "cell_type": "code",
   "execution_count": 4,
   "id": "73c944f2",
   "metadata": {},
   "outputs": [
    {
     "name": "stdout",
     "output_type": "stream",
     "text": [
      "[('Java', 14), ('Python', 3), ('JavaScript', 6)]\n"
     ]
    }
   ],
   "source": [
    "# pairing two lists from a list of lists\n",
    "array_test=[['Java', 'Python', 'JavaScript'],[14, 3, 6]]\n",
    "\n",
    "print(list(zip(*array_test)))"
   ]
  },
  {
   "cell_type": "markdown",
   "id": "ea618564",
   "metadata": {},
   "source": [
    "# Multiindexing\n",
    "\n",
    "This is a hierarchical or multilevel indexing.  It allows you to store data of more than two dimensions in a 2D data frame\n",
    "\n",
    "It allows for novel groupby, pivoting and reshaping of data\n",
    "\n",
    "see  \n",
    "\n",
    "https://pandas.pydata.org/docs/user_guide/advanced.html"
   ]
  },
  {
   "cell_type": "code",
   "execution_count": 5,
   "id": "07052c2c",
   "metadata": {
    "scrolled": true
   },
   "outputs": [
    {
     "name": "stdout",
     "output_type": "stream",
     "text": [
      "[('bar', 'one'), ('bar', 'two'), ('baz', 'one'), ('baz', 'two'), ('foo', 'one'), ('foo', 'two'), ('qux', 'one'), ('qux', 'two')]\n",
      "\n",
      "\n",
      "\n",
      "MultiIndex([('bar', 'one'),\n",
      "            ('bar', 'two'),\n",
      "            ('baz', 'one'),\n",
      "            ('baz', 'two'),\n",
      "            ('foo', 'one'),\n",
      "            ('foo', 'two'),\n",
      "            ('qux', 'one'),\n",
      "            ('qux', 'two')],\n",
      "           names=['first', 'second'])\n"
     ]
    }
   ],
   "source": [
    "# set up two arrays for the indices,  these are nested indices,   with entries one and two for each name\n",
    "\n",
    "arrays = [\n",
    "    [\"bar\", \"bar\", \"baz\", \"baz\", \"foo\", \"foo\", \"qux\", \"qux\"],\n",
    "    [\"one\", \"two\", \"one\", \"two\", \"one\", \"two\", \"one\", \"two\"],\n",
    "]\n",
    "\n",
    "# now zip the arrays into a tuple\n",
    "\n",
    "tuples = list(zip(*arrays))\n",
    "\n",
    "print(tuples) \n",
    "print(\"\\n\\n\")\n",
    "\n",
    "# now form these into a multiindex\n",
    "\n",
    "index = pd.MultiIndex.from_tuples(tuples, names=[\"first\", \"second\"])\n",
    "\n",
    "print(index)\n"
   ]
  },
  {
   "cell_type": "code",
   "execution_count": 6,
   "id": "1cf730c9",
   "metadata": {},
   "outputs": [
    {
     "data": {
      "text/plain": [
       "first  second\n",
       "bar    one      -0.392810\n",
       "       two      -0.547455\n",
       "baz    one      -0.363310\n",
       "       two      -0.210120\n",
       "foo    one      -0.749565\n",
       "       two      -0.252857\n",
       "qux    one      -1.098818\n",
       "       two      -0.677560\n",
       "dtype: float64"
      ]
     },
     "execution_count": 6,
     "metadata": {},
     "output_type": "execute_result"
    }
   ],
   "source": [
    "# put random values into a multiindexed series\n",
    "\n",
    "s = pd.Series(np.random.randn(8), index=index)\n",
    "\n",
    "#notice, the multiindex was use as the index, along rows\n",
    "\n",
    "# this looks like a  pivot table\n",
    "\n",
    "s"
   ]
  },
  {
   "cell_type": "code",
   "execution_count": 7,
   "id": "4a011603",
   "metadata": {
    "scrolled": false
   },
   "outputs": [
    {
     "data": {
      "text/html": [
       "<div>\n",
       "<style scoped>\n",
       "    .dataframe tbody tr th:only-of-type {\n",
       "        vertical-align: middle;\n",
       "    }\n",
       "\n",
       "    .dataframe tbody tr th {\n",
       "        vertical-align: top;\n",
       "    }\n",
       "\n",
       "    .dataframe thead th {\n",
       "        text-align: right;\n",
       "    }\n",
       "</style>\n",
       "<table border=\"1\" class=\"dataframe\">\n",
       "  <thead>\n",
       "    <tr style=\"text-align: right;\">\n",
       "      <th></th>\n",
       "      <th></th>\n",
       "      <th>0</th>\n",
       "      <th>1</th>\n",
       "      <th>2</th>\n",
       "      <th>3</th>\n",
       "    </tr>\n",
       "  </thead>\n",
       "  <tbody>\n",
       "    <tr>\n",
       "      <th rowspan=\"2\" valign=\"top\">bar</th>\n",
       "      <th>one</th>\n",
       "      <td>1.388964</td>\n",
       "      <td>0.993054</td>\n",
       "      <td>0.979598</td>\n",
       "      <td>0.558392</td>\n",
       "    </tr>\n",
       "    <tr>\n",
       "      <th>two</th>\n",
       "      <td>-2.909657</td>\n",
       "      <td>-1.069870</td>\n",
       "      <td>0.995210</td>\n",
       "      <td>0.494008</td>\n",
       "    </tr>\n",
       "    <tr>\n",
       "      <th rowspan=\"2\" valign=\"top\">baz</th>\n",
       "      <th>one</th>\n",
       "      <td>-1.801273</td>\n",
       "      <td>-1.090733</td>\n",
       "      <td>0.053184</td>\n",
       "      <td>-0.110642</td>\n",
       "    </tr>\n",
       "    <tr>\n",
       "      <th>two</th>\n",
       "      <td>-0.015449</td>\n",
       "      <td>-0.972829</td>\n",
       "      <td>0.110901</td>\n",
       "      <td>1.936321</td>\n",
       "    </tr>\n",
       "    <tr>\n",
       "      <th rowspan=\"2\" valign=\"top\">foo</th>\n",
       "      <th>one</th>\n",
       "      <td>1.896850</td>\n",
       "      <td>1.049549</td>\n",
       "      <td>-1.219351</td>\n",
       "      <td>-2.816742</td>\n",
       "    </tr>\n",
       "    <tr>\n",
       "      <th>two</th>\n",
       "      <td>1.997833</td>\n",
       "      <td>1.669285</td>\n",
       "      <td>-0.611838</td>\n",
       "      <td>0.972937</td>\n",
       "    </tr>\n",
       "    <tr>\n",
       "      <th rowspan=\"2\" valign=\"top\">qux</th>\n",
       "      <th>one</th>\n",
       "      <td>0.211609</td>\n",
       "      <td>-0.670710</td>\n",
       "      <td>-0.543403</td>\n",
       "      <td>-0.534242</td>\n",
       "    </tr>\n",
       "    <tr>\n",
       "      <th>two</th>\n",
       "      <td>-0.217689</td>\n",
       "      <td>-0.121272</td>\n",
       "      <td>-1.224364</td>\n",
       "      <td>-0.675533</td>\n",
       "    </tr>\n",
       "  </tbody>\n",
       "</table>\n",
       "</div>"
      ],
      "text/plain": [
       "                0         1         2         3\n",
       "bar one  1.388964  0.993054  0.979598  0.558392\n",
       "    two -2.909657 -1.069870  0.995210  0.494008\n",
       "baz one -1.801273 -1.090733  0.053184 -0.110642\n",
       "    two -0.015449 -0.972829  0.110901  1.936321\n",
       "foo one  1.896850  1.049549 -1.219351 -2.816742\n",
       "    two  1.997833  1.669285 -0.611838  0.972937\n",
       "qux one  0.211609 -0.670710 -0.543403 -0.534242\n",
       "    two -0.217689 -0.121272 -1.224364 -0.675533"
      ]
     },
     "execution_count": 7,
     "metadata": {},
     "output_type": "execute_result"
    }
   ],
   "source": [
    "# creating a multi-indexed data frame\n",
    "# notice this is using the index, so this is multiindexing of rows\n",
    "\n",
    "df = pd.DataFrame(np.random.randn(8, 4), index=arrays)\n",
    "\n",
    "df"
   ]
  },
  {
   "cell_type": "code",
   "execution_count": 8,
   "id": "3baddb1a",
   "metadata": {
    "scrolled": true
   },
   "outputs": [
    {
     "data": {
      "text/plain": [
       "Index(['bar', 'bar', 'baz', 'baz', 'foo', 'foo', 'qux', 'qux'], dtype='object', name='first')"
      ]
     },
     "execution_count": 8,
     "metadata": {},
     "output_type": "execute_result"
    }
   ],
   "source": [
    "index.get_level_values(0)"
   ]
  },
  {
   "cell_type": "code",
   "execution_count": 9,
   "id": "97e8b6ef",
   "metadata": {},
   "outputs": [
    {
     "data": {
      "text/plain": [
       "Index(['one', 'two', 'one', 'two', 'one', 'two', 'one', 'two'], dtype='object', name='second')"
      ]
     },
     "execution_count": 9,
     "metadata": {},
     "output_type": "execute_result"
    }
   ],
   "source": [
    "index.get_level_values(1)"
   ]
  },
  {
   "cell_type": "code",
   "execution_count": 10,
   "id": "7e1edcc8",
   "metadata": {},
   "outputs": [
    {
     "ename": "SyntaxError",
     "evalue": "invalid syntax (3618795554.py, line 1)",
     "output_type": "error",
     "traceback": [
      "\u001b[1;36m  Cell \u001b[1;32mIn[10], line 1\u001b[1;36m\u001b[0m\n\u001b[1;33m    df.loc['bar'].\u001b[0m\n\u001b[1;37m                  ^\u001b[0m\n\u001b[1;31mSyntaxError\u001b[0m\u001b[1;31m:\u001b[0m invalid syntax\n"
     ]
    }
   ],
   "source": [
    "df.loc['bar']."
   ]
  },
  {
   "cell_type": "code",
   "execution_count": null,
   "id": "1528c543",
   "metadata": {},
   "outputs": [],
   "source": [
    "df.loc[\"bar\"].loc[\"two\"]"
   ]
  },
  {
   "cell_type": "code",
   "execution_count": null,
   "id": "5f9e8cb7",
   "metadata": {},
   "outputs": [],
   "source": [
    "# we can multiindex columns als well\n",
    "\n",
    "df2 = pd.DataFrame(np.random.randn(3, 8), index=[\"A\", \"B\", \"C\"], columns=index)\n",
    "\n",
    "df2"
   ]
  },
  {
   "cell_type": "code",
   "execution_count": null,
   "id": "a15ab01e",
   "metadata": {
    "scrolled": true
   },
   "outputs": [],
   "source": [
    "# intersting slices are now possible\n",
    "\n",
    "df2[\"bar\"]"
   ]
  },
  {
   "cell_type": "code",
   "execution_count": null,
   "id": "78965dd2",
   "metadata": {},
   "outputs": [],
   "source": [
    "df2[\"bar\",\"one\"]"
   ]
  },
  {
   "cell_type": "code",
   "execution_count": null,
   "id": "54199a58",
   "metadata": {},
   "outputs": [],
   "source": [
    "# Getting an example data set loaded up"
   ]
  },
  {
   "cell_type": "code",
   "execution_count": null,
   "id": "1d46f312",
   "metadata": {},
   "outputs": [],
   "source": [
    "url=\"https://data.buffalony.gov/resource/fkfv-wqrx.csv\"\n",
    "\n",
    "hydrants=pd.read_csv(url)"
   ]
  },
  {
   "cell_type": "code",
   "execution_count": null,
   "id": "de2bb235",
   "metadata": {
    "scrolled": false
   },
   "outputs": [],
   "source": [
    "hydrants.head()"
   ]
  },
  {
   "cell_type": "code",
   "execution_count": null,
   "id": "a0864ea6",
   "metadata": {},
   "outputs": [],
   "source": [
    "hydrants.shape"
   ]
  },
  {
   "cell_type": "code",
   "execution_count": null,
   "id": "d4059e54",
   "metadata": {},
   "outputs": [],
   "source": [
    "# Dealing with NaN values"
   ]
  },
  {
   "cell_type": "code",
   "execution_count": null,
   "id": "80dd7d8c",
   "metadata": {},
   "outputs": [],
   "source": [
    "# counts of missing data,  pd.isna gives us the binary coding of missing entries\n",
    "\n",
    "np.sum(pd.isna(hydrants['st_number']))"
   ]
  },
  {
   "cell_type": "code",
   "execution_count": null,
   "id": "a92e6b3d",
   "metadata": {},
   "outputs": [],
   "source": [
    "hydrants.loc[pd.isna(hydrants['st_number']),:]"
   ]
  },
  {
   "cell_type": "code",
   "execution_count": null,
   "id": "3a1b910e",
   "metadata": {
    "scrolled": true
   },
   "outputs": [],
   "source": [
    "np.sum(pd.isna(hydrants['datecollec']))"
   ]
  },
  {
   "cell_type": "code",
   "execution_count": null,
   "id": "580f572a",
   "metadata": {},
   "outputs": [],
   "source": [
    "# I want only the date stamped hydrants - notna is the opposite of isna\n",
    "\n",
    "hydrants_wd=hydrants.loc[pd.notna(hydrants['datecollec']),:]\n",
    "\n",
    "sum(pd.isna(hydrants_wd['datecollec']))"
   ]
  },
  {
   "cell_type": "markdown",
   "id": "caf796a9",
   "metadata": {},
   "source": [
    "# Date and time handling"
   ]
  },
  {
   "cell_type": "code",
   "execution_count": null,
   "id": "161052ee",
   "metadata": {},
   "outputs": [],
   "source": [
    "import datetime\n",
    "\n",
    "temp=pd.to_datetime(hydrants_wd.datecollec)\n",
    "\n"
   ]
  },
  {
   "cell_type": "code",
   "execution_count": null,
   "id": "768c6af3",
   "metadata": {},
   "outputs": [],
   "source": [
    "hydrants_wd.dtypes"
   ]
  },
  {
   "cell_type": "code",
   "execution_count": null,
   "id": "61ca7f30",
   "metadata": {},
   "outputs": [],
   "source": []
  }
 ],
 "metadata": {
  "kernelspec": {
   "display_name": "Python 3 (ipykernel)",
   "language": "python",
   "name": "python3"
  },
  "language_info": {
   "codemirror_mode": {
    "name": "ipython",
    "version": 3
   },
   "file_extension": ".py",
   "mimetype": "text/x-python",
   "name": "python",
   "nbconvert_exporter": "python",
   "pygments_lexer": "ipython3",
   "version": "3.11.5"
  }
 },
 "nbformat": 4,
 "nbformat_minor": 5
}
