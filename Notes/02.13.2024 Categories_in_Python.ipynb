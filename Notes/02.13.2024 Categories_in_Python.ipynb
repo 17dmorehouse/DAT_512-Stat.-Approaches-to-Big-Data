{
 "cells": [
  {
   "cell_type": "markdown",
   "id": "723c78a7-4fa4-4c8b-8016-5655908c1541",
   "metadata": {},
   "source": [
    "# Categories\n",
    "\n",
    "See \"Python for Data Analysis,  2nd Edition',  Wes McKinney,  Chapter 12"
   ]
  },
  {
   "cell_type": "code",
   "execution_count": 1,
   "id": "e54881be-7354-4767-a3e5-7a3e6862a6d6",
   "metadata": {},
   "outputs": [],
   "source": [
    "import numpy as np\n",
    "import pandas as pd"
   ]
  },
  {
   "cell_type": "code",
   "execution_count": null,
   "id": "085a5cee-8a79-4b12-b0ea-db696e496131",
   "metadata": {},
   "outputs": [],
   "source": [
    "Let's look at a categorical or factor type variable in Python"
   ]
  },
  {
   "cell_type": "code",
   "execution_count": 2,
   "id": "03720abd-f48b-47ab-82c3-9b0de69ce35c",
   "metadata": {},
   "outputs": [
    {
     "data": {
      "text/plain": [
       "0     apple\n",
       "1    orange\n",
       "2     apple\n",
       "3     apple\n",
       "4     apple\n",
       "5    orange\n",
       "6     apple\n",
       "7     apple\n",
       "dtype: object"
      ]
     },
     "execution_count": 2,
     "metadata": {},
     "output_type": "execute_result"
    }
   ],
   "source": [
    "values=pd.Series(['apple','orange','apple','apple']*2)\n",
    "values"
   ]
  },
  {
   "cell_type": "code",
   "execution_count": 3,
   "id": "98e58bcc-751f-42a8-90f7-d5be44d48227",
   "metadata": {},
   "outputs": [
    {
     "data": {
      "text/plain": [
       "array(['apple', 'orange'], dtype=object)"
      ]
     },
     "execution_count": 3,
     "metadata": {},
     "output_type": "execute_result"
    }
   ],
   "source": [
    "pd.unique(values)"
   ]
  },
  {
   "cell_type": "code",
   "execution_count": 4,
   "id": "94be27ed-1741-4f7f-abe2-057c5ed0bffb",
   "metadata": {},
   "outputs": [
    {
     "data": {
      "text/plain": [
       "apple     6\n",
       "orange    2\n",
       "dtype: int64"
      ]
     },
     "execution_count": 4,
     "metadata": {},
     "output_type": "execute_result"
    }
   ],
   "source": [
    "pd.value_counts(values)"
   ]
  },
  {
   "cell_type": "markdown",
   "id": "529fcade-c66d-4016-a594-d71c4fdcbb57",
   "metadata": {},
   "source": [
    "# This storage of a categorical variable as text uses up a lot of memory\n",
    "\n",
    "In data warehousing or other computational approaches to working with or storing categorical data,  it is common to \n",
    "code these are integers and then use a \"dimension table\" that store the names of the categories\n",
    "\n",
    "The R factor type stores factors as integers and creates a dimension table of names.  Since R is so closely tuned for statistical analysis,   the factor variable type is a built-in variable type in R\n",
    "\n",
    "Here is what the \"dimension-table\" implementation looks like"
   ]
  },
  {
   "cell_type": "code",
   "execution_count": 5,
   "id": "280f4b69-2479-4039-bdc6-c8848aac8c31",
   "metadata": {},
   "outputs": [],
   "source": [
    "values=pd.Series([0,1,0,0]*2)\n",
    "\n",
    "dim_table=pd.Series(['apple','orange'])"
   ]
  },
  {
   "cell_type": "code",
   "execution_count": 6,
   "id": "222e56f7-81ae-4271-a52b-fa95d30f3543",
   "metadata": {},
   "outputs": [
    {
     "data": {
      "text/plain": [
       "0    0\n",
       "1    1\n",
       "2    0\n",
       "3    0\n",
       "4    0\n",
       "5    1\n",
       "6    0\n",
       "7    0\n",
       "dtype: int64"
      ]
     },
     "execution_count": 6,
     "metadata": {},
     "output_type": "execute_result"
    }
   ],
   "source": [
    "values"
   ]
  },
  {
   "cell_type": "code",
   "execution_count": 7,
   "id": "4ac7561c-2fe0-4531-9181-5fb5be5de778",
   "metadata": {},
   "outputs": [
    {
     "data": {
      "text/plain": [
       "0     apple\n",
       "1    orange\n",
       "dtype: object"
      ]
     },
     "execution_count": 7,
     "metadata": {},
     "output_type": "execute_result"
    }
   ],
   "source": [
    "dim_table"
   ]
  },
  {
   "cell_type": "code",
   "execution_count": 8,
   "id": "81342b13-f550-4065-94ff-2065c45a0d1f",
   "metadata": {},
   "outputs": [
    {
     "data": {
      "text/plain": [
       "0     apple\n",
       "1    orange\n",
       "0     apple\n",
       "0     apple\n",
       "0     apple\n",
       "1    orange\n",
       "0     apple\n",
       "0     apple\n",
       "dtype: object"
      ]
     },
     "execution_count": 8,
     "metadata": {},
     "output_type": "execute_result"
    }
   ],
   "source": [
    "# the take member function allows extractions of each name in the dim table\n",
    "\n",
    "dim_table.take(values)"
   ]
  },
  {
   "cell_type": "markdown",
   "id": "a0199a1d-a589-40c3-94a0-54d4193d4af5",
   "metadata": {},
   "source": [
    "You may see this style of dimension table used in data bases,   with a numerical code in the table and the dimension table often explained in a data dictionary"
   ]
  },
  {
   "cell_type": "markdown",
   "id": "1dc1d60d-aaa5-47b3-bbe5-798ec890b948",
   "metadata": {},
   "source": [
    "## Magic Number coding\n",
    "\n",
    "Prior to 1980 or so,   the use of \"magic numbers\" in databases for encoding multiple categorical values into a single digital number was common.\n",
    "\n",
    "You see these in serial numbers of manufactured objects,   a code like    0210912321  might mean the object was made in 2021 (first 3 digits) in week 09 of \n",
    "year (first week of March) and was the 12321st object of that type made that year,  so the serial number might have to be split up into 3 integer pieces to be \n",
    "interpretted.\n",
    "\n",
    "This is not uncommon in older databases,   kind of watch for it."
   ]
  },
  {
   "cell_type": "markdown",
   "id": "afbeacb0-0ec7-44b1-b30e-3aca787efb06",
   "metadata": {},
   "source": [
    "## The Category data type in Python\n",
    "\n",
    "The Python category type is not as sophisticated as the Factor is in R, but it does save somewhat on storrage space, and there is an easy conversion to \n",
    "one-hot encoding."
   ]
  },
  {
   "cell_type": "code",
   "execution_count": 10,
   "id": "f1ff18b4-0486-46bb-9736-7dacf0f6eab0",
   "metadata": {},
   "outputs": [
    {
     "data": {
      "text/html": [
       "<div>\n",
       "<style scoped>\n",
       "    .dataframe tbody tr th:only-of-type {\n",
       "        vertical-align: middle;\n",
       "    }\n",
       "\n",
       "    .dataframe tbody tr th {\n",
       "        vertical-align: top;\n",
       "    }\n",
       "\n",
       "    .dataframe thead th {\n",
       "        text-align: right;\n",
       "    }\n",
       "</style>\n",
       "<table border=\"1\" class=\"dataframe\">\n",
       "  <thead>\n",
       "    <tr style=\"text-align: right;\">\n",
       "      <th></th>\n",
       "      <th>basket_id</th>\n",
       "      <th>fruit</th>\n",
       "      <th>count</th>\n",
       "      <th>weight</th>\n",
       "    </tr>\n",
       "  </thead>\n",
       "  <tbody>\n",
       "    <tr>\n",
       "      <th>0</th>\n",
       "      <td>0</td>\n",
       "      <td>apple</td>\n",
       "      <td>9</td>\n",
       "      <td>3.508213</td>\n",
       "    </tr>\n",
       "    <tr>\n",
       "      <th>1</th>\n",
       "      <td>1</td>\n",
       "      <td>orange</td>\n",
       "      <td>8</td>\n",
       "      <td>0.550126</td>\n",
       "    </tr>\n",
       "    <tr>\n",
       "      <th>2</th>\n",
       "      <td>2</td>\n",
       "      <td>apple</td>\n",
       "      <td>6</td>\n",
       "      <td>1.061943</td>\n",
       "    </tr>\n",
       "    <tr>\n",
       "      <th>3</th>\n",
       "      <td>3</td>\n",
       "      <td>apple</td>\n",
       "      <td>3</td>\n",
       "      <td>0.409063</td>\n",
       "    </tr>\n",
       "    <tr>\n",
       "      <th>4</th>\n",
       "      <td>4</td>\n",
       "      <td>apple</td>\n",
       "      <td>5</td>\n",
       "      <td>1.039201</td>\n",
       "    </tr>\n",
       "    <tr>\n",
       "      <th>5</th>\n",
       "      <td>5</td>\n",
       "      <td>orange</td>\n",
       "      <td>5</td>\n",
       "      <td>1.939664</td>\n",
       "    </tr>\n",
       "    <tr>\n",
       "      <th>6</th>\n",
       "      <td>6</td>\n",
       "      <td>apple</td>\n",
       "      <td>9</td>\n",
       "      <td>3.738356</td>\n",
       "    </tr>\n",
       "    <tr>\n",
       "      <th>7</th>\n",
       "      <td>7</td>\n",
       "      <td>apple</td>\n",
       "      <td>6</td>\n",
       "      <td>3.219056</td>\n",
       "    </tr>\n",
       "  </tbody>\n",
       "</table>\n",
       "</div>"
      ],
      "text/plain": [
       "   basket_id   fruit  count    weight\n",
       "0          0   apple      9  3.508213\n",
       "1          1  orange      8  0.550126\n",
       "2          2   apple      6  1.061943\n",
       "3          3   apple      3  0.409063\n",
       "4          4   apple      5  1.039201\n",
       "5          5  orange      5  1.939664\n",
       "6          6   apple      9  3.738356\n",
       "7          7   apple      6  3.219056"
      ]
     },
     "execution_count": 10,
     "metadata": {},
     "output_type": "execute_result"
    }
   ],
   "source": [
    "fruits = ['apple', 'orange', 'apple', 'apple'] * 2\n",
    "\n",
    "N = len(fruits)\n",
    "\n",
    "\n",
    "df = pd.DataFrame({'fruit': fruits,'basket_id': np.arange(N),'count': np.random.randint(3, 15, size=N),'weight': np.random.uniform(0, 4, size=N)}, columns=['basket_id', 'fruit', 'count', 'weight'])\n",
    "\n",
    "df"
   ]
  },
  {
   "cell_type": "code",
   "execution_count": 11,
   "id": "9f73618c-2139-4f3e-a012-082f9c1379dc",
   "metadata": {},
   "outputs": [
    {
     "data": {
      "text/plain": [
       "0     apple\n",
       "1    orange\n",
       "2     apple\n",
       "3     apple\n",
       "4     apple\n",
       "5    orange\n",
       "6     apple\n",
       "7     apple\n",
       "Name: fruit, dtype: category\n",
       "Categories (2, object): ['apple', 'orange']"
      ]
     },
     "execution_count": 11,
     "metadata": {},
     "output_type": "execute_result"
    }
   ],
   "source": [
    "# Convert fruit to a category- creating a categorical variable\n",
    "\n",
    "fruit_cat=df['fruit'].astype('category')\n",
    "\n",
    "fruit_cat"
   ]
  },
  {
   "cell_type": "code",
   "execution_count": 12,
   "id": "7297bc7d-bd9c-4f42-bafb-7b2bcd4681e1",
   "metadata": {},
   "outputs": [
    {
     "data": {
      "text/plain": [
       "['apple', 'orange', 'apple', 'apple', 'apple', 'orange', 'apple', 'apple']\n",
       "Categories (2, object): ['apple', 'orange']"
      ]
     },
     "execution_count": 12,
     "metadata": {},
     "output_type": "execute_result"
    }
   ],
   "source": [
    "# this type data has a values entry\n",
    "\n",
    "fruit_cat.values"
   ]
  },
  {
   "cell_type": "code",
   "execution_count": 17,
   "id": "bb4af728-4f7a-40c7-b92d-0d05dd36ad10",
   "metadata": {},
   "outputs": [
    {
     "data": {
      "text/plain": [
       "Index(['apple', 'orange'], dtype='object')"
      ]
     },
     "execution_count": 17,
     "metadata": {},
     "output_type": "execute_result"
    }
   ],
   "source": [
    "# and a category entry\n",
    "fruit_cat.cat.categories"
   ]
  },
  {
   "cell_type": "code",
   "execution_count": 18,
   "id": "67c9524b-0912-4719-aa38-e0dd5b29d13c",
   "metadata": {},
   "outputs": [
    {
     "data": {
      "text/plain": [
       "['foo', 'bar', 'baz', 'foo', 'bar']\n",
       "Categories (3, object): ['bar', 'baz', 'foo']"
      ]
     },
     "execution_count": 18,
     "metadata": {},
     "output_type": "execute_result"
    }
   ],
   "source": [
    "# creating a category from a list\n",
    "\n",
    "my_categories = pd.Categorical(['foo', 'bar', 'baz', 'foo', 'bar'])\n",
    "\n",
    "my_categories"
   ]
  },
  {
   "cell_type": "code",
   "execution_count": 20,
   "id": "45ebb106-c8bb-4f72-b2d3-c2f922debea9",
   "metadata": {},
   "outputs": [
    {
     "data": {
      "text/plain": [
       "['foo', 'bar', 'baz', 'foo', 'foo', 'bar']\n",
       "Categories (3, object): ['foo' < 'bar' < 'baz']"
      ]
     },
     "execution_count": 20,
     "metadata": {},
     "output_type": "execute_result"
    }
   ],
   "source": [
    "# ordered categories,  used for categories where there is a step or ordering,   ie small-medium-large\n",
    "\n",
    "categories = ['foo', 'bar', 'baz']\n",
    "\n",
    "codes = [0, 1, 2, 0, 0, 1]\n",
    "\n",
    "ordered_cat = pd.Categorical.from_codes(codes, categories,ordered=True)\n",
    "\n",
    "ordered_cat"
   ]
  },
  {
   "cell_type": "code",
   "execution_count": null,
   "id": "f8acbe9f-8519-41a7-bc16-d9ffb5b3c2e4",
   "metadata": {},
   "outputs": [],
   "source": []
  },
  {
   "cell_type": "markdown",
   "id": "0c25c63e-581a-419e-8bed-68eb0002d5b2",
   "metadata": {},
   "source": [
    "## Computation with Categoricals\n",
    "\n"
   ]
  },
  {
   "cell_type": "code",
   "execution_count": 30,
   "id": "99f5a0f6-5fd1-49ac-a510-77bfee78e7b6",
   "metadata": {},
   "outputs": [
    {
     "data": {
      "text/plain": [
       "array([-0.20470766,  0.47894334, -0.51943872, -0.5557303 ,  1.96578057])"
      ]
     },
     "execution_count": 30,
     "metadata": {},
     "output_type": "execute_result"
    }
   ],
   "source": [
    "np.random.seed(12345)\n",
    "\n",
    "draws = np.random.randn(1000)\n",
    "\n",
    "draws[:5]"
   ]
  },
  {
   "cell_type": "markdown",
   "id": "b6059874-9002-4947-aa87-68e247bf0cc0",
   "metadata": {
    "tags": []
   },
   "source": [
    "### let's bin this into 4 quartiles,  the qcut function bins data into quintile forms.   The cut() produces evenly spaced bins\n"
   ]
  },
  {
   "cell_type": "code",
   "execution_count": 31,
   "id": "a293de61-3998-48dc-a022-065885a437ce",
   "metadata": {},
   "outputs": [
    {
     "data": {
      "text/plain": [
       "[(-0.684, -0.0101], (-0.0101, 0.63], (-0.684, -0.0101], (-0.684, -0.0101], (0.63, 3.928], ..., (-0.0101, 0.63], (-0.684, -0.0101], (-2.9499999999999997, -0.684], (-0.0101, 0.63], (0.63, 3.928]]\n",
       "Length: 1000\n",
       "Categories (4, interval[float64, right]): [(-2.9499999999999997, -0.684] < (-0.684, -0.0101] < (-0.0101, 0.63] < (0.63, 3.928]]"
      ]
     },
     "execution_count": 31,
     "metadata": {},
     "output_type": "execute_result"
    }
   ],
   "source": [
    "\n",
    "bins = pd.qcut(draws, 4)\n",
    "\n",
    "bins"
   ]
  },
  {
   "cell_type": "code",
   "execution_count": 32,
   "id": "0d6b32a7-b9cc-4f12-b1ac-2df28af4ca4c",
   "metadata": {},
   "outputs": [
    {
     "data": {
      "text/plain": [
       "array([1, 2, 1, 1, 3, 3, 2, 2, 3, 3], dtype=int8)"
      ]
     },
     "execution_count": 32,
     "metadata": {},
     "output_type": "execute_result"
    }
   ],
   "source": [
    "# we can add labels to the quartiles, which is nice for plots or tables\n",
    "\n",
    "bins = pd.qcut(draws, 4, labels=['Q1', 'Q2', 'Q3', 'Q4'])\n",
    "\n",
    "bins.codes[:10]"
   ]
  },
  {
   "cell_type": "code",
   "execution_count": 33,
   "id": "5ece7429-92db-4a71-bd16-7d901cffb3ad",
   "metadata": {},
   "outputs": [
    {
     "data": {
      "text/html": [
       "<div>\n",
       "<style scoped>\n",
       "    .dataframe tbody tr th:only-of-type {\n",
       "        vertical-align: middle;\n",
       "    }\n",
       "\n",
       "    .dataframe tbody tr th {\n",
       "        vertical-align: top;\n",
       "    }\n",
       "\n",
       "    .dataframe thead th {\n",
       "        text-align: right;\n",
       "    }\n",
       "</style>\n",
       "<table border=\"1\" class=\"dataframe\">\n",
       "  <thead>\n",
       "    <tr style=\"text-align: right;\">\n",
       "      <th></th>\n",
       "      <th>quartile</th>\n",
       "      <th>count</th>\n",
       "      <th>min</th>\n",
       "      <th>max</th>\n",
       "    </tr>\n",
       "  </thead>\n",
       "  <tbody>\n",
       "    <tr>\n",
       "      <th>0</th>\n",
       "      <td>Q1</td>\n",
       "      <td>250</td>\n",
       "      <td>-2.949343</td>\n",
       "      <td>-0.685484</td>\n",
       "    </tr>\n",
       "    <tr>\n",
       "      <th>1</th>\n",
       "      <td>Q2</td>\n",
       "      <td>250</td>\n",
       "      <td>-0.683066</td>\n",
       "      <td>-0.010115</td>\n",
       "    </tr>\n",
       "    <tr>\n",
       "      <th>2</th>\n",
       "      <td>Q3</td>\n",
       "      <td>250</td>\n",
       "      <td>-0.010032</td>\n",
       "      <td>0.628894</td>\n",
       "    </tr>\n",
       "    <tr>\n",
       "      <th>3</th>\n",
       "      <td>Q4</td>\n",
       "      <td>250</td>\n",
       "      <td>0.634238</td>\n",
       "      <td>3.927528</td>\n",
       "    </tr>\n",
       "  </tbody>\n",
       "</table>\n",
       "</div>"
      ],
      "text/plain": [
       "  quartile  count       min       max\n",
       "0       Q1    250 -2.949343 -0.685484\n",
       "1       Q2    250 -0.683066 -0.010115\n",
       "2       Q3    250 -0.010032  0.628894\n",
       "3       Q4    250  0.634238  3.927528"
      ]
     },
     "execution_count": 33,
     "metadata": {},
     "output_type": "execute_result"
    }
   ],
   "source": [
    "# we can use groupby to extract some results about the nature of this binning\n",
    "\n",
    "bins = pd.Series(bins, name='quartile')\n",
    "\n",
    "# interesting construction here\n",
    "\n",
    "results = (pd.Series(draws).groupby(bins).agg(['count', 'min', 'max']).reset_index())\n",
    "results\n",
    "\n",
    "# note that the quartiles are ordered,  so the groupby uses that ordering of the category"
   ]
  },
  {
   "cell_type": "code",
   "execution_count": 34,
   "id": "70d28d4e-b12e-4785-939e-c7cfc70b5128",
   "metadata": {},
   "outputs": [
    {
     "data": {
      "text/html": [
       "<div>\n",
       "<style scoped>\n",
       "    .dataframe tbody tr th:only-of-type {\n",
       "        vertical-align: middle;\n",
       "    }\n",
       "\n",
       "    .dataframe tbody tr th {\n",
       "        vertical-align: top;\n",
       "    }\n",
       "\n",
       "    .dataframe thead th {\n",
       "        text-align: right;\n",
       "    }\n",
       "</style>\n",
       "<table border=\"1\" class=\"dataframe\">\n",
       "  <thead>\n",
       "    <tr style=\"text-align: right;\">\n",
       "      <th></th>\n",
       "      <th>count</th>\n",
       "      <th>min</th>\n",
       "      <th>max</th>\n",
       "    </tr>\n",
       "    <tr>\n",
       "      <th>quartile</th>\n",
       "      <th></th>\n",
       "      <th></th>\n",
       "      <th></th>\n",
       "    </tr>\n",
       "  </thead>\n",
       "  <tbody>\n",
       "    <tr>\n",
       "      <th>Q1</th>\n",
       "      <td>250</td>\n",
       "      <td>-2.949343</td>\n",
       "      <td>-0.685484</td>\n",
       "    </tr>\n",
       "    <tr>\n",
       "      <th>Q2</th>\n",
       "      <td>250</td>\n",
       "      <td>-0.683066</td>\n",
       "      <td>-0.010115</td>\n",
       "    </tr>\n",
       "    <tr>\n",
       "      <th>Q3</th>\n",
       "      <td>250</td>\n",
       "      <td>-0.010032</td>\n",
       "      <td>0.628894</td>\n",
       "    </tr>\n",
       "    <tr>\n",
       "      <th>Q4</th>\n",
       "      <td>250</td>\n",
       "      <td>0.634238</td>\n",
       "      <td>3.927528</td>\n",
       "    </tr>\n",
       "  </tbody>\n",
       "</table>\n",
       "</div>"
      ],
      "text/plain": [
       "          count       min       max\n",
       "quartile                           \n",
       "Q1          250 -2.949343 -0.685484\n",
       "Q2          250 -0.683066 -0.010115\n",
       "Q3          250 -0.010032  0.628894\n",
       "Q4          250  0.634238  3.927528"
      ]
     },
     "execution_count": 34,
     "metadata": {},
     "output_type": "execute_result"
    }
   ],
   "source": [
    "# it isn't clear to me what reset_index in the cell above does\n",
    "results = (pd.Series(draws).groupby(bins).agg(['count', 'min', 'max']))\n",
    "results"
   ]
  },
  {
   "cell_type": "markdown",
   "id": "8cf8634a-5d01-4405-a5ed-224cddfa4f71",
   "metadata": {},
   "source": [
    "## Memory usage\n",
    "\n",
    "we can see the savings in memory usage"
   ]
  },
  {
   "cell_type": "code",
   "execution_count": 26,
   "id": "2e7a731e-e241-4745-aed9-5793c02484fc",
   "metadata": {},
   "outputs": [],
   "source": [
    "N = 10000000\n",
    "\n",
    "draws = pd.Series(np.random.randn(N))\n",
    "\n",
    "labels = pd.Series(['foo', 'bar', 'baz', 'qux'] * (N // 4))\n",
    "\n",
    "# category version of the results\n",
    "categories = labels.astype('category')"
   ]
  },
  {
   "cell_type": "code",
   "execution_count": 28,
   "id": "0a9606fb-4a66-4c80-96cf-f6d531e68f89",
   "metadata": {},
   "outputs": [
    {
     "name": "stdout",
     "output_type": "stream",
     "text": [
      "80000128\n",
      "10000332\n"
     ]
    }
   ],
   "source": [
    "print(labels.memory_usage())\n",
    "\n",
    "print(categories.memory_usage())"
   ]
  },
  {
   "cell_type": "markdown",
   "id": "b40a0a99-e6ef-4b9a-b025-88133c9994d8",
   "metadata": {},
   "source": [
    "## Categorical methods\n",
    "\n",
    "There are specialized categorical methods that can be accessed using the special attribute cat"
   ]
  },
  {
   "cell_type": "code",
   "execution_count": 35,
   "id": "ed823523-3fab-4cbe-83c6-4c93c2c1016c",
   "metadata": {},
   "outputs": [
    {
     "data": {
      "text/plain": [
       "0    a\n",
       "1    b\n",
       "2    c\n",
       "3    d\n",
       "4    a\n",
       "5    b\n",
       "6    c\n",
       "7    d\n",
       "dtype: category\n",
       "Categories (4, object): ['a', 'b', 'c', 'd']"
      ]
     },
     "execution_count": 35,
     "metadata": {},
     "output_type": "execute_result"
    }
   ],
   "source": [
    "s = pd.Series(['a', 'b', 'c', 'd'] * 2)\n",
    "cat_s = s.astype('category')\n",
    "cat_s"
   ]
  },
  {
   "cell_type": "code",
   "execution_count": 36,
   "id": "19b73f64-cc74-4cfd-a2ce-8b32a7243a0e",
   "metadata": {},
   "outputs": [
    {
     "data": {
      "text/plain": [
       "0    0\n",
       "1    1\n",
       "2    2\n",
       "3    3\n",
       "4    0\n",
       "5    1\n",
       "6    2\n",
       "7    3\n",
       "dtype: int8"
      ]
     },
     "execution_count": 36,
     "metadata": {},
     "output_type": "execute_result"
    }
   ],
   "source": [
    "# see the underlying codes\n",
    "cat_s.cat.codes"
   ]
  },
  {
   "cell_type": "markdown",
   "id": "3bbecaf1-18d3-44de-99f0-3db0790d7b4b",
   "metadata": {},
   "source": [
    "If we knew that this categories had multiple categories that did not appear in our dataset,  we can add more category entries"
   ]
  },
  {
   "cell_type": "code",
   "execution_count": 37,
   "id": "faa784ab-fc7f-4fba-b80a-140193506051",
   "metadata": {},
   "outputs": [
    {
     "data": {
      "text/plain": [
       "0    a\n",
       "1    b\n",
       "2    c\n",
       "3    d\n",
       "4    a\n",
       "5    b\n",
       "6    c\n",
       "7    d\n",
       "dtype: category\n",
       "Categories (5, object): ['a', 'b', 'c', 'd', 'e']"
      ]
     },
     "execution_count": 37,
     "metadata": {},
     "output_type": "execute_result"
    }
   ],
   "source": [
    "actual_categories = ['a', 'b', 'c', 'd', 'e']\n",
    "cat_s2 = cat_s.cat.set_categories(actual_categories)\n",
    "cat_s2"
   ]
  },
  {
   "cell_type": "code",
   "execution_count": 38,
   "id": "be1568b7-d428-4758-9e22-0fd09608924d",
   "metadata": {},
   "outputs": [
    {
     "name": "stdout",
     "output_type": "stream",
     "text": [
      "a    2\n",
      "b    2\n",
      "c    2\n",
      "d    2\n",
      "dtype: int64\n",
      "a    2\n",
      "b    2\n",
      "c    2\n",
      "d    2\n",
      "e    0\n",
      "dtype: int64\n"
     ]
    }
   ],
   "source": [
    "print(cat_s.value_counts())\n",
    "\n",
    "print(cat_s2.value_counts())"
   ]
  },
  {
   "cell_type": "code",
   "execution_count": 39,
   "id": "59acfc7b-57ee-4bfa-987a-83c1e304029e",
   "metadata": {},
   "outputs": [
    {
     "data": {
      "text/plain": [
       "0    a\n",
       "1    b\n",
       "4    a\n",
       "5    b\n",
       "dtype: category\n",
       "Categories (4, object): ['a', 'b', 'c', 'd']"
      ]
     },
     "execution_count": 39,
     "metadata": {},
     "output_type": "execute_result"
    }
   ],
   "source": [
    "# selecting only specific entries, using isin\n",
    "\n",
    "cat_s3 = cat_s[cat_s.isin(['a', 'b'])]\n",
    "\n",
    "cat_s3"
   ]
  },
  {
   "cell_type": "code",
   "execution_count": 42,
   "id": "348d21e6-dce7-493c-b3db-172d96333303",
   "metadata": {},
   "outputs": [
    {
     "data": {
      "text/plain": [
       "0    a\n",
       "1    b\n",
       "4    a\n",
       "5    b\n",
       "dtype: category\n",
       "Categories (2, object): ['a', 'b']"
      ]
     },
     "execution_count": 42,
     "metadata": {},
     "output_type": "execute_result"
    }
   ],
   "source": [
    "# note that the variable cat_s3 has only the set of two categories,  a,b but lists all four possible category levels a,b,c,d\n",
    "\n",
    "# we can clean this up\n",
    "\n",
    "# removing unused categories\n",
    "\n",
    "cat_s3.cat.remove_unused_categories()"
   ]
  },
  {
   "cell_type": "markdown",
   "id": "26460b34-e8ad-4b1d-aaa0-7cebe1bda856",
   "metadata": {},
   "source": [
    "## Creating Dummy variable or One-hot encoding from a category\n"
   ]
  },
  {
   "cell_type": "code",
   "execution_count": 43,
   "id": "a583c503-f90e-42ea-b692-7c9356f13364",
   "metadata": {},
   "outputs": [
    {
     "data": {
      "text/plain": [
       "0    a\n",
       "1    b\n",
       "2    c\n",
       "3    d\n",
       "4    a\n",
       "5    b\n",
       "6    c\n",
       "7    d\n",
       "dtype: category\n",
       "Categories (4, object): ['a', 'b', 'c', 'd']"
      ]
     },
     "execution_count": 43,
     "metadata": {},
     "output_type": "execute_result"
    }
   ],
   "source": [
    "cat_s = pd.Series(['a', 'b', 'c', 'd'] * 2, dtype='category')\n",
    "cat_s"
   ]
  },
  {
   "cell_type": "code",
   "execution_count": 44,
   "id": "05674472-534b-4f2d-9a2d-f9779fe036c1",
   "metadata": {},
   "outputs": [
    {
     "data": {
      "text/html": [
       "<div>\n",
       "<style scoped>\n",
       "    .dataframe tbody tr th:only-of-type {\n",
       "        vertical-align: middle;\n",
       "    }\n",
       "\n",
       "    .dataframe tbody tr th {\n",
       "        vertical-align: top;\n",
       "    }\n",
       "\n",
       "    .dataframe thead th {\n",
       "        text-align: right;\n",
       "    }\n",
       "</style>\n",
       "<table border=\"1\" class=\"dataframe\">\n",
       "  <thead>\n",
       "    <tr style=\"text-align: right;\">\n",
       "      <th></th>\n",
       "      <th>a</th>\n",
       "      <th>b</th>\n",
       "      <th>c</th>\n",
       "      <th>d</th>\n",
       "    </tr>\n",
       "  </thead>\n",
       "  <tbody>\n",
       "    <tr>\n",
       "      <th>0</th>\n",
       "      <td>1</td>\n",
       "      <td>0</td>\n",
       "      <td>0</td>\n",
       "      <td>0</td>\n",
       "    </tr>\n",
       "    <tr>\n",
       "      <th>1</th>\n",
       "      <td>0</td>\n",
       "      <td>1</td>\n",
       "      <td>0</td>\n",
       "      <td>0</td>\n",
       "    </tr>\n",
       "    <tr>\n",
       "      <th>2</th>\n",
       "      <td>0</td>\n",
       "      <td>0</td>\n",
       "      <td>1</td>\n",
       "      <td>0</td>\n",
       "    </tr>\n",
       "    <tr>\n",
       "      <th>3</th>\n",
       "      <td>0</td>\n",
       "      <td>0</td>\n",
       "      <td>0</td>\n",
       "      <td>1</td>\n",
       "    </tr>\n",
       "    <tr>\n",
       "      <th>4</th>\n",
       "      <td>1</td>\n",
       "      <td>0</td>\n",
       "      <td>0</td>\n",
       "      <td>0</td>\n",
       "    </tr>\n",
       "    <tr>\n",
       "      <th>5</th>\n",
       "      <td>0</td>\n",
       "      <td>1</td>\n",
       "      <td>0</td>\n",
       "      <td>0</td>\n",
       "    </tr>\n",
       "    <tr>\n",
       "      <th>6</th>\n",
       "      <td>0</td>\n",
       "      <td>0</td>\n",
       "      <td>1</td>\n",
       "      <td>0</td>\n",
       "    </tr>\n",
       "    <tr>\n",
       "      <th>7</th>\n",
       "      <td>0</td>\n",
       "      <td>0</td>\n",
       "      <td>0</td>\n",
       "      <td>1</td>\n",
       "    </tr>\n",
       "  </tbody>\n",
       "</table>\n",
       "</div>"
      ],
      "text/plain": [
       "   a  b  c  d\n",
       "0  1  0  0  0\n",
       "1  0  1  0  0\n",
       "2  0  0  1  0\n",
       "3  0  0  0  1\n",
       "4  1  0  0  0\n",
       "5  0  1  0  0\n",
       "6  0  0  1  0\n",
       "7  0  0  0  1"
      ]
     },
     "execution_count": 44,
     "metadata": {},
     "output_type": "execute_result"
    }
   ],
   "source": [
    "pd.get_dummies(cat_s)"
   ]
  },
  {
   "cell_type": "code",
   "execution_count": null,
   "id": "cd32cb73-d5ff-4306-a760-0c9c1f701d99",
   "metadata": {},
   "outputs": [],
   "source": []
  }
 ],
 "metadata": {
  "kernelspec": {
   "display_name": "Python 3 (ipykernel)",
   "language": "python",
   "name": "python3"
  },
  "language_info": {
   "codemirror_mode": {
    "name": "ipython",
    "version": 3
   },
   "file_extension": ".py",
   "mimetype": "text/x-python",
   "name": "python",
   "nbconvert_exporter": "python",
   "pygments_lexer": "ipython3",
   "version": "3.9.7"
  }
 },
 "nbformat": 4,
 "nbformat_minor": 5
}
