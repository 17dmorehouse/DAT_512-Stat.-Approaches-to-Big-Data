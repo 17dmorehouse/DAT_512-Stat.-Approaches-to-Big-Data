{
 "cells": [
  {
   "cell_type": "markdown",
   "id": "0f7826ad-8878-4033-b471-863776d7c392",
   "metadata": {},
   "source": [
    "# Tables and Grouping with the Buffalo Assessment Data"
   ]
  },
  {
   "cell_type": "code",
   "execution_count": 2,
   "id": "c69aa6b2-a23d-44e1-a8c1-1bb643f18a64",
   "metadata": {},
   "outputs": [],
   "source": [
    "import pandas as pd\n",
    "import numpy as np\n",
    "import matplotlib.pyplot as plt\n",
    "import seaborn as sns"
   ]
  },
  {
   "cell_type": "code",
   "execution_count": 3,
   "id": "895fbd17-bd66-41fb-92de-a29bf3b93a84",
   "metadata": {},
   "outputs": [],
   "source": [
    "# load up the Buffalo Assessment Data set\n",
    "\n",
    "url=\"https://data.buffalony.gov/resource/kckn-jafw.csv\"\n",
    "\n",
    "bfdat=pd.read_csv(url)"
   ]
  },
  {
   "cell_type": "code",
   "execution_count": 4,
   "id": "b7219871-aaeb-41ce-85c8-701f515d3ab8",
   "metadata": {},
   "outputs": [
    {
     "data": {
      "text/html": [
       "<div>\n",
       "<style scoped>\n",
       "    .dataframe tbody tr th:only-of-type {\n",
       "        vertical-align: middle;\n",
       "    }\n",
       "\n",
       "    .dataframe tbody tr th {\n",
       "        vertical-align: top;\n",
       "    }\n",
       "\n",
       "    .dataframe thead th {\n",
       "        text-align: right;\n",
       "    }\n",
       "</style>\n",
       "<table border=\"1\" class=\"dataframe\">\n",
       "  <thead>\n",
       "    <tr style=\"text-align: right;\">\n",
       "      <th></th>\n",
       "      <th>sbl</th>\n",
       "      <th>swis</th>\n",
       "      <th>printkey</th>\n",
       "      <th>front</th>\n",
       "      <th>depth</th>\n",
       "      <th>propclass</th>\n",
       "      <th>desc1</th>\n",
       "      <th>propclassprev</th>\n",
       "      <th>owner1</th>\n",
       "      <th>owner2</th>\n",
       "      <th>...</th>\n",
       "      <th>no_of_kitchens</th>\n",
       "      <th>council_district</th>\n",
       "      <th>police_district</th>\n",
       "      <th>census_tract</th>\n",
       "      <th>census_block_group</th>\n",
       "      <th>census_block</th>\n",
       "      <th>neighborhood</th>\n",
       "      <th>latitude</th>\n",
       "      <th>longitude</th>\n",
       "      <th>geocoded_column</th>\n",
       "    </tr>\n",
       "  </thead>\n",
       "  <tbody>\n",
       "    <tr>\n",
       "      <th>0</th>\n",
       "      <td>1113100012001122A</td>\n",
       "      <td>147003.0</td>\n",
       "      <td>111.31-12-1.122/A</td>\n",
       "      <td>0.00</td>\n",
       "      <td>0.00</td>\n",
       "      <td>873</td>\n",
       "      <td>GAS MEAS STATION</td>\n",
       "      <td>873.0</td>\n",
       "      <td>NATIONAL FUEL GAS DIST</td>\n",
       "      <td>CORP</td>\n",
       "      <td>...</td>\n",
       "      <td>NaN</td>\n",
       "      <td>NaN</td>\n",
       "      <td>NaN</td>\n",
       "      <td>NaN</td>\n",
       "      <td>NaN</td>\n",
       "      <td>NaN</td>\n",
       "      <td>NaN</td>\n",
       "      <td>NaN</td>\n",
       "      <td>NaN</td>\n",
       "      <td>NaN</td>\n",
       "    </tr>\n",
       "    <tr>\n",
       "      <th>1</th>\n",
       "      <td>1011500001001111</td>\n",
       "      <td>147012.0</td>\n",
       "      <td>101.15-1-1.111</td>\n",
       "      <td>0.00</td>\n",
       "      <td>0.00</td>\n",
       "      <td>330</td>\n",
       "      <td>COMMERCIAL VACANT LAND</td>\n",
       "      <td>330.0</td>\n",
       "      <td>AROUND THE CLOCK CAR WASH,INC.</td>\n",
       "      <td>NaN</td>\n",
       "      <td>...</td>\n",
       "      <td>NaN</td>\n",
       "      <td>NaN</td>\n",
       "      <td>NaN</td>\n",
       "      <td>NaN</td>\n",
       "      <td>NaN</td>\n",
       "      <td>NaN</td>\n",
       "      <td>NaN</td>\n",
       "      <td>NaN</td>\n",
       "      <td>NaN</td>\n",
       "      <td>NaN</td>\n",
       "    </tr>\n",
       "    <tr>\n",
       "      <th>2</th>\n",
       "      <td>0785000008001000</td>\n",
       "      <td>147009.0</td>\n",
       "      <td>78.50-8-1</td>\n",
       "      <td>65.00</td>\n",
       "      <td>82.57</td>\n",
       "      <td>311</td>\n",
       "      <td>RESIDENTIAL VACANT LAND</td>\n",
       "      <td>NaN</td>\n",
       "      <td>THE MARRANO/MARC-EQUITY CORP.</td>\n",
       "      <td>NaN</td>\n",
       "      <td>...</td>\n",
       "      <td>NaN</td>\n",
       "      <td>NaN</td>\n",
       "      <td>NaN</td>\n",
       "      <td>NaN</td>\n",
       "      <td>NaN</td>\n",
       "      <td>NaN</td>\n",
       "      <td>NaN</td>\n",
       "      <td>NaN</td>\n",
       "      <td>NaN</td>\n",
       "      <td>NaN</td>\n",
       "    </tr>\n",
       "    <tr>\n",
       "      <th>3</th>\n",
       "      <td>1007300008009111</td>\n",
       "      <td>147003.0</td>\n",
       "      <td>100.73-8-9.111</td>\n",
       "      <td>50.00</td>\n",
       "      <td>200.00</td>\n",
       "      <td>311</td>\n",
       "      <td>RESIDENTIAL VACANT LAND</td>\n",
       "      <td>311.0</td>\n",
       "      <td>MARIAH LORETTA LLC</td>\n",
       "      <td>NaN</td>\n",
       "      <td>...</td>\n",
       "      <td>NaN</td>\n",
       "      <td>NaN</td>\n",
       "      <td>NaN</td>\n",
       "      <td>NaN</td>\n",
       "      <td>NaN</td>\n",
       "      <td>NaN</td>\n",
       "      <td>NaN</td>\n",
       "      <td>NaN</td>\n",
       "      <td>NaN</td>\n",
       "      <td>NaN</td>\n",
       "    </tr>\n",
       "    <tr>\n",
       "      <th>4</th>\n",
       "      <td>1321500002004000</td>\n",
       "      <td>147013.0</td>\n",
       "      <td>132.15-2-4</td>\n",
       "      <td>521.34</td>\n",
       "      <td>1184.60</td>\n",
       "      <td>340</td>\n",
       "      <td>INDUSTRIAL VACANT LAND</td>\n",
       "      <td>340.0</td>\n",
       "      <td>BUFFALO URBAN DEVELOPMENT CORP</td>\n",
       "      <td>NaN</td>\n",
       "      <td>...</td>\n",
       "      <td>NaN</td>\n",
       "      <td>NaN</td>\n",
       "      <td>NaN</td>\n",
       "      <td>NaN</td>\n",
       "      <td>NaN</td>\n",
       "      <td>NaN</td>\n",
       "      <td>NaN</td>\n",
       "      <td>NaN</td>\n",
       "      <td>NaN</td>\n",
       "      <td>NaN</td>\n",
       "    </tr>\n",
       "  </tbody>\n",
       "</table>\n",
       "<p>5 rows × 51 columns</p>\n",
       "</div>"
      ],
      "text/plain": [
       "                 sbl      swis           printkey   front    depth  propclass  \\\n",
       "0  1113100012001122A  147003.0  111.31-12-1.122/A    0.00     0.00        873   \n",
       "1   1011500001001111  147012.0     101.15-1-1.111    0.00     0.00        330   \n",
       "2   0785000008001000  147009.0          78.50-8-1   65.00    82.57        311   \n",
       "3   1007300008009111  147003.0     100.73-8-9.111   50.00   200.00        311   \n",
       "4   1321500002004000  147013.0         132.15-2-4  521.34  1184.60        340   \n",
       "\n",
       "                     desc1  propclassprev                          owner1  \\\n",
       "0         GAS MEAS STATION          873.0          NATIONAL FUEL GAS DIST   \n",
       "1   COMMERCIAL VACANT LAND          330.0  AROUND THE CLOCK CAR WASH,INC.   \n",
       "2  RESIDENTIAL VACANT LAND            NaN   THE MARRANO/MARC-EQUITY CORP.   \n",
       "3  RESIDENTIAL VACANT LAND          311.0              MARIAH LORETTA LLC   \n",
       "4   INDUSTRIAL VACANT LAND          340.0  BUFFALO URBAN DEVELOPMENT CORP   \n",
       "\n",
       "  owner2  ...  no_of_kitchens council_district police_district census_tract  \\\n",
       "0   CORP  ...             NaN              NaN             NaN          NaN   \n",
       "1    NaN  ...             NaN              NaN             NaN          NaN   \n",
       "2    NaN  ...             NaN              NaN             NaN          NaN   \n",
       "3    NaN  ...             NaN              NaN             NaN          NaN   \n",
       "4    NaN  ...             NaN              NaN             NaN          NaN   \n",
       "\n",
       "  census_block_group  census_block neighborhood latitude longitude  \\\n",
       "0                NaN           NaN          NaN      NaN       NaN   \n",
       "1                NaN           NaN          NaN      NaN       NaN   \n",
       "2                NaN           NaN          NaN      NaN       NaN   \n",
       "3                NaN           NaN          NaN      NaN       NaN   \n",
       "4                NaN           NaN          NaN      NaN       NaN   \n",
       "\n",
       "  geocoded_column  \n",
       "0             NaN  \n",
       "1             NaN  \n",
       "2             NaN  \n",
       "3             NaN  \n",
       "4             NaN  \n",
       "\n",
       "[5 rows x 51 columns]"
      ]
     },
     "execution_count": 4,
     "metadata": {},
     "output_type": "execute_result"
    }
   ],
   "source": [
    "bfdat.head()"
   ]
  },
  {
   "cell_type": "code",
   "execution_count": 7,
   "id": "2cab95a8-a7d0-40e2-b9ac-035ce2228e94",
   "metadata": {},
   "outputs": [
    {
     "data": {
      "text/plain": [
       "Index(['sbl', 'swis', 'printkey', 'front', 'depth', 'propclass', 'desc1',\n",
       "       'propclassprev', 'owner1', 'owner2', 'previous_owner', 'mail1', 'mail2',\n",
       "       'mail3', 'mail4', 'hsenofr', 'street', 'address', 'city', 'state',\n",
       "       'propzip5', 'propzip4', 'deedbook', 'deedpage', 'deeddate', 'roll',\n",
       "       'landval', 'totalval', 'saleprice', 'yrblt', 'first_story_area',\n",
       "       'second_story_area', 'totallivarea', 'ovrallcon', 'bldgstyle',\n",
       "       'heattype', 'basetype', 'no_of_stories', 'nofirepl', 'nobed', 'nobath',\n",
       "       'no_of_kitchens', 'council_district', 'police_district', 'census_tract',\n",
       "       'census_block_group', 'census_block', 'neighborhood', 'latitude',\n",
       "       'longitude', 'geocoded_column'],\n",
       "      dtype='object')"
      ]
     },
     "execution_count": 7,
     "metadata": {},
     "output_type": "execute_result"
    }
   ],
   "source": [
    "bfdat.columns"
   ]
  },
  {
   "cell_type": "markdown",
   "id": "3b6e0486-1f6b-4de9-b966-8e579b2bdc44",
   "metadata": {},
   "source": [
    "# task 1\n",
    "\n",
    "set up the council_district,  police_district, census_tract, census_block_group, census_block and neighborhood as categorical variables\n",
    "\n",
    "Do this with propclass and desc1 as well"
   ]
  },
  {
   "cell_type": "markdown",
   "id": "7cbcca0c-9ad7-49dc-9d05-e70f9209dc15",
   "metadata": {},
   "source": [
    "# task 2\n",
    "\n",
    "How many desc1 values are there?\n",
    "\n",
    "How many propclasses are there?\n",
    "\n",
    "Can we hope to use either of these as categorical descriptors?  or are there two many categories?"
   ]
  },
  {
   "cell_type": "markdown",
   "id": "99bf0854-e26b-44ef-aaa2-b1031fc61381",
   "metadata": {},
   "source": [
    "# task 3\n",
    "\n",
    "Generate lists of the counts within each level of the desc1 values and the propclasses values\n",
    "\n",
    "How many of the levels within these desc1 and propclasses columns have a count less that 5?,  less than 10?\n",
    "\n",
    "Pick at threshold count and set all desc1 and propclass values below the threshould to \"other\".    What hapens if the threshold \n",
    "you pick is too low?  If it is too high?    How could you decide where to set this threshold.   Explain your reasoning"
   ]
  },
  {
   "cell_type": "markdown",
   "id": "aa2ce5a0-2ffe-415e-bcef-c6f3b2148c60",
   "metadata": {},
   "source": [
    "# task four\n",
    "\n",
    "Let's do counts of the desc1 or propclass (whichever is usable) by council district   \n",
    "\n",
    "Produce a reasonably readable table,  showing marginal counts"
   ]
  },
  {
   "cell_type": "markdown",
   "id": "63ef0a83-714f-4afa-9c9c-fcf49eb643ee",
   "metadata": {},
   "source": [
    "# 5.) basic Groupby\n",
    "\n",
    "Let's group by council district and neighborhood and get the count of properties and the median total value of properties within\n",
    "these groupings"
   ]
  },
  {
   "cell_type": "markdown",
   "id": "95d70e18-c1ba-45ee-989e-6d1ebeffc0cc",
   "metadata": {},
   "source": [
    "# 6.)  more basic groupby,   let's try count and median total value using neighborhood, census block group and census block"
   ]
  },
  {
   "cell_type": "markdown",
   "id": "a8316790-7015-4899-8242-15d988cd98e2",
   "metadata": {},
   "source": [
    "# 7 plot a point for each lat and long value,  color coding by neighborhood, to make a rough map"
   ]
  },
  {
   "cell_type": "markdown",
   "id": "f80275a9-359d-47a8-855f-561dbd0aa73a",
   "metadata": {
    "tags": []
   },
   "source": [
    "#8 for each census block,  find the median total value.    Break these values up into 10 bins using cut or qcut\n",
    "Plot lat and long values color coded by the binned value of the median value within the census block that lat and long belong to\n"
   ]
  },
  {
   "cell_type": "code",
   "execution_count": null,
   "id": "000fe1a1-2295-45dd-b74c-0c9373c5b386",
   "metadata": {},
   "outputs": [],
   "source": []
  }
 ],
 "metadata": {
  "kernelspec": {
   "display_name": "Python 3 (ipykernel)",
   "language": "python",
   "name": "python3"
  },
  "language_info": {
   "codemirror_mode": {
    "name": "ipython",
    "version": 3
   },
   "file_extension": ".py",
   "mimetype": "text/x-python",
   "name": "python",
   "nbconvert_exporter": "python",
   "pygments_lexer": "ipython3",
   "version": "3.9.7"
  }
 },
 "nbformat": 4,
 "nbformat_minor": 5
}
