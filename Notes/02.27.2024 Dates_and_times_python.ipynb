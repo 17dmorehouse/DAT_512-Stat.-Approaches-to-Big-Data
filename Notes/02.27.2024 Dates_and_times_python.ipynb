{
 "cells": [
  {
   "cell_type": "markdown",
   "id": "bf6f41b5-861d-41c8-820c-449acc1b1f00",
   "metadata": {},
   "source": [
    "# Dates and Times in Python\n",
    "\n",
    "See appendix a of \"Python for Finance, 2nd Edition\",  Hilpisch O'Reilly"
   ]
  },
  {
   "cell_type": "code",
   "execution_count": 1,
   "id": "3d037e98-2287-4556-a8a4-4982ee16bbc0",
   "metadata": {},
   "outputs": [],
   "source": [
    "import matplotlib.pyplot as plt\n",
    "import seaborn as sns\n",
    "import numpy as np\n",
    "import pandas as pd\n",
    "import datetime as dt"
   ]
  },
  {
   "cell_type": "markdown",
   "id": "df7cb21e-9b1a-4254-9fb9-73f6f2f90c0a",
   "metadata": {},
   "source": [
    "## Extracting values from a datetime variable"
   ]
  },
  {
   "cell_type": "code",
   "execution_count": 2,
   "id": "05891ffb-40c6-40ce-b5c0-d93322621859",
   "metadata": {},
   "outputs": [
    {
     "data": {
      "text/plain": [
       "datetime.datetime(2024, 2, 27, 19, 29, 32, 48551)"
      ]
     },
     "execution_count": 2,
     "metadata": {},
     "output_type": "execute_result"
    }
   ],
   "source": [
    "dt.datetime.now()"
   ]
  },
  {
   "cell_type": "code",
   "execution_count": 3,
   "id": "7244eac8-4129-45e5-a2b1-4d27fba1960f",
   "metadata": {},
   "outputs": [
    {
     "data": {
      "text/plain": [
       "datetime.datetime(2024, 2, 27, 19, 29, 32, 90245)"
      ]
     },
     "execution_count": 3,
     "metadata": {},
     "output_type": "execute_result"
    }
   ],
   "source": [
    "to2=dt.datetime.today()\n",
    "to2"
   ]
  },
  {
   "cell_type": "code",
   "execution_count": 4,
   "id": "9624dee7-4a13-4c73-816e-f5be99d6dd0e",
   "metadata": {},
   "outputs": [
    {
     "data": {
      "text/plain": [
       "datetime.datetime"
      ]
     },
     "execution_count": 4,
     "metadata": {},
     "output_type": "execute_result"
    }
   ],
   "source": [
    "type(to2)"
   ]
  },
  {
   "cell_type": "code",
   "execution_count": 6,
   "id": "1bdd51d3-6b41-41e9-b449-b6ff30e91a9d",
   "metadata": {},
   "outputs": [
    {
     "data": {
      "text/plain": [
       "['__add__',\n",
       " '__class__',\n",
       " '__delattr__',\n",
       " '__dir__',\n",
       " '__doc__',\n",
       " '__eq__',\n",
       " '__format__',\n",
       " '__ge__',\n",
       " '__getattribute__',\n",
       " '__getstate__',\n",
       " '__gt__',\n",
       " '__hash__',\n",
       " '__init__',\n",
       " '__init_subclass__',\n",
       " '__le__',\n",
       " '__lt__',\n",
       " '__ne__',\n",
       " '__new__',\n",
       " '__radd__',\n",
       " '__reduce__',\n",
       " '__reduce_ex__',\n",
       " '__repr__',\n",
       " '__rsub__',\n",
       " '__setattr__',\n",
       " '__sizeof__',\n",
       " '__str__',\n",
       " '__sub__',\n",
       " '__subclasshook__',\n",
       " 'astimezone',\n",
       " 'combine',\n",
       " 'ctime',\n",
       " 'date',\n",
       " 'day',\n",
       " 'dst',\n",
       " 'fold',\n",
       " 'fromisocalendar',\n",
       " 'fromisoformat',\n",
       " 'fromordinal',\n",
       " 'fromtimestamp',\n",
       " 'hour',\n",
       " 'isocalendar',\n",
       " 'isoformat',\n",
       " 'isoweekday',\n",
       " 'max',\n",
       " 'microsecond',\n",
       " 'min',\n",
       " 'minute',\n",
       " 'month',\n",
       " 'now',\n",
       " 'replace',\n",
       " 'resolution',\n",
       " 'second',\n",
       " 'strftime',\n",
       " 'strptime',\n",
       " 'time',\n",
       " 'timestamp',\n",
       " 'timetuple',\n",
       " 'timetz',\n",
       " 'today',\n",
       " 'toordinal',\n",
       " 'tzinfo',\n",
       " 'tzname',\n",
       " 'utcfromtimestamp',\n",
       " 'utcnow',\n",
       " 'utcoffset',\n",
       " 'utctimetuple',\n",
       " 'weekday',\n",
       " 'year']"
      ]
     },
     "execution_count": 6,
     "metadata": {},
     "output_type": "execute_result"
    }
   ],
   "source": [
    "dir(to2)"
   ]
  },
  {
   "cell_type": "code",
   "execution_count": 8,
   "id": "1aa55b31-c823-4a2c-b108-59147d4d628f",
   "metadata": {},
   "outputs": [
    {
     "data": {
      "text/plain": [
       "27"
      ]
     },
     "execution_count": 8,
     "metadata": {},
     "output_type": "execute_result"
    }
   ],
   "source": [
    "to2.day"
   ]
  },
  {
   "cell_type": "code",
   "execution_count": 9,
   "id": "d420e4f3-0eb9-49a6-9d15-3498fa7ad28c",
   "metadata": {},
   "outputs": [
    {
     "data": {
      "text/plain": [
       "2"
      ]
     },
     "execution_count": 9,
     "metadata": {},
     "output_type": "execute_result"
    }
   ],
   "source": [
    "to2.month"
   ]
  },
  {
   "cell_type": "code",
   "execution_count": 10,
   "id": "99df27ce-1fdd-4f0c-863f-361da31d0d3d",
   "metadata": {},
   "outputs": [
    {
     "data": {
      "text/plain": [
       "2024"
      ]
     },
     "execution_count": 10,
     "metadata": {},
     "output_type": "execute_result"
    }
   ],
   "source": [
    "to2.year"
   ]
  },
  {
   "cell_type": "code",
   "execution_count": 11,
   "id": "7865bdbc-9b2a-40c2-a47a-29452624f614",
   "metadata": {},
   "outputs": [
    {
     "data": {
      "text/plain": [
       "1"
      ]
     },
     "execution_count": 11,
     "metadata": {},
     "output_type": "execute_result"
    }
   ],
   "source": [
    "to2.weekday()"
   ]
  },
  {
   "cell_type": "code",
   "execution_count": 12,
   "id": "5451807b-47ff-4106-a667-d7db1a26343b",
   "metadata": {},
   "outputs": [
    {
     "data": {
      "text/plain": [
       "'2024-02-27 19:29:32.090245'"
      ]
     },
     "execution_count": 12,
     "metadata": {},
     "output_type": "execute_result"
    }
   ],
   "source": [
    "str(to2)"
   ]
  },
  {
   "cell_type": "code",
   "execution_count": 13,
   "id": "0c648aac-20df-401c-80da-edc783a20807",
   "metadata": {},
   "outputs": [
    {
     "name": "stdout",
     "output_type": "stream",
     "text": [
      "2024-02-27 19:29:32.090245\n"
     ]
    }
   ],
   "source": [
    "print(to2)"
   ]
  },
  {
   "cell_type": "code",
   "execution_count": 14,
   "id": "87895ecf-8c6c-4ade-aceb-1d9663bbebf4",
   "metadata": {},
   "outputs": [
    {
     "data": {
      "text/plain": [
       "19"
      ]
     },
     "execution_count": 14,
     "metadata": {},
     "output_type": "execute_result"
    }
   ],
   "source": [
    "to2.hour"
   ]
  },
  {
   "cell_type": "code",
   "execution_count": 15,
   "id": "3c06b06b-423e-48c4-8c69-74b9a1371a37",
   "metadata": {},
   "outputs": [
    {
     "data": {
      "text/plain": [
       "datetime.time(19, 29, 32, 90245)"
      ]
     },
     "execution_count": 15,
     "metadata": {},
     "output_type": "execute_result"
    }
   ],
   "source": [
    "to2.time()"
   ]
  },
  {
   "cell_type": "code",
   "execution_count": 16,
   "id": "963c4d15-885c-458c-8391-6efa0c5898a4",
   "metadata": {},
   "outputs": [
    {
     "data": {
      "text/plain": [
       "datetime.date(2024, 2, 27)"
      ]
     },
     "execution_count": 16,
     "metadata": {},
     "output_type": "execute_result"
    }
   ],
   "source": [
    "to2.date()"
   ]
  },
  {
   "cell_type": "code",
   "execution_count": 17,
   "id": "39d95916-323c-4cd2-9ef2-9c898f929e4b",
   "metadata": {},
   "outputs": [
    {
     "data": {
      "text/plain": [
       "738943"
      ]
     },
     "execution_count": 17,
     "metadata": {},
     "output_type": "execute_result"
    }
   ],
   "source": [
    "# ordinal???  This is the day count from 01/01/10\n",
    "\n",
    "to2.toordinal()"
   ]
  },
  {
   "cell_type": "code",
   "execution_count": 18,
   "id": "ae146a6e-2b8c-4cb0-b390-a66665cdfddd",
   "metadata": {},
   "outputs": [
    {
     "data": {
      "text/plain": [
       "datetime.datetime(2022, 2, 24, 0, 0)"
      ]
     },
     "execution_count": 18,
     "metadata": {},
     "output_type": "execute_result"
    }
   ],
   "source": [
    "dt.datetime.fromordinal(738210)"
   ]
  },
  {
   "cell_type": "code",
   "execution_count": 19,
   "id": "b2d50491-aea9-478c-96d0-c475f39951cf",
   "metadata": {},
   "outputs": [
    {
     "data": {
      "text/plain": [
       "'02 Feb 2024'"
      ]
     },
     "execution_count": 19,
     "metadata": {},
     "output_type": "execute_result"
    }
   ],
   "source": [
    "# conversion of a datatime to a string is done using strftime,  with the data and a conversion format string that allows \n",
    "# extraction of various forms of the date and/or time\n",
    "\n",
    "dt.datetime.strftime(to2,\"%m %b %Y\")"
   ]
  },
  {
   "cell_type": "code",
   "execution_count": 20,
   "id": "09b0943c-8add-4f6e-b3c6-7b0a2dedd95a",
   "metadata": {},
   "outputs": [
    {
     "data": {
      "text/plain": [
       "'Tue 02 Feb 2024'"
      ]
     },
     "execution_count": 20,
     "metadata": {},
     "output_type": "execute_result"
    }
   ],
   "source": [
    "dt.datetime.strftime(to2,\"%a %m %b %Y\")"
   ]
  },
  {
   "cell_type": "code",
   "execution_count": 21,
   "id": "9531cc21-19f3-48c6-8fd1-215b163ce749",
   "metadata": {},
   "outputs": [
    {
     "data": {
      "text/plain": [
       "'Tue'"
      ]
     },
     "execution_count": 21,
     "metadata": {},
     "output_type": "execute_result"
    }
   ],
   "source": [
    "dt.datetime.strftime(to2,\"%a\")"
   ]
  },
  {
   "cell_type": "code",
   "execution_count": 22,
   "id": "4bd3d83f-f4be-4536-afff-1995be49ba61",
   "metadata": {},
   "outputs": [
    {
     "data": {
      "text/plain": [
       "'Tuesday'"
      ]
     },
     "execution_count": 22,
     "metadata": {},
     "output_type": "execute_result"
    }
   ],
   "source": [
    "dt.datetime.strftime(to2,\"%A\")"
   ]
  },
  {
   "cell_type": "markdown",
   "id": "fc786e07-18b1-459f-bddd-4d6ac3aba0ff",
   "metadata": {},
   "source": [
    "## Setting up date times"
   ]
  },
  {
   "cell_type": "code",
   "execution_count": 23,
   "id": "a31bf648-206c-4bf0-b33f-c606c6d12789",
   "metadata": {},
   "outputs": [
    {
     "data": {
      "text/plain": [
       "datetime.datetime(2005, 6, 1, 13, 33)"
      ]
     },
     "execution_count": 23,
     "metadata": {},
     "output_type": "execute_result"
    }
   ],
   "source": [
    "# the strptime function converts text strings into dates\n",
    "#\n",
    "\n",
    "dt.datetime.strptime('Jun 1 2005  1:33PM', '%b %d %Y %I:%M%p')"
   ]
  },
  {
   "cell_type": "code",
   "execution_count": 24,
   "id": "c7e3462d-a9f3-413e-bf1c-c6f92ba1fd4e",
   "metadata": {},
   "outputs": [
    {
     "data": {
      "text/plain": [
       "datetime.datetime(2022, 2, 12, 0, 0)"
      ]
     },
     "execution_count": 24,
     "metadata": {},
     "output_type": "execute_result"
    }
   ],
   "source": [
    "dt.datetime.strptime(\"12 Feb 2022\",\"%d %b %Y\")"
   ]
  },
  {
   "cell_type": "markdown",
   "id": "a0538b31-0ef2-49f8-a3c9-a8b4842a076e",
   "metadata": {},
   "source": [
    "# timedelta objects are differences between times"
   ]
  },
  {
   "cell_type": "code",
   "execution_count": 25,
   "id": "e9806f2d-dac3-4494-a965-6b3c4de7bb38",
   "metadata": {},
   "outputs": [],
   "source": [
    "td=dt.datetime.now()-to2"
   ]
  },
  {
   "cell_type": "code",
   "execution_count": 26,
   "id": "5995785e-5854-4a7b-8fa0-0b1a725994d7",
   "metadata": {},
   "outputs": [
    {
     "data": {
      "text/plain": [
       "datetime.timedelta(seconds=108, microseconds=248120)"
      ]
     },
     "execution_count": 26,
     "metadata": {},
     "output_type": "execute_result"
    }
   ],
   "source": [
    "td"
   ]
  },
  {
   "cell_type": "code",
   "execution_count": 27,
   "id": "a4c35a9d-403a-41f3-8dd0-5c769a25d0b7",
   "metadata": {},
   "outputs": [
    {
     "data": {
      "text/plain": [
       "datetime.timedelta"
      ]
     },
     "execution_count": 27,
     "metadata": {},
     "output_type": "execute_result"
    }
   ],
   "source": [
    "type(td)"
   ]
  },
  {
   "cell_type": "code",
   "execution_count": 28,
   "id": "79dbf81e-09b2-4cd3-9082-6f6ce14abab7",
   "metadata": {},
   "outputs": [
    {
     "data": {
      "text/plain": [
       "108"
      ]
     },
     "execution_count": 28,
     "metadata": {},
     "output_type": "execute_result"
    }
   ],
   "source": [
    "td.seconds"
   ]
  },
  {
   "cell_type": "code",
   "execution_count": 29,
   "id": "8d9701e3-0dd5-4932-beca-efcef88d6cc6",
   "metadata": {},
   "outputs": [
    {
     "data": {
      "text/plain": [
       "0"
      ]
     },
     "execution_count": 29,
     "metadata": {},
     "output_type": "execute_result"
    }
   ],
   "source": [
    "td.days"
   ]
  },
  {
   "cell_type": "markdown",
   "id": "de8a2911-1e2c-4d88-8374-1771e883cfd7",
   "metadata": {},
   "source": [
    "## Different time zones can be handled using the pytz package - it looks straightforward if you ever need it.\n",
    "\n"
   ]
  },
  {
   "cell_type": "code",
   "execution_count": 30,
   "id": "1e34566a-e03d-4257-bcec-8b4ff7027060",
   "metadata": {},
   "outputs": [
    {
     "data": {
      "text/plain": [
       "numpy.datetime64('2020-10-31')"
      ]
     },
     "execution_count": 30,
     "metadata": {},
     "output_type": "execute_result"
    }
   ],
   "source": [
    "# Numpy Dates and Times\n",
    "\n",
    "nd = np.datetime64('2020-10-31')\n",
    "nd"
   ]
  },
  {
   "cell_type": "code",
   "execution_count": 31,
   "id": "dc11c2ba-5266-4dd3-9df6-f9089b93712a",
   "metadata": {},
   "outputs": [
    {
     "data": {
      "text/plain": [
       "'2020-10-31'"
      ]
     },
     "execution_count": 31,
     "metadata": {},
     "output_type": "execute_result"
    }
   ],
   "source": [
    "np.datetime_as_string(nd)\n"
   ]
  },
  {
   "cell_type": "code",
   "execution_count": 32,
   "id": "3b364ba3-bab0-467d-bbc3-d95759df43f4",
   "metadata": {},
   "outputs": [
    {
     "data": {
      "text/plain": [
       "datetime.date(2020, 10, 31)"
      ]
     },
     "execution_count": 32,
     "metadata": {},
     "output_type": "execute_result"
    }
   ],
   "source": [
    "# convert np datetime64 to datetime\n",
    "\n",
    "nd.astype(dt.datetime)"
   ]
  },
  {
   "cell_type": "code",
   "execution_count": 33,
   "id": "559e09e5-0233-4598-83ab-b54d8c817ac9",
   "metadata": {},
   "outputs": [
    {
     "data": {
      "text/plain": [
       "array(['2020-01-01', '2020-01-02', '2020-01-03'], dtype='datetime64[D]')"
      ]
     },
     "execution_count": 33,
     "metadata": {},
     "output_type": "execute_result"
    }
   ],
   "source": [
    "# using np.arange to get ranges of dates\n",
    "# daily freguency\n",
    "np.arange('2020-01-01', '2020-01-04', dtype='datetime64')"
   ]
  },
  {
   "cell_type": "code",
   "execution_count": 34,
   "id": "a7964e2f-5780-4b92-a63d-80f6527175ac",
   "metadata": {},
   "outputs": [
    {
     "data": {
      "text/plain": [
       "array(['2019-12-26', '2020-01-02', '2020-01-09', '2020-01-16',\n",
       "       '2020-01-23', '2020-01-30', '2020-02-06', '2020-02-13',\n",
       "       '2020-02-20', '2020-02-27'], dtype='datetime64[W]')"
      ]
     },
     "execution_count": 34,
     "metadata": {},
     "output_type": "execute_result"
    }
   ],
   "source": [
    "# weekly frequency\n",
    "np.arange('2020-01-01', '2020-10-01', dtype='datetime64[W]')[:10]"
   ]
  },
  {
   "cell_type": "code",
   "execution_count": 35,
   "id": "818193b9-63f3-41b0-b131-3757acde1adf",
   "metadata": {},
   "outputs": [
    {
     "data": {
      "text/plain": [
       "array(['2000', '2001', '2002', '2003', '2004', '2005', '2006', '2007',\n",
       "       '2008', '2009'], dtype='datetime64[Y]')"
      ]
     },
     "execution_count": 35,
     "metadata": {},
     "output_type": "execute_result"
    }
   ],
   "source": [
    "#Yearly frequency\n",
    "np.arange('2000-01-01', '2020-10-01', dtype='datetime64[Y]')[:10]"
   ]
  },
  {
   "cell_type": "code",
   "execution_count": 36,
   "id": "06190a5a-c815-4c8c-a9b9-c3b0c0e1af51",
   "metadata": {},
   "outputs": [
    {
     "data": {
      "image/png": "[encoded data removed]",
      "text/plain": [
       "<Figure size 1000x600 with 1 Axes>"
      ]
     },
     "metadata": {},
     "output_type": "display_data"
    }
   ],
   "source": [
    "# plotting time series\n",
    "# note the need to convert from an np datetime64 to a datetime\n",
    "\n",
    "import matplotlib.pyplot as plt\n",
    "%matplotlib inline\n",
    "\n",
    "dtl = np.arange('2020-01-01T00:00:00', '2020-01-02T00:00:00',dtype='datetime64[h]') \n",
    "\n",
    "np.random.seed(3000)\n",
    "rnd = np.random.standard_normal(len(dtl)).cumsum() ** 2\n",
    "\n",
    "fig = plt.figure(figsize=(10, 6))\n",
    "plt.plot(dtl.astype(dt.datetime), rnd)  \n",
    "fig.autofmt_xdate();"
   ]
  },
  {
   "cell_type": "code",
   "execution_count": 37,
   "id": "c1cb9c16-db33-475c-96ae-53c015783480",
   "metadata": {},
   "outputs": [
    {
     "ename": "SyntaxError",
     "evalue": "invalid syntax (3418453730.py, line 3)",
     "output_type": "error",
     "traceback": [
      "\u001b[1;36m  Cell \u001b[1;32mIn[37], line 3\u001b[1;36m\u001b[0m\n\u001b[1;33m    Pandas has a timestamp variable type\u001b[0m\n\u001b[1;37m           ^\u001b[0m\n\u001b[1;31mSyntaxError\u001b[0m\u001b[1;31m:\u001b[0m invalid syntax\n"
     ]
    }
   ],
   "source": [
    "# Pandas and yet another time variable type\n",
    "\n",
    "Pandas has a timestamp variable type"
   ]
  },
  {
   "cell_type": "code",
   "execution_count": 38,
   "id": "2ad0bb52-7317-451f-b0fd-b2da70e4c68d",
   "metadata": {},
   "outputs": [],
   "source": [
    "ts=pd.Timestamp('2020-06-30')"
   ]
  },
  {
   "cell_type": "code",
   "execution_count": 39,
   "id": "b34e7970-d826-47d2-a724-2a08b6fe1517",
   "metadata": {},
   "outputs": [
    {
     "data": {
      "text/plain": [
       "Timestamp('2020-06-30 00:00:00')"
      ]
     },
     "execution_count": 39,
     "metadata": {},
     "output_type": "execute_result"
    }
   ],
   "source": [
    "ts"
   ]
  },
  {
   "cell_type": "code",
   "execution_count": 40,
   "id": "545f1f09-1dbd-49bf-9ecc-474b07116f71",
   "metadata": {},
   "outputs": [
    {
     "data": {
      "text/plain": [
       "pandas._libs.tslibs.timestamps.Timestamp"
      ]
     },
     "execution_count": 40,
     "metadata": {},
     "output_type": "execute_result"
    }
   ],
   "source": [
    "type(ts)"
   ]
  },
  {
   "cell_type": "code",
   "execution_count": 41,
   "id": "447e5049-0fca-48b2-b497-0915ed0c1a9e",
   "metadata": {},
   "outputs": [
    {
     "data": {
      "text/plain": [
       "datetime.datetime(2020, 6, 30, 0, 0)"
      ]
     },
     "execution_count": 41,
     "metadata": {},
     "output_type": "execute_result"
    }
   ],
   "source": [
    "dts=ts.to_pydatetime()\n",
    "dts"
   ]
  },
  {
   "cell_type": "code",
   "execution_count": 42,
   "id": "ea0f167d-ddc1-482c-8026-9f879f85b4e0",
   "metadata": {},
   "outputs": [
    {
     "data": {
      "text/plain": [
       "Timestamp('2024-02-27 19:29:32.090245')"
      ]
     },
     "execution_count": 42,
     "metadata": {},
     "output_type": "execute_result"
    }
   ],
   "source": [
    "# convert a datetime to a pd timestamp\n",
    "pd.Timestamp(to2)"
   ]
  },
  {
   "cell_type": "code",
   "execution_count": 43,
   "id": "a59b93c2-5325-4b67-b0bb-aade3acb9ed7",
   "metadata": {},
   "outputs": [
    {
     "data": {
      "text/plain": [
       "Timestamp('2020-10-31 00:00:00')"
      ]
     },
     "execution_count": 43,
     "metadata": {},
     "output_type": "execute_result"
    }
   ],
   "source": [
    "# convert a numpy datetime64 to a pd timestamp\n",
    "\n",
    "nd = np.datetime64('2020-10-31')\n",
    "\n",
    "pd.Timestamp(nd)"
   ]
  },
  {
   "cell_type": "code",
   "execution_count": 44,
   "id": "34a2c1c3-abed-47c1-a553-62900122de6c",
   "metadata": {},
   "outputs": [
    {
     "data": {
      "text/plain": [
       "DatetimeIndex(['2020-01-31', '2020-02-29', '2020-03-31', '2020-04-30',\n",
       "               '2020-05-31', '2020-06-30', '2020-07-31', '2020-08-31',\n",
       "               '2020-09-30', '2020-10-31', '2020-11-30', '2020-12-31'],\n",
       "              dtype='datetime64[ns]', freq='M')"
      ]
     },
     "execution_count": 44,
     "metadata": {},
     "output_type": "execute_result"
    }
   ],
   "source": [
    "# datetimeindex class in pandas\n",
    "\n",
    "# this is a class meant to be used as an index for a pandas series or dataframe, that allows for a time-based index\n",
    "# this is helpful for time series analysis\n",
    "\n",
    "# there are tools to create these with different intervals and lengths\n",
    "\n",
    "dti = pd.date_range('2020/01/01', freq='M', periods=12)  \n",
    "dti"
   ]
  },
  {
   "cell_type": "code",
   "execution_count": 45,
   "id": "26423d1b-c595-4a28-9613-597eedf80e4a",
   "metadata": {},
   "outputs": [
    {
     "data": {
      "text/plain": [
       "Timestamp('2020-07-31 00:00:00')"
      ]
     },
     "execution_count": 45,
     "metadata": {},
     "output_type": "execute_result"
    }
   ],
   "source": [
    "dti[6]"
   ]
  },
  {
   "cell_type": "code",
   "execution_count": 46,
   "id": "a2254f55-b68a-4c60-9d51-fdceab6e3c06",
   "metadata": {},
   "outputs": [
    {
     "data": {
      "text/plain": [
       "array([datetime.datetime(2020, 1, 31, 0, 0),\n",
       "       datetime.datetime(2020, 2, 29, 0, 0),\n",
       "       datetime.datetime(2020, 3, 31, 0, 0),\n",
       "       datetime.datetime(2020, 4, 30, 0, 0),\n",
       "       datetime.datetime(2020, 5, 31, 0, 0),\n",
       "       datetime.datetime(2020, 6, 30, 0, 0),\n",
       "       datetime.datetime(2020, 7, 31, 0, 0),\n",
       "       datetime.datetime(2020, 8, 31, 0, 0),\n",
       "       datetime.datetime(2020, 9, 30, 0, 0),\n",
       "       datetime.datetime(2020, 10, 31, 0, 0),\n",
       "       datetime.datetime(2020, 11, 30, 0, 0),\n",
       "       datetime.datetime(2020, 12, 31, 0, 0)], dtype=object)"
      ]
     },
     "execution_count": 46,
     "metadata": {},
     "output_type": "execute_result"
    }
   ],
   "source": [
    "# conversion of pandas datatimeindex to datetime\n",
    "pdi = dti.to_pydatetime()  \n",
    "pdi"
   ]
  },
  {
   "cell_type": "code",
   "execution_count": 47,
   "id": "0a37df68-6ba6-47c1-86d9-708620bc04ac",
   "metadata": {},
   "outputs": [
    {
     "data": {
      "text/plain": [
       "DatetimeIndex(['2020-01-31', '2020-02-29', '2020-03-31', '2020-04-30',\n",
       "               '2020-05-31', '2020-06-30', '2020-07-31', '2020-08-31',\n",
       "               '2020-09-30', '2020-10-31', '2020-11-30', '2020-12-31'],\n",
       "              dtype='datetime64[ns]', freq=None)"
      ]
     },
     "execution_count": 47,
     "metadata": {},
     "output_type": "execute_result"
    }
   ],
   "source": [
    "# conversion of a datetime to a pandas datetimeindex\n",
    "\n",
    "pd.DatetimeIndex(pdi)"
   ]
  },
  {
   "cell_type": "code",
   "execution_count": 48,
   "id": "990e2a30-1e77-49bd-a53f-a59f64371c13",
   "metadata": {},
   "outputs": [
    {
     "data": {
      "image/png": "[encoded data removed]",
      "text/plain": [
       "<Figure size 1000x600 with 1 Axes>"
      ]
     },
     "metadata": {},
     "output_type": "display_data"
    }
   ],
   "source": [
    "#below, the dti index set up above is set up as the row index, with random data in the data column,   and this is plotted\n",
    "\n",
    "rnd = np.random.standard_normal(len(dti)).cumsum() ** 2\n",
    "\n",
    "df = pd.DataFrame(rnd, columns=['data'], index=dti)\n",
    "\n",
    "df.plot(figsize=(10, 6));"
   ]
  },
  {
   "cell_type": "markdown",
   "id": "6ab01cf9-247d-4924-a0d6-870017f30149",
   "metadata": {},
   "source": [
    "# So just what all do with have here?\n",
    "\n",
    "python- datetime\n",
    "        timedelta\n",
    "    \n",
    "numpy- datetime64\n",
    "       -timedelta64-   the time change in numpy\n",
    "\n",
    "pandas - timestamp\n",
    "       - datetimeindex\n",
    "    \n"
   ]
  },
  {
   "cell_type": "code",
   "execution_count": 49,
   "id": "7e7b3d4a-290d-4a25-8a91-7d63dfd83669",
   "metadata": {},
   "outputs": [],
   "source": [
    "## More time related tools in pandas"
   ]
  },
  {
   "cell_type": "code",
   "execution_count": 50,
   "id": "45c1204d-1200-4fae-8bea-da9fd96327b7",
   "metadata": {},
   "outputs": [
    {
     "data": {
      "text/plain": [
       "DatetimeIndex(['2018-01-01 00:00:00', '2018-01-01 01:00:00',\n",
       "               '2018-01-01 02:00:00'],\n",
       "              dtype='datetime64[ns]', freq='H')"
      ]
     },
     "execution_count": 50,
     "metadata": {},
     "output_type": "execute_result"
    }
   ],
   "source": [
    "dti = pd.date_range(\"2018-01-01\", periods=3, freq=\"H\")\n",
    "dti"
   ]
  },
  {
   "cell_type": "code",
   "execution_count": 52,
   "id": "6f3020f5-1e8f-413b-ad46-010c042e30b3",
   "metadata": {},
   "outputs": [
    {
     "data": {
      "text/plain": [
       "DatetimeIndex(['2018-01-01 00:00:00+00:00', '2018-01-01 01:00:00+00:00',\n",
       "               '2018-01-01 02:00:00+00:00'],\n",
       "              dtype='datetime64[ns, UTC]', freq='H')"
      ]
     },
     "execution_count": 52,
     "metadata": {},
     "output_type": "execute_result"
    }
   ],
   "source": [
    "#time zone conversion\n",
    "dti = dti.tz_localize(\"UTC\")\n",
    "dti"
   ]
  },
  {
   "cell_type": "code",
   "execution_count": 53,
   "id": "7061e71f-8b44-45e7-a7af-83a0fc351ded",
   "metadata": {},
   "outputs": [
    {
     "data": {
      "text/plain": [
       "DatetimeIndex(['2017-12-31 16:00:00-08:00', '2017-12-31 17:00:00-08:00',\n",
       "               '2017-12-31 18:00:00-08:00'],\n",
       "              dtype='datetime64[ns, US/Pacific]', freq='H')"
      ]
     },
     "execution_count": 53,
     "metadata": {},
     "output_type": "execute_result"
    }
   ],
   "source": [
    "dti.tz_convert(\"US/Pacific\")"
   ]
  },
  {
   "cell_type": "code",
   "execution_count": 54,
   "id": "16b7d16e-29ef-47b6-a1db-4db0bb7c837a",
   "metadata": {},
   "outputs": [
    {
     "data": {
      "text/plain": [
       "2018-01-01 00:00:00    0\n",
       "2018-01-01 01:00:00    1\n",
       "2018-01-01 02:00:00    2\n",
       "2018-01-01 03:00:00    3\n",
       "2018-01-01 04:00:00    4\n",
       "Freq: H, dtype: int64"
      ]
     },
     "execution_count": 54,
     "metadata": {},
     "output_type": "execute_result"
    }
   ],
   "source": [
    "# resampling a time series\n",
    "\n",
    "idx = pd.date_range(\"2018-01-01\", periods=5, freq=\"H\")\n",
    "\n",
    "ts = pd.Series(range(len(idx)), index=idx)\n",
    "\n",
    "ts"
   ]
  },
  {
   "cell_type": "code",
   "execution_count": 55,
   "id": "60a0a40e-d55c-4b10-afbd-fa07e7280dab",
   "metadata": {},
   "outputs": [
    {
     "data": {
      "text/plain": [
       "2018-01-01 00:00:00    0.5\n",
       "2018-01-01 02:00:00    2.5\n",
       "2018-01-01 04:00:00    4.0\n",
       "Freq: 2H, dtype: float64"
      ]
     },
     "execution_count": 55,
     "metadata": {},
     "output_type": "execute_result"
    }
   ],
   "source": [
    "# here is a resampling to a 2 hour interval\n",
    "\n",
    "ts.resample(\"2H\").mean()"
   ]
  },
  {
   "cell_type": "code",
   "execution_count": 56,
   "id": "35b323b6-fbdb-4495-8efd-8de2cb595fa5",
   "metadata": {},
   "outputs": [
    {
     "data": {
      "text/plain": [
       "'Friday'"
      ]
     },
     "execution_count": 56,
     "metadata": {},
     "output_type": "execute_result"
    }
   ],
   "source": [
    "friday = pd.Timestamp(\"2018-01-05\")\n",
    "friday.day_name()\n"
   ]
  },
  {
   "cell_type": "code",
   "execution_count": 57,
   "id": "c44ec4c1-6dce-4073-9ab1-d7d1dc19900e",
   "metadata": {},
   "outputs": [
    {
     "data": {
      "text/plain": [
       "'Saturday'"
      ]
     },
     "execution_count": 57,
     "metadata": {},
     "output_type": "execute_result"
    }
   ],
   "source": [
    "# Add 1 day\n",
    "saturday = friday + pd.Timedelta(\"1 day\")\n",
    "\n",
    "saturday.day_name()"
   ]
  },
  {
   "cell_type": "code",
   "execution_count": 58,
   "id": "5c10b309-e1c5-4408-868f-60492b110f6f",
   "metadata": {},
   "outputs": [
    {
     "data": {
      "text/plain": [
       "'Monday'"
      ]
     },
     "execution_count": 58,
     "metadata": {},
     "output_type": "execute_result"
    }
   ],
   "source": [
    "\n",
    "# Add 1 business day (Friday --> Monday)\n",
    "monday = friday + pd.offsets.BDay()\n",
    "\n",
    "monday.day_name()\n"
   ]
  },
  {
   "cell_type": "markdown",
   "id": "484025ed",
   "metadata": {},
   "source": [
    "Pandas has 4 different types of time related variables,  most in both scalar and vector form\n",
    "\n",
    "Date times      Timestamp or DateTimeIndex\n",
    "\n",
    "time deltas     Timedelta or TimeDeltaIndex\n",
    "\n",
    "Time spans      Period  or PeriodIndex\n",
    "\n",
    "Dae offets      DateOffset"
   ]
  },
  {
   "cell_type": "code",
   "execution_count": 60,
   "id": "77f92be0-eadc-40b0-913a-bdb769ef9c19",
   "metadata": {},
   "outputs": [
    {
     "data": {
      "text/plain": [
       "2000-01-01    0\n",
       "2000-01-02    1\n",
       "2000-01-03    2\n",
       "Freq: D, dtype: int64"
      ]
     },
     "execution_count": 60,
     "metadata": {},
     "output_type": "execute_result"
    }
   ],
   "source": [
    "# series elements are easily used to represent time series\n",
    "\n",
    "pd.Series(range(3), index=pd.date_range(\"2000\", freq=\"D\", periods=3))"
   ]
  },
  {
   "cell_type": "code",
   "execution_count": 61,
   "id": "1cdfdb64-b0a7-4606-9a11-782db04d452a",
   "metadata": {},
   "outputs": [
    {
     "data": {
      "text/plain": [
       "0   2000-01-01\n",
       "1   2000-01-02\n",
       "2   2000-01-03\n",
       "dtype: datetime64[ns]"
      ]
     },
     "execution_count": 61,
     "metadata": {},
     "output_type": "execute_result"
    }
   ],
   "source": [
    "# but a series could be a series of dates\n",
    "\n",
    "pd.Series(pd.date_range(\"2000\", freq=\"D\", periods=3))"
   ]
  },
  {
   "cell_type": "code",
   "execution_count": 62,
   "id": "5b03ec92-2485-4a57-ac7c-5dcdf3d760ba",
   "metadata": {},
   "outputs": [
    {
     "data": {
      "text/plain": [
       "0    2011-01\n",
       "1    2011-02\n",
       "2    2011-03\n",
       "dtype: period[M]"
      ]
     },
     "execution_count": 62,
     "metadata": {},
     "output_type": "execute_result"
    }
   ],
   "source": [
    "pd.Series(pd.period_range(\"1/1/2011\", freq=\"M\", periods=3))"
   ]
  },
  {
   "cell_type": "code",
   "execution_count": 63,
   "id": "701e97c8-338d-498c-bfb3-e7c8c6092611",
   "metadata": {},
   "outputs": [
    {
     "data": {
      "text/plain": [
       "0         <DateOffset>\n",
       "1    <2 * DateOffsets>\n",
       "dtype: object"
      ]
     },
     "execution_count": 63,
     "metadata": {},
     "output_type": "execute_result"
    }
   ],
   "source": [
    "pd.Series([pd.DateOffset(1), pd.DateOffset(2)])\n"
   ]
  },
  {
   "cell_type": "code",
   "execution_count": 64,
   "id": "5a0dd7c3-faa8-41b4-bfec-b6a81a418320",
   "metadata": {},
   "outputs": [
    {
     "data": {
      "text/plain": [
       "0   2011-01-31\n",
       "1   2011-02-28\n",
       "2   2011-03-31\n",
       "dtype: datetime64[ns]"
      ]
     },
     "execution_count": 64,
     "metadata": {},
     "output_type": "execute_result"
    }
   ],
   "source": [
    "pd.Series(pd.date_range(\"1/1/2011\", freq=\"M\", periods=3))"
   ]
  },
  {
   "cell_type": "code",
   "execution_count": null,
   "id": "10b93882-6e81-4e9f-bfda-ac692cd52683",
   "metadata": {},
   "outputs": [],
   "source": [
    "\n",
    "\n",
    "\n"
   ]
  },
  {
   "cell_type": "code",
   "execution_count": null,
   "id": "29500d3d",
   "metadata": {},
   "outputs": [],
   "source": []
  }
 ],
 "metadata": {
  "kernelspec": {
   "display_name": "Python 3 (ipykernel)",
   "language": "python",
   "name": "python3"
  },
  "language_info": {
   "codemirror_mode": {
    "name": "ipython",
    "version": 3
   },
   "file_extension": ".py",
   "mimetype": "text/x-python",
   "name": "python",
   "nbconvert_exporter": "python",
   "pygments_lexer": "ipython3",
   "version": "3.11.5"
  }
 },
 "nbformat": 4,
 "nbformat_minor": 5
}
