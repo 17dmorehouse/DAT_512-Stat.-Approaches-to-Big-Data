{
 "cells": [
  {
   "cell_type": "markdown",
   "id": "f336de03",
   "metadata": {},
   "source": [
    "# Sending e-mail or text from within python\n",
    "\n",
    "You do not have to run this code, this is entirely optional\n",
    "\n",
    "Using an SMTP - Simple Mail Transfer Protocol process\n",
    "\n",
    "The smtplib is built into Python by default\n",
    "\n",
    "I am using a g-mail account to send e-mail,  you can do this with other accounts.\n",
    "\n",
    "If you want to try it with gmail,  set up an exta account to use for testing purposes, so you don't run any chance of\n",
    "messing up an account you use all the time.   Setting up the SMTP access to other e-mail accounts shouldn't be any harder than\n",
    "with gmal\n",
    "\n",
    "with gmail, you do have to go into the security section and allow access by \"less secure applications\", after that is should work\n",
    "\n",
    "You can set up a variety of \"e-mail clients\" to connect to your e-mail server.   One typically has to configure\n",
    "each e-mail client involved to talk the e-mail server\n",
    "\n",
    "SMTP is the client that sends e-mail\n",
    "\n",
    "IMAP is the internet message access protocol- this can be used to receive e-mail messages\n",
    "\n",
    "You could set up a python routine to receive e-mail and take various actions if you wanted to\n",
    "\n",
    "See \"Automate the Boring Stuff with Python, 2nd Edition\" Sweigert, No Starch Press\n",
    "\n",
    "https://learning.oreilly.com/library/view/automate-the-boring/9781098122584/xhtml/ch18.xhtml#ch18lev1sec11"
   ]
  },
  {
   "cell_type": "code",
   "execution_count": 2,
   "id": "cb0cc978-8cb2-4774-b90e-e27f2edbac14",
   "metadata": {},
   "outputs": [],
   "source": [
    "from smtplib import SMTP"
   ]
  },
  {
   "cell_type": "code",
   "execution_count": 22,
   "id": "914d55a0-5bf6-46b2-adbd-530ade483905",
   "metadata": {},
   "outputs": [
    {
     "data": {
      "text/plain": [
       "(220, b'2.0.0 Ready to start TLS')"
      ]
     },
     "execution_count": 22,
     "metadata": {},
     "output_type": "execute_result"
    }
   ],
   "source": [
    "# setup up drivers\n",
    "\n",
    "s=SMTP(\"smtp.gmail.com\",'587')\n",
    "\n",
    "# put the system in tls mode-transport layer security- allows for encrypted transmissions\n",
    "\n",
    "s.starttls()"
   ]
  },
  {
   "cell_type": "code",
   "execution_count": 23,
   "id": "5562faf5-2e39-4bc6-bc7f-1a7f6f46d237",
   "metadata": {},
   "outputs": [],
   "source": [
    "# get the email password for my account,  which is stored in a file\n",
    "\n",
    "pfile=\"C:\\\\Users\\\\hdavi\\\\Dropbox\\\\Data_Analytics\\\\DAT_512\\\\Python_code\\\\gmail_conf.txt\"\n",
    "\n",
    "f=open(pfile,'r')\n",
    "my_pwd=f.readline()\n",
    "f.close()\n"
   ]
  },
  {
   "cell_type": "code",
   "execution_count": 24,
   "id": "d2c230f8-f509-4b38-9494-48678a225c34",
   "metadata": {},
   "outputs": [
    {
     "data": {
      "text/plain": [
       "(235, b'2.7.0 Accepted')"
      ]
     },
     "execution_count": 24,
     "metadata": {},
     "output_type": "execute_result"
    }
   ],
   "source": [
    "# Use my e-mail account and password to log into the e-mail server\n",
    "\n",
    "e_mail_address=\"numbergrinderDave@gmail.com\"\n",
    "s.login(e_mail_address,my_pwd)"
   ]
  },
  {
   "cell_type": "code",
   "execution_count": 25,
   "id": "3dc90c27-de7f-4cf3-998e-fdd7627c4eda",
   "metadata": {},
   "outputs": [],
   "source": [
    "# this is a really basic method,  there are software programs to construct more complex methods\n",
    "\n",
    "my_message=\"Just me checking\""
   ]
  },
  {
   "cell_type": "code",
   "execution_count": 26,
   "id": "51640669-86c7-457c-a42c-67d0192f0baf",
   "metadata": {},
   "outputs": [
    {
     "data": {
      "text/plain": [
       "{}"
      ]
     },
     "execution_count": 26,
     "metadata": {},
     "output_type": "execute_result"
    }
   ],
   "source": [
    "# here is the send\n",
    "s.sendmail(e_mail_address,\"sheets@canisius.edu\",my_message)"
   ]
  },
  {
   "cell_type": "code",
   "execution_count": null,
   "id": "af5adf9c-9044-471d-82c4-bf60213cccc3",
   "metadata": {},
   "outputs": [],
   "source": [
    "# Sending texts"
   ]
  },
  {
   "cell_type": "code",
   "execution_count": null,
   "id": "8ce5f62f-52ea-4d52-8930-f2d9dbbd704f",
   "metadata": {},
   "outputs": [],
   "source": [
    "We can send texts by using SMS e-mail gateways\n",
    "\n",
    "We can send texts to a phone by using a SMS (short message service) e-mail gateway.\n",
    "\n",
    "There are also MMS (multi-media messaging services) that allows for longer messages\n",
    "\n",
    "to connect to my number through verizon,  the address is \"7168669782@vtext.com\"\n",
    "\n",
    "Most phone companies have an e-mail server set up to do this,  they may be somewhat slow.\n",
    "\n",
    "There are also commercial providers to allow you to send SMS or MMS message to phone numbers.  \n",
    "\n",
    "Cell phone provider\n",
    "\n",
    "SMS gateway\n",
    "\n",
    "MMS gateway\n",
    "\n",
    "AT&T\n",
    "\n",
    "number@txt.att.net\n",
    "\n",
    "number@mms.att.net\n",
    "\n",
    "Boost Mobile\n",
    "\n",
    "number@sms.myboostmobile.com\n",
    "\n",
    "Same as SMS\n",
    "\n",
    "Cricket\n",
    "\n",
    "number@sms.cricketwireless.net\n",
    "\n",
    "number@mms.cricketwireless.net\n",
    "\n",
    "Google Fi\n",
    "\n",
    "number@msg.fi.google.com\n",
    "\n",
    "Same as SMS\n",
    "\n",
    "Metro PCS\n",
    "\n",
    "number@mymetropcs.com\n",
    "\n",
    "Same as SMS\n",
    "\n",
    "Republic Wireless\n",
    "\n",
    "number@text.republicwireless.com\n",
    "\n",
    "Same as SMS\n",
    "\n",
    "Sprint\n",
    "\n",
    "number@messaging.sprintpcs.com\n",
    "\n",
    "number@pm.sprint.com\n",
    "\n",
    "T-Mobile\n",
    "\n",
    "number@tmomail.net\n",
    "\n",
    "Same as SMS\n",
    "\n",
    "U.S. Cellular\n",
    "\n",
    "number@email.uscc.net\n",
    "\n",
    "number@mms.uscc.net\n",
    "\n",
    "Verizon\n",
    "\n",
    "number@vtext.com\n",
    "\n",
    "number@vzwpix.com\n",
    "\n",
    "Virgin Mobile\n",
    "\n",
    "number@vmobl.com\n",
    "\n",
    "number@vmpix.com\n",
    "\n",
    "XFinity Mobile\n",
    "\n",
    "number@vtext.com\n",
    "\n",
    "number@mypixmessages.com\n"
   ]
  },
  {
   "cell_type": "code",
   "execution_count": 15,
   "id": "aa1e5fee-2f8c-4c39-98db-8b8485dad982",
   "metadata": {},
   "outputs": [
    {
     "data": {
      "text/plain": [
       "{}"
      ]
     },
     "execution_count": 15,
     "metadata": {},
     "output_type": "execute_result"
    }
   ],
   "source": [
    "# sending a text to a verizon number \n",
    "\n",
    "s.sendmail(\"numbergrinderDave@gmail.com\",\"7168669782@vtext.com\",my_message)"
   ]
  },
  {
   "cell_type": "code",
   "execution_count": 27,
   "id": "ed464724-1729-4fc7-8ef0-52227350b44d",
   "metadata": {},
   "outputs": [
    {
     "data": {
      "text/plain": [
       "(451, b'4.4.2 Timeout - closing connection. v21sm861385qta.16 - gsmtp')"
      ]
     },
     "execution_count": 27,
     "metadata": {},
     "output_type": "execute_result"
    }
   ],
   "source": [
    "# exiting a mail server\n",
    "s.quit()"
   ]
  },
  {
   "cell_type": "code",
   "execution_count": null,
   "id": "0a3bb696-7b72-47c8-bb84-8a24fed77efb",
   "metadata": {},
   "outputs": [],
   "source": []
  }
 ],
 "metadata": {
  "kernelspec": {
   "display_name": "Python 3 (ipykernel)",
   "language": "python",
   "name": "python3"
  },
  "language_info": {
   "codemirror_mode": {
    "name": "ipython",
    "version": 3
   },
   "file_extension": ".py",
   "mimetype": "text/x-python",
   "name": "python",
   "nbconvert_exporter": "python",
   "pygments_lexer": "ipython3",
   "version": "3.11.5"
  }
 },
 "nbformat": 4,
 "nbformat_minor": 5
}
