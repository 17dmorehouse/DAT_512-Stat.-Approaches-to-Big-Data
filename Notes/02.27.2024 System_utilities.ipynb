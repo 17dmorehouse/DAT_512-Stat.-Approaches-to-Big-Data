{
 "cells": [
  {
   "cell_type": "markdown",
   "id": "ec1ab21d-afc7-4838-985a-df1fb2849d93",
   "metadata": {},
   "source": [
    "# GUIs, the os and sys packages- communicating from Python to the operating system\n",
    "\n",
    "There are a bunch of utility style functions for various operating system related tasks"
   ]
  },
  {
   "cell_type": "code",
   "execution_count": 1,
   "id": "f6c8bb30-aadd-4c7f-84df-7b148b70bba4",
   "metadata": {},
   "outputs": [],
   "source": [
    "import os\n",
    "import sys\n",
    "import pandas as pd\n",
    "import numpy as np\n",
    "import matplotlib.pyplot as plt"
   ]
  },
  {
   "cell_type": "markdown",
   "id": "6929379f-dc2f-4561-b94b-b5769e7fc9b2",
   "metadata": {},
   "source": [
    "## GUI- Graphic User interfaces\n",
    "\n",
    "Handy if a non-programmer needs to use your code,  or if you want a file browser or something similar.\n",
    "\n",
    "The long term Python standy by is TKinter- The python interface to a general purpose packag ecalled the Tcl/Tk GUI toolkit\n",
    "\n",
    "https://docs.python.org/3/library/tkinter.html"
   ]
  },
  {
   "cell_type": "markdown",
   "id": "93d9b3b6-7ccb-4266-bbe8-eccb19a2bb18",
   "metadata": {},
   "source": [
    "## simple GUI constructor\n",
    "\n",
    "A more recent package for making simple GUIs is the easygui package\n",
    "\n",
    "conda install -c conda-forge easygui\n",
    "\n",
    "\n",
    "http://easygui.sourceforge.net/"
   ]
  },
  {
   "cell_type": "code",
   "execution_count": 3,
   "id": "0919a738-3698-42c3-b73d-dc73524c2403",
   "metadata": {},
   "outputs": [
    {
     "name": "stdout",
     "output_type": "stream",
     "text": [
      "C:\\Users\\dev46\\OneDrive\\Desktop\\text4.txt\n"
     ]
    }
   ],
   "source": [
    "# A file selector in easygui\n",
    "\n",
    "import easygui as g\n",
    "\n",
    "title = 'grab a file'\n",
    "filename = g.fileopenbox( title )\n",
    "\n",
    "print(filename)\n",
    "\n",
    "#note that figuring out where the fileopenbox is located can be a bit tough"
   ]
  },
  {
   "cell_type": "code",
   "execution_count": 4,
   "id": "9b013df2-f247-4afb-9dec-9dc63fd60d43",
   "metadata": {},
   "outputs": [
    {
     "name": "stdout",
     "output_type": "stream",
     "text": [
      "C:\\Users\\dev46\\OneDrive\\Desktop\n"
     ]
    }
   ],
   "source": [
    "# a directory selector in easygui\n",
    "\n",
    "dir_name=g.diropenbox()\n",
    "print(dir_name)"
   ]
  },
  {
   "cell_type": "code",
   "execution_count": 5,
   "id": "889ac891-16d8-43b8-98b8-5c21ebb1fb7f",
   "metadata": {},
   "outputs": [
    {
     "data": {
      "text/plain": [
       "''"
      ]
     },
     "execution_count": 5,
     "metadata": {},
     "output_type": "execute_result"
    }
   ],
   "source": [
    "# Text window in easygui\n",
    "my_string=\"once in while \\n things happen.  Or not.\"\n",
    "my_title=\"You know how it goes\"\n",
    "g.textbox(my_string,my_title)"
   ]
  },
  {
   "cell_type": "code",
   "execution_count": 6,
   "id": "f83a9f29-f5eb-45b5-8ac6-aaa3b1a282eb",
   "metadata": {},
   "outputs": [
    {
     "name": "stdout",
     "output_type": "stream",
     "text": [
      "['2', '2', '213', '123']\n"
     ]
    }
   ],
   "source": [
    "# Entering multiple lines of data using easygui\n",
    "\n",
    "msg = \"Enter the network configuration\"\n",
    "title = \"Neural Net set up\"\n",
    "fieldNames = [\"Number of inputs\",\"Number of layers\",\"Activation\",\"Number of Outputs\"]\n",
    "fieldValues = []  # we start with blanks for the values\n",
    "fieldValues = g.multenterbox(msg,title, fieldNames)\n",
    "\n",
    "print(fieldValues)\n",
    "\n"
   ]
  },
  {
   "cell_type": "code",
   "execution_count": 7,
   "id": "8192fd8a-6a1c-47fc-9257-5cd3ec27a7c3",
   "metadata": {},
   "outputs": [
    {
     "name": "stdout",
     "output_type": "stream",
     "text": [
      "Rocky Road\n"
     ]
    }
   ],
   "source": [
    "# getting a choice from a user- better not to let people type anything...\n",
    "\n",
    "msg =\"What is your favorite flavor?\"\n",
    "title = \"Ice Cream Survey\"\n",
    "choices = [\"Vanilla\", \"Chocolate\", \"Strawberry\", \"Rocky Road\",\"Chewy Mango\"]\n",
    "choice = g.choicebox(msg, title, choices)\n",
    "\n",
    "print(choice)\n"
   ]
  },
  {
   "cell_type": "code",
   "execution_count": null,
   "id": "a4a60c49-4c08-41a0-b392-877172e8b552",
   "metadata": {},
   "outputs": [],
   "source": [
    "## Tkinter\n",
    "\n",
    "# I find Tkinter to be a bit clumsier than easygui\n",
    "\n",
    "# opening and closing windows in tkinter seems clumsier"
   ]
  },
  {
   "cell_type": "code",
   "execution_count": 8,
   "id": "bc713392-1427-4e38-951d-8db4ce68a007",
   "metadata": {},
   "outputs": [
    {
     "name": "stdout",
     "output_type": "stream",
     "text": [
      "C:/Users/dev46/OneDrive/Desktop/text1.txt\n"
     ]
    }
   ],
   "source": [
    "# a file browser in tkinter\n",
    "\n",
    "import tkinter as Tk     # from tkinter import Tk for Python 3.x\n",
    "from tkinter.filedialog import askopenfilename\n",
    "\n",
    "root=Tk.Tk()                 # root starts a tkinter object\n",
    "root.withdraw()              # we don't want a full GUI, so keep the root window from appearing\n",
    "filename = askopenfilename() # show an \"Open\" dialog box and return the path to the selected file\n",
    "print(filename)"
   ]
  },
  {
   "cell_type": "code",
   "execution_count": 9,
   "id": "8483cbef-58a8-41f5-85ba-53a187af1c7e",
   "metadata": {},
   "outputs": [],
   "source": [
    "# A hellow p\n",
    "\n",
    "from tkinter import ttk\n",
    "\n",
    "root = Tk.Tk()                            # create the toot\n",
    "frm = ttk.Frame(root, padding=10)         # open a frame to put things in\n",
    "frm.grid()\n",
    "ttk.Label(frm, text=\"Hello World!\").grid(column=0, row=0)                       # add text tot he frame\n",
    "ttk.Button(frm, text=\"Quit\", command=root.quit).grid(column=1, row=0)          # add a quit button tothe frame\n",
    "root.mainloop()                                                                 # start the object,   \n",
    "root.destroy()                                                                  # remove the object"
   ]
  },
  {
   "cell_type": "code",
   "execution_count": 10,
   "id": "d15ea47d-a2d9-407e-8c50-46eb627bd318",
   "metadata": {},
   "outputs": [
    {
     "name": "stdout",
     "output_type": "stream",
     "text": [
      "C:/Users/dev46/OneDrive/Desktop\n"
     ]
    }
   ],
   "source": [
    "from tkinter.filedialog import askdirectory\n",
    "\n",
    "root=Tk.Tk()                 # root starts a tkinter object\n",
    "root.withdraw()              # we don't want a full GUI, so keep the root window from appearing\n",
    "current_directory =askdirectory()\n",
    "print(current_directory)"
   ]
  },
  {
   "cell_type": "code",
   "execution_count": null,
   "id": "c9ceb147-ff0b-4403-94a7-1391776dab57",
   "metadata": {},
   "outputs": [],
   "source": [
    "## Sytem operations"
   ]
  },
  {
   "cell_type": "code",
   "execution_count": 11,
   "id": "2bcf51c3-6949-4390-997a-a68f0bbaacf4",
   "metadata": {},
   "outputs": [
    {
     "data": {
      "text/plain": [
       "'win32'"
      ]
     },
     "execution_count": 11,
     "metadata": {},
     "output_type": "execute_result"
    }
   ],
   "source": [
    "# what system is the code running on?\n",
    "sys.platform"
   ]
  },
  {
   "cell_type": "code",
   "execution_count": 12,
   "id": "fe52a4ac-4fb6-4e50-b375-20aa50ef8cd5",
   "metadata": {},
   "outputs": [
    {
     "data": {
      "text/plain": [
       "environ{'ALLUSERSPROFILE': 'C:\\\\ProgramData',\n",
       "        'ANS_OLD_ATTACH': '1',\n",
       "        'APPDATA': 'C:\\\\Users\\\\dev46\\\\AppData\\\\Roaming',\n",
       "        'CHOCOLATEYINSTALL': 'C:\\\\ProgramData\\\\chocolatey',\n",
       "        'CHOCOLATEYLASTPATHUPDATE': '132536705718860465',\n",
       "        'COMMONPROGRAMFILES': 'C:\\\\Program Files\\\\Common Files',\n",
       "        'COMMONPROGRAMFILES(X86)': 'C:\\\\Program Files (x86)\\\\Common Files',\n",
       "        'COMMONPROGRAMW6432': 'C:\\\\Program Files\\\\Common Files',\n",
       "        'COMPUTERNAME': 'LAPTOP-G1JCAT5Q',\n",
       "        'COMSPEC': 'C:\\\\WINDOWS\\\\system32\\\\cmd.exe',\n",
       "        'DRIVERDATA': 'C:\\\\Windows\\\\System32\\\\Drivers\\\\DriverData',\n",
       "        'EFC_3652': '1',\n",
       "        'FPS_BROWSER_APP_PROFILE_STRING': 'Internet Explorer',\n",
       "        'FPS_BROWSER_USER_PROFILE_STRING': 'Default',\n",
       "        'HOMEDRIVE': 'C:',\n",
       "        'HOMEPATH': '\\\\Users\\\\dev46',\n",
       "        'KEYSHOT_EXTERNAL_LICENSE_FOLDER': 'C:\\\\Program Files\\\\DesignSpark\\\\DesignSpark Mechanical 4.0\\\\',\n",
       "        'LOCALAPPDATA': 'C:\\\\Users\\\\dev46\\\\AppData\\\\Local',\n",
       "        'LOGONSERVER': '\\\\\\\\LAPTOP-G1JCAT5Q',\n",
       "        'NUMBER_OF_PROCESSORS': '8',\n",
       "        'ONEDRIVE': 'C:\\\\Users\\\\dev46\\\\OneDrive',\n",
       "        'ONEDRIVECONSUMER': 'C:\\\\Users\\\\dev46\\\\OneDrive',\n",
       "        'OS': 'Windows_NT',\n",
       "        'PATH': 'C:\\\\Users\\\\dev46\\\\anaconda3;C:\\\\Users\\\\dev46\\\\anaconda3\\\\Library\\\\mingw-w64\\\\bin;C:\\\\Users\\\\dev46\\\\anaconda3\\\\Library\\\\usr\\\\bin;C:\\\\Users\\\\dev46\\\\anaconda3\\\\Library\\\\bin;C:\\\\Users\\\\dev46\\\\anaconda3\\\\Scripts;C:\\\\Python310\\\\Scripts\\\\;C:\\\\Python310\\\\;C:\\\\Python39\\\\Scripts\\\\;C:\\\\Python39\\\\;C:\\\\Program Files (x86)\\\\Intel\\\\iCLS Client\\\\;C:\\\\Program Files\\\\Intel\\\\iCLS Client\\\\;C:\\\\Windows\\\\system32;C:\\\\Windows;C:\\\\Windows\\\\System32\\\\Wbem;C:\\\\Windows\\\\System32\\\\WindowsPowerShell\\\\v1.0\\\\;C:\\\\Program Files (x86)\\\\Intel\\\\Intel(R) Management Engine Components\\\\DAL;C:\\\\Program Files\\\\Intel\\\\Intel(R) Management Engine Components\\\\DAL;C:\\\\Program Files (x86)\\\\Intel\\\\Intel(R) Management Engine Components\\\\IPT;C:\\\\Program Files\\\\Intel\\\\Intel(R) Management Engine Components\\\\IPT;C:\\\\Program Files (x86)\\\\NVIDIA Corporation\\\\PhysX\\\\Common;C:\\\\WINDOWS\\\\system32;C:\\\\WINDOWS;C:\\\\WINDOWS\\\\System32\\\\Wbem;C:\\\\WINDOWS\\\\System32\\\\WindowsPowerShell\\\\v1.0\\\\;C:\\\\WINDOWS\\\\System32\\\\OpenSSH\\\\;C:\\\\ProgramData\\\\chocolatey\\\\bin;C:\\\\WINDOWS\\\\system32;C:\\\\WINDOWS;C:\\\\WINDOWS\\\\System32\\\\Wbem;C:\\\\WINDOWS\\\\System32\\\\WindowsPowerShell\\\\v1.0\\\\;C:\\\\WINDOWS\\\\System32\\\\OpenSSH\\\\;C:\\\\Program Files\\\\nodejs\\\\;C:\\\\Program Files\\\\Git\\\\cmd;C:\\\\Users\\\\dev46\\\\AppData\\\\Local\\\\Microsoft\\\\WindowsApps;C:\\\\Users\\\\dev46\\\\AppData\\\\Local\\\\Programs\\\\Python\\\\Python39\\\\Scripts;C:\\\\Users\\\\dev46\\\\AppData\\\\Local\\\\Programs\\\\Python\\\\Python39\\\\Scripts\\\\pip.exe;C:\\\\Users\\\\dev46\\\\AppData\\\\Local\\\\Programs\\\\Microsoft VS Code\\\\bin;C:\\\\Users\\\\dev46\\\\AppData\\\\Local\\\\Programs\\\\Python\\\\Python310\\\\Scripts;C:\\\\Users\\\\dev46\\\\AppData\\\\Roaming\\\\Python\\\\Python310\\\\Scripts;C:\\\\Users\\\\dev46\\\\AppData\\\\Roaming\\\\npm',\n",
       "        'PATHEXT': '.COM;.EXE;.BAT;.CMD;.VBS;.VBE;.JS;.JSE;.WSF;.WSH;.MSC',\n",
       "        'PROCESSOR_ARCHITECTURE': 'AMD64',\n",
       "        'PROCESSOR_IDENTIFIER': 'Intel64 Family 6 Model 142 Stepping 10, GenuineIntel',\n",
       "        'PROCESSOR_LEVEL': '6',\n",
       "        'PROCESSOR_REVISION': '8e0a',\n",
       "        'PROGRAMDATA': 'C:\\\\ProgramData',\n",
       "        'PROGRAMFILES': 'C:\\\\Program Files',\n",
       "        'PROGRAMFILES(X86)': 'C:\\\\Program Files (x86)',\n",
       "        'PROGRAMW6432': 'C:\\\\Program Files',\n",
       "        'PSMODULEPATH': 'C:\\\\Program Files\\\\WindowsPowerShell\\\\Modules;C:\\\\WINDOWS\\\\system32\\\\WindowsPowerShell\\\\v1.0\\\\Modules',\n",
       "        'PUBLIC': 'C:\\\\Users\\\\Public',\n",
       "        'SESSIONNAME': 'Console',\n",
       "        'SYSTEMDRIVE': 'C:',\n",
       "        'SYSTEMROOT': 'C:\\\\WINDOWS',\n",
       "        'TEMP': 'C:\\\\Users\\\\dev46\\\\AppData\\\\Local\\\\Temp',\n",
       "        'TMP': 'C:\\\\Users\\\\dev46\\\\AppData\\\\Local\\\\Temp',\n",
       "        'USERDOMAIN': 'LAPTOP-G1JCAT5Q',\n",
       "        'USERDOMAIN_ROAMINGPROFILE': 'LAPTOP-G1JCAT5Q',\n",
       "        'USERNAME': 'dev46',\n",
       "        'USERPROFILE': 'C:\\\\Users\\\\dev46',\n",
       "        'WINDIR': 'C:\\\\WINDOWS',\n",
       "        '__PSLOCKDOWNPOLICY': '0',\n",
       "        'CONDA_PREFIX': 'C:\\\\Users\\\\dev46\\\\anaconda3',\n",
       "        'PYDEVD_USE_FRAME_EVAL': 'NO',\n",
       "        'JPY_INTERRUPT_EVENT': '3772',\n",
       "        'IPY_INTERRUPT_EVENT': '3772',\n",
       "        'JPY_PARENT_PID': '3976',\n",
       "        'TERM': 'xterm-color',\n",
       "        'CLICOLOR': '1',\n",
       "        'FORCE_COLOR': '1',\n",
       "        'CLICOLOR_FORCE': '1',\n",
       "        'PAGER': 'cat',\n",
       "        'GIT_PAGER': 'cat',\n",
       "        'MPLBACKEND': 'module://matplotlib_inline.backend_inline'}"
      ]
     },
     "execution_count": 12,
     "metadata": {},
     "output_type": "execute_result"
    }
   ],
   "source": [
    "# looking at the environment variables of the system\n",
    "\n",
    "os.environ\n"
   ]
  },
  {
   "cell_type": "code",
   "execution_count": 13,
   "id": "20cfaa74-9c33-4475-8746-f3675557b607",
   "metadata": {},
   "outputs": [
    {
     "data": {
      "text/plain": [
       "'dev46'"
      ]
     },
     "execution_count": 13,
     "metadata": {},
     "output_type": "execute_result"
    }
   ],
   "source": [
    "os.getenv(\"USERNAME\")"
   ]
  },
  {
   "cell_type": "code",
   "execution_count": 15,
   "id": "ad1e7a9d-996f-4e25-8881-9fb987f3c005",
   "metadata": {},
   "outputs": [],
   "source": [
    "# we could use this to see if CUDA was installed on the machine, so we might be able to use the GPU\n",
    "\n",
    "os.getenv(\"CUDA_PATH\")"
   ]
  },
  {
   "cell_type": "code",
   "execution_count": 16,
   "id": "61b894c9",
   "metadata": {},
   "outputs": [
    {
     "data": {
      "text/plain": [
       "'8'"
      ]
     },
     "execution_count": 16,
     "metadata": {},
     "output_type": "execute_result"
    }
   ],
   "source": [
    "os.getenv(\"NUMBER_OF_PROCESSORS\")"
   ]
  },
  {
   "cell_type": "code",
   "execution_count": 17,
   "id": "ae5f9a4b",
   "metadata": {},
   "outputs": [
    {
     "name": "stdout",
     "output_type": "stream",
     "text": [
      "\n",
      "     active environment : base\n",
      "    active env location : C:\\Users\\dev46\\anaconda3\n",
      "       user config file : C:\\Users\\dev46\\.condarc\n",
      " populated config files : \n",
      "          conda version : 23.7.4\n",
      "    conda-build version : 3.26.1\n",
      "         python version : 3.11.5.final.0\n",
      "       virtual packages : __archspec=1=x86_64\n",
      "                          __cuda=11.6=0\n",
      "                          __win=0=0\n",
      "       base environment : C:\\Users\\dev46\\anaconda3  (writable)\n",
      "      conda av data dir : C:\\Users\\dev46\\anaconda3\\etc\\conda\n",
      "  conda av metadata url : None\n",
      "           channel URLs : https://repo.anaconda.com/pkgs/main/win-64\n",
      "                          https://repo.anaconda.com/pkgs/main/noarch\n",
      "                          https://repo.anaconda.com/pkgs/r/win-64\n",
      "                          https://repo.anaconda.com/pkgs/r/noarch\n",
      "                          https://repo.anaconda.com/pkgs/msys2/win-64\n",
      "                          https://repo.anaconda.com/pkgs/msys2/noarch\n",
      "          package cache : C:\\Users\\dev46\\anaconda3\\pkgs\n",
      "                          C:\\Users\\dev46\\.conda\\pkgs\n",
      "                          C:\\Users\\dev46\\AppData\\Local\\conda\\conda\\pkgs\n",
      "       envs directories : C:\\Users\\dev46\\anaconda3\\envs\n",
      "                          C:\\Users\\dev46\\.conda\\envs\n",
      "                          C:\\Users\\dev46\\AppData\\Local\\conda\\conda\\envs\n",
      "               platform : win-64\n",
      "             user-agent : conda/23.7.4 requests/2.31.0 CPython/3.11.5 Windows/10 Windows/10.0.22621 aau/0.4.2 c/4Hollwf8-CVf_PEmpFkNGA s/7jLWrm1LKWNpLvX7iWJwEg e/komEZZwRvJ0dY-23-7gpmA\n",
      "          administrator : False\n",
      "             netrc file : None\n",
      "           offline mode : False\n",
      "\n",
      "\n"
     ]
    }
   ],
   "source": [
    "!conda info"
   ]
  },
  {
   "cell_type": "markdown",
   "id": "4919e3a6",
   "metadata": {},
   "source": [
    "## Question/Action- find out this information using python code\n",
    "\n",
    "#### What is the name of the computer you on are on?\n",
    "#### dev46 is the username \n",
    "\n",
    "### What conda environment are you running in currently?\n",
    "### base\n",
    "\n",
    "### How many cores are available on this computer\n",
    "### 8"
   ]
  },
  {
   "cell_type": "code",
   "execution_count": 18,
   "id": "dc2dc8b3-7cff-4291-b1df-467f462b7b73",
   "metadata": {},
   "outputs": [
    {
     "data": {
      "text/plain": [
       "'C:\\\\Users\\\\dev46\\\\OneDrive\\\\Desktop'"
      ]
     },
     "execution_count": 18,
     "metadata": {},
     "output_type": "execute_result"
    }
   ],
   "source": [
    "# find the current operating directory\n",
    "\n",
    "os.getcwd()"
   ]
  },
  {
   "cell_type": "code",
   "execution_count": 19,
   "id": "4812183f-55aa-425c-8c60-d7f9435a2a95",
   "metadata": {},
   "outputs": [
    {
     "data": {
      "text/plain": [
       "['C:\\\\Users\\\\dev46\\\\anaconda3',\n",
       " 'C:\\\\Users\\\\dev46\\\\anaconda3\\\\Library\\\\mingw-w64\\\\bin',\n",
       " 'C:\\\\Users\\\\dev46\\\\anaconda3\\\\Library\\\\usr\\\\bin',\n",
       " 'C:\\\\Users\\\\dev46\\\\anaconda3\\\\Library\\\\bin',\n",
       " 'C:\\\\Users\\\\dev46\\\\anaconda3\\\\Scripts',\n",
       " 'C:\\\\Python310\\\\Scripts\\\\',\n",
       " 'C:\\\\Python310\\\\',\n",
       " 'C:\\\\Python39\\\\Scripts\\\\',\n",
       " 'C:\\\\Python39\\\\',\n",
       " 'C:\\\\Program Files (x86)\\\\Intel\\\\iCLS Client\\\\',\n",
       " 'C:\\\\Program Files\\\\Intel\\\\iCLS Client\\\\',\n",
       " 'C:\\\\Windows\\\\system32',\n",
       " 'C:\\\\Windows',\n",
       " 'C:\\\\Windows\\\\System32\\\\Wbem',\n",
       " 'C:\\\\Windows\\\\System32\\\\WindowsPowerShell\\\\v1.0\\\\',\n",
       " 'C:\\\\Program Files (x86)\\\\Intel\\\\Intel(R) Management Engine Components\\\\DAL',\n",
       " 'C:\\\\Program Files\\\\Intel\\\\Intel(R) Management Engine Components\\\\DAL',\n",
       " 'C:\\\\Program Files (x86)\\\\Intel\\\\Intel(R) Management Engine Components\\\\IPT',\n",
       " 'C:\\\\Program Files\\\\Intel\\\\Intel(R) Management Engine Components\\\\IPT',\n",
       " 'C:\\\\Program Files (x86)\\\\NVIDIA Corporation\\\\PhysX\\\\Common',\n",
       " 'C:\\\\WINDOWS\\\\system32',\n",
       " 'C:\\\\WINDOWS',\n",
       " 'C:\\\\WINDOWS\\\\System32\\\\Wbem',\n",
       " 'C:\\\\WINDOWS\\\\System32\\\\WindowsPowerShell\\\\v1.0\\\\',\n",
       " 'C:\\\\WINDOWS\\\\System32\\\\OpenSSH\\\\',\n",
       " 'C:\\\\ProgramData\\\\chocolatey\\\\bin',\n",
       " 'C:\\\\WINDOWS\\\\system32',\n",
       " 'C:\\\\WINDOWS',\n",
       " 'C:\\\\WINDOWS\\\\System32\\\\Wbem',\n",
       " 'C:\\\\WINDOWS\\\\System32\\\\WindowsPowerShell\\\\v1.0\\\\',\n",
       " 'C:\\\\WINDOWS\\\\System32\\\\OpenSSH\\\\',\n",
       " 'C:\\\\Program Files\\\\nodejs\\\\',\n",
       " 'C:\\\\Program Files\\\\Git\\\\cmd',\n",
       " 'C:\\\\Users\\\\dev46\\\\AppData\\\\Local\\\\Microsoft\\\\WindowsApps',\n",
       " 'C:\\\\Users\\\\dev46\\\\AppData\\\\Local\\\\Programs\\\\Python\\\\Python39\\\\Scripts',\n",
       " 'C:\\\\Users\\\\dev46\\\\AppData\\\\Local\\\\Programs\\\\Python\\\\Python39\\\\Scripts\\\\pip.exe',\n",
       " 'C:\\\\Users\\\\dev46\\\\AppData\\\\Local\\\\Programs\\\\Microsoft VS Code\\\\bin',\n",
       " 'C:\\\\Users\\\\dev46\\\\AppData\\\\Local\\\\Programs\\\\Python\\\\Python310\\\\Scripts',\n",
       " 'C:\\\\Users\\\\dev46\\\\AppData\\\\Roaming\\\\Python\\\\Python310\\\\Scripts',\n",
       " 'C:\\\\Users\\\\dev46\\\\AppData\\\\Roaming\\\\npm']"
      ]
     },
     "execution_count": 19,
     "metadata": {},
     "output_type": "execute_result"
    }
   ],
   "source": [
    "# any code on the current path will be found and run successfully, we can look up the current path\n",
    "\n",
    "os.get_exec_path()"
   ]
  },
  {
   "cell_type": "code",
   "execution_count": 20,
   "id": "1a751e87-cce1-4ab1-82e6-980754d8baa3",
   "metadata": {},
   "outputs": [
    {
     "data": {
      "text/plain": [
       "'dev46'"
      ]
     },
     "execution_count": 20,
     "metadata": {},
     "output_type": "execute_result"
    }
   ],
   "source": [
    "# find the username of the current user,  ie who is running the code\n",
    "\n",
    "os.getlogin()"
   ]
  },
  {
   "cell_type": "code",
   "execution_count": 22,
   "id": "a9daa5de-1f1c-42a2-92a6-871be188a317",
   "metadata": {},
   "outputs": [],
   "source": [
    "# change the working directory to a desired path\n",
    "path = 'C:\\\\Users\\\\dev46\\\\AppData'\n",
    "os.chdir(path)"
   ]
  },
  {
   "cell_type": "code",
   "execution_count": 23,
   "id": "e2b808a1-5ab7-414c-aee5-bb0bd5045e03",
   "metadata": {},
   "outputs": [
    {
     "name": "stdout",
     "output_type": "stream",
     "text": [
      "['Local', 'LocalLow', 'Roaming']\n"
     ]
    }
   ],
   "source": [
    "# list the current directory contents\n",
    "\n",
    "dir_contents=os.listdir(path='.')\n",
    "print(dir_contents)"
   ]
  },
  {
   "cell_type": "markdown",
   "id": "310156a5-1ef6-48af-9b9c-473f03be60a7",
   "metadata": {},
   "source": [
    "# Question/Action\n",
    "\n",
    "Write a piece of code that will\n",
    "\n",
    "-prompt the user for a directory name\n",
    "\n",
    "-change the current working directory to that folder\n",
    "\n",
    "-print out all the file names in the directory to an easygui text window"
   ]
  },
  {
   "cell_type": "code",
   "execution_count": 24,
   "id": "faab435b",
   "metadata": {},
   "outputs": [
    {
     "name": "stdout",
     "output_type": "stream",
     "text": [
      "C:/Users/dev46/OneDrive/Desktop\n"
     ]
    }
   ],
   "source": [
    "from tkinter.filedialog import askdirectory\n",
    "\n",
    "root=Tk.Tk()                 # root starts a tkinter object\n",
    "root.withdraw()              # we don't want a full GUI, so keep the root window from appearing\n",
    "current_directory =askdirectory()\n",
    "print(current_directory)"
   ]
  },
  {
   "cell_type": "code",
   "execution_count": 25,
   "id": "e249df87",
   "metadata": {},
   "outputs": [],
   "source": [
    "os.chdir(current_directory)"
   ]
  },
  {
   "cell_type": "code",
   "execution_count": 26,
   "id": "a533519e",
   "metadata": {},
   "outputs": [
    {
     "name": "stdout",
     "output_type": "stream",
     "text": [
      "['.ipynb_checkpoints', '02.27.2024 Dates_and_times_python.ipynb', '02.27.2024 Launching_programs_from_inside_python.ipynb', '02.27.2024 Sending_email_and_texts.ipynb', 'Academic Transcript Canisius.pdf', 'Academic Transcript UB.pdf', 'Anki.lnk', 'Answers_pp1.pdf', 'Code', 'Data Mining and Machine Learning - Shortcut.lnk', 'desktop.ini', 'friend-rainbow', 'Games', 'Grammarly.lnk', 'Informative_Readings', 'JamesHemondMultiiindex_Lord_of_the_rings_words1.ipynb - Colaboratory.pdf', 'Jupyter Notebook.lnk', 'Kindle.lnk', 'Personal_Folder', 'Portfolio - Shortcut.lnk', 'prac351a.pdf', 'Probability and Statistics I - Shortcut.lnk', 'Project-1-City-of-Buffalo-311-calls', 'rainbow', 'School Documents', 'Spotify.lnk', 'Statistics of Big Data - Shortcut.lnk', 'Stock_Database_and_Machine_Learning', 'System_utilities.ipynb', 'text1.txt', 'text2.txt', 'text3.txt', 'text4.txt', 'Visual Studio Code.lnk', 'Visualization and Presentation - Shortcut.lnk', 'YouTube Music.lnk', '~$GPA Calculator.xlsx', '~$New Assignment Grades.xlsx', '~$rketing presentation.docx']\n"
     ]
    }
   ],
   "source": [
    "dir_contents=os.listdir(path='.')\n",
    "print(dir_contents)"
   ]
  },
  {
   "cell_type": "markdown",
   "id": "9b8baaa3",
   "metadata": {},
   "source": [
    "# Question/Action\n",
    "\n",
    "Make a directory somewhere handy.  Download the four files text1, text2, text3 and text 4 from D2L into this directory\n",
    "\n",
    "-prompt the user to select this directory (not file)\n",
    "\n",
    "-obtain a list of all files in the diretory\n",
    "\n",
    "-write a loop to load each file in the diretory one at a time.   Print the file name and the first line of each file,  followed\n",
    "by a blank line.  The readlines() function should work fine to load these text files.   Be sure to close each file after reading\n",
    "the contents.\n",
    "\n",
    "This approach would be helpful if you needed to load hundreds of image files,  as one possible example"
   ]
  },
  {
   "cell_type": "code",
   "execution_count": 27,
   "id": "3e59f575",
   "metadata": {},
   "outputs": [
    {
     "name": "stdout",
     "output_type": "stream",
     "text": [
      "C:/Users/dev46/OneDrive/Desktop\n"
     ]
    }
   ],
   "source": [
    "from tkinter.filedialog import askdirectory\n",
    "\n",
    "root=Tk.Tk()                 # root starts a tkinter object\n",
    "root.withdraw()              # we don't want a full GUI, so keep the root window from appearing\n",
    "current_directory =askdirectory()\n",
    "print(current_directory)"
   ]
  },
  {
   "cell_type": "code",
   "execution_count": 28,
   "id": "4f6920d2",
   "metadata": {},
   "outputs": [],
   "source": [
    "os.chdir(current_directory)"
   ]
  },
  {
   "cell_type": "code",
   "execution_count": 29,
   "id": "71a05905",
   "metadata": {},
   "outputs": [
    {
     "name": "stdout",
     "output_type": "stream",
     "text": [
      "['.ipynb_checkpoints', '02.27.2024 Dates_and_times_python.ipynb', '02.27.2024 Launching_programs_from_inside_python.ipynb', '02.27.2024 Sending_email_and_texts.ipynb', 'Academic Transcript Canisius.pdf', 'Academic Transcript UB.pdf', 'Anki.lnk', 'Answers_pp1.pdf', 'Code', 'Data Mining and Machine Learning - Shortcut.lnk', 'desktop.ini', 'friend-rainbow', 'Games', 'Grammarly.lnk', 'Informative_Readings', 'JamesHemondMultiiindex_Lord_of_the_rings_words1.ipynb - Colaboratory.pdf', 'Jupyter Notebook.lnk', 'Kindle.lnk', 'Personal_Folder', 'Portfolio - Shortcut.lnk', 'prac351a.pdf', 'Probability and Statistics I - Shortcut.lnk', 'Project-1-City-of-Buffalo-311-calls', 'rainbow', 'School Documents', 'Spotify.lnk', 'Statistics of Big Data - Shortcut.lnk', 'Stock_Database_and_Machine_Learning', 'System_utilities.ipynb', 'text1.txt', 'text2.txt', 'text3.txt', 'text4.txt', 'Visual Studio Code.lnk', 'Visualization and Presentation - Shortcut.lnk', 'YouTube Music.lnk', '~$GPA Calculator.xlsx', '~$New Assignment Grades.xlsx', '~$rketing presentation.docx']\n"
     ]
    }
   ],
   "source": [
    "dir_contents=os.listdir(path='.')\n",
    "print(dir_contents)"
   ]
  },
  {
   "cell_type": "code",
   "execution_count": 30,
   "id": "0b2a041e",
   "metadata": {},
   "outputs": [
    {
     "name": "stdout",
     "output_type": "stream",
     "text": [
      ".ipynb_checkpoints\n",
      "02.27.2024 Dates_and_times_python.ipynb\n",
      "02.27.2024 Launching_programs_from_inside_python.ipynb\n",
      "02.27.2024 Sending_email_and_texts.ipynb\n",
      "Academic Transcript Canisius.pdf\n",
      "Academic Transcript UB.pdf\n",
      "Anki.lnk\n",
      "Answers_pp1.pdf\n",
      "Code\n",
      "Data Mining and Machine Learning - Shortcut.lnk\n",
      "desktop.ini\n",
      "friend-rainbow\n",
      "Games\n",
      "Grammarly.lnk\n",
      "Informative_Readings\n",
      "JamesHemondMultiiindex_Lord_of_the_rings_words1.ipynb - Colaboratory.pdf\n",
      "Jupyter Notebook.lnk\n",
      "Kindle.lnk\n",
      "Personal_Folder\n",
      "Portfolio - Shortcut.lnk\n",
      "prac351a.pdf\n",
      "Probability and Statistics I - Shortcut.lnk\n",
      "Project-1-City-of-Buffalo-311-calls\n",
      "rainbow\n",
      "School Documents\n",
      "Spotify.lnk\n",
      "Statistics of Big Data - Shortcut.lnk\n",
      "Stock_Database_and_Machine_Learning\n",
      "System_utilities.ipynb\n",
      "text1.txt\n",
      "text2.txt\n",
      "text3.txt\n",
      "text4.txt\n",
      "Visual Studio Code.lnk\n",
      "Visualization and Presentation - Shortcut.lnk\n",
      "YouTube Music.lnk\n",
      "~$GPA Calculator.xlsx\n",
      "~$New Assignment Grades.xlsx\n",
      "~$rketing presentation.docx\n"
     ]
    }
   ],
   "source": [
    "for items in dir_contents:\n",
    "    print(items)"
   ]
  },
  {
   "cell_type": "code",
   "execution_count": 35,
   "id": "c9c59575",
   "metadata": {},
   "outputs": [
    {
     "data": {
      "text/plain": [
       "'C:/Users/dev46/OneDrive/Desktop'"
      ]
     },
     "execution_count": 35,
     "metadata": {},
     "output_type": "execute_result"
    }
   ],
   "source": [
    "path = current_directory\n"
   ]
  },
  {
   "cell_type": "code",
   "execution_count": 37,
   "id": "6644358b",
   "metadata": {},
   "outputs": [],
   "source": [
    "#Creating a directoy from inside python\n",
    "path = 'C:/Users/dev46/OneDrive/Desktop/Test'\n",
    "os.mkdir(path, mode=511, dir_fd=None)"
   ]
  },
  {
   "cell_type": "code",
   "execution_count": 41,
   "id": "58f78ed3-8eb8-49dc-ae6a-3029917b0307",
   "metadata": {},
   "outputs": [],
   "source": [
    "# deleting a file\n",
    "path = 'C:/Users/dev46/OneDrive/Desktop/Test/text.txt'\n",
    "\n",
    "os.remove(path, dir_fd=None)"
   ]
  },
  {
   "cell_type": "code",
   "execution_count": 43,
   "id": "c8ab04c5-bf4c-4251-bafa-eb9c8898731f",
   "metadata": {},
   "outputs": [],
   "source": [
    "#renaming a file\n",
    "src = 'C:/Users/dev46/OneDrive/Desktop/Test/text.txt'\n",
    "dst = 'C:/Users/dev46/OneDrive/Desktop/Test/text2.txt'\n",
    "\n",
    "os.rename(src, dst,  src_dir_fd=None, dst_dir_fd=None)"
   ]
  },
  {
   "cell_type": "code",
   "execution_count": 45,
   "id": "7652e26a-3e45-4e0b-b978-dec3e46a8596",
   "metadata": {},
   "outputs": [],
   "source": [
    "# removing a directory\n",
    "path = 'C:/Users/dev46/OneDrive/Desktop/Test'\n",
    "os.rmdir(path, dir_fd=None)"
   ]
  },
  {
   "cell_type": "markdown",
   "id": "91b40877",
   "metadata": {},
   "source": [
    "# task/action\n",
    "\n",
    "from within python\n",
    "\n",
    "-create a directory\n",
    "-write three files,  each with a 3 x 3 random matrix in it, with file names test1.csv, test2.csv, test3.csv into this directory\n",
    "-print the directory contents\n",
    "-rename file test2.csv as test2a.csv\n",
    "-delete file test2.csv\n",
    "\n",
    "-delete the entire directory"
   ]
  },
  {
   "cell_type": "code",
   "execution_count": 50,
   "id": "4a576845",
   "metadata": {},
   "outputs": [],
   "source": [
    "#Creating a directoy from inside python\n",
    "path = 'C:/Users/dev46/OneDrive/Desktop/Test'\n",
    "os.mkdir(path, mode=511, dir_fd=None)\n",
    "os.chdir(path)"
   ]
  },
  {
   "cell_type": "code",
   "execution_count": 51,
   "id": "30a0513b",
   "metadata": {},
   "outputs": [],
   "source": [
    "import numpy as np\n",
    "random_matrix = np.random.rand(3, 3)\n",
    "np.savetxt('test1.csv', random_matrix, delimiter=',')\n",
    "random_matrix = np.random.rand(3, 3)\n",
    "np.savetxt('test2.csv', random_matrix, delimiter=',')\n",
    "random_matrix = np.random.rand(3, 3)\n",
    "np.savetxt('test3.csv', random_matrix, delimiter=',')"
   ]
  },
  {
   "cell_type": "code",
   "execution_count": 52,
   "id": "9a0e8155",
   "metadata": {},
   "outputs": [],
   "source": [
    "path = 'C:/Users/dev46/OneDrive/Desktop/Test/test2.csv'\n",
    "os.remove(path, dir_fd=None)"
   ]
  },
  {
   "cell_type": "code",
   "execution_count": 55,
   "id": "68ec4f0f",
   "metadata": {},
   "outputs": [],
   "source": [
    "os.chdir('C:/Users/dev46/OneDrive/Desktop/')"
   ]
  },
  {
   "cell_type": "code",
   "execution_count": 56,
   "id": "b12d8d5a",
   "metadata": {},
   "outputs": [
    {
     "data": {
      "text/plain": [
       "'C:\\\\Users\\\\dev46\\\\OneDrive\\\\Desktop'"
      ]
     },
     "execution_count": 56,
     "metadata": {},
     "output_type": "execute_result"
    }
   ],
   "source": [
    "os.getcwd()"
   ]
  },
  {
   "cell_type": "code",
   "execution_count": 58,
   "id": "3760f829",
   "metadata": {},
   "outputs": [],
   "source": [
    "path = 'C:/Users/dev46/OneDrive/Desktop/Test/test3.csv'\n",
    "os.remove(path, dir_fd=None)\n",
    "path = 'C:/Users/dev46/OneDrive/Desktop/Test/test1.csv'\n",
    "os.remove(path, dir_fd=None)"
   ]
  },
  {
   "cell_type": "code",
   "execution_count": 59,
   "id": "9aacf713",
   "metadata": {},
   "outputs": [],
   "source": [
    "# removing a directory\n",
    "path = 'C:/Users/dev46/OneDrive/Desktop/Test'\n",
    "os.rmdir(path, dir_fd=None)"
   ]
  },
  {
   "cell_type": "code",
   "execution_count": null,
   "id": "baade033-6952-4bb0-8ce8-ce3d6d3a2396",
   "metadata": {},
   "outputs": [],
   "source": [
    "## Miscellaneous operations"
   ]
  },
  {
   "cell_type": "code",
   "execution_count": 60,
   "id": "429e52a1-5ea8-463a-8190-a6d0643228fb",
   "metadata": {},
   "outputs": [
    {
     "data": {
      "text/plain": [
       "8"
      ]
     },
     "execution_count": 60,
     "metadata": {},
     "output_type": "execute_result"
    }
   ],
   "source": [
    "## Find out how many CPUs the computer has\n",
    "\n",
    "os.cpu_count()"
   ]
  },
  {
   "cell_type": "code",
   "execution_count": 61,
   "id": "5751c19c-716f-4b19-933f-61d57b040007",
   "metadata": {},
   "outputs": [
    {
     "data": {
      "text/plain": [
       "'\\\\'"
      ]
     },
     "execution_count": 61,
     "metadata": {},
     "output_type": "execute_result"
    }
   ],
   "source": [
    "# different systems use different number of slashes in file names\n",
    "# find out the file separator of the current operarting system\n",
    "\n",
    "os.sep"
   ]
  },
  {
   "cell_type": "code",
   "execution_count": 62,
   "id": "aa3309f3-8219-46af-99a2-67fab615e98e",
   "metadata": {},
   "outputs": [
    {
     "data": {
      "text/plain": [
       "('_abc',\n",
       " '_ast',\n",
       " '_bisect',\n",
       " '_blake2',\n",
       " '_codecs',\n",
       " '_codecs_cn',\n",
       " '_codecs_hk',\n",
       " '_codecs_iso2022',\n",
       " '_codecs_jp',\n",
       " '_codecs_kr',\n",
       " '_codecs_tw',\n",
       " '_collections',\n",
       " '_contextvars',\n",
       " '_csv',\n",
       " '_datetime',\n",
       " '_functools',\n",
       " '_heapq',\n",
       " '_imp',\n",
       " '_io',\n",
       " '_json',\n",
       " '_locale',\n",
       " '_lsprof',\n",
       " '_md5',\n",
       " '_multibytecodec',\n",
       " '_opcode',\n",
       " '_operator',\n",
       " '_pickle',\n",
       " '_random',\n",
       " '_sha1',\n",
       " '_sha256',\n",
       " '_sha3',\n",
       " '_sha512',\n",
       " '_signal',\n",
       " '_sre',\n",
       " '_stat',\n",
       " '_statistics',\n",
       " '_string',\n",
       " '_struct',\n",
       " '_symtable',\n",
       " '_thread',\n",
       " '_tokenize',\n",
       " '_tracemalloc',\n",
       " '_typing',\n",
       " '_warnings',\n",
       " '_weakref',\n",
       " '_winapi',\n",
       " '_xxsubinterpreters',\n",
       " 'array',\n",
       " 'atexit',\n",
       " 'audioop',\n",
       " 'binascii',\n",
       " 'builtins',\n",
       " 'cmath',\n",
       " 'errno',\n",
       " 'faulthandler',\n",
       " 'gc',\n",
       " 'itertools',\n",
       " 'marshal',\n",
       " 'math',\n",
       " 'mmap',\n",
       " 'msvcrt',\n",
       " 'nt',\n",
       " 'sys',\n",
       " 'time',\n",
       " 'winreg',\n",
       " 'xxsubtype',\n",
       " 'zlib')"
      ]
     },
     "execution_count": 62,
     "metadata": {},
     "output_type": "execute_result"
    }
   ],
   "source": [
    "# what are the available, built-in python modules on this system?\n",
    "\n",
    "sys.builtin_module_names"
   ]
  },
  {
   "cell_type": "code",
   "execution_count": 63,
   "id": "d0be55da-71ba-48ac-af62-afd018e96e07",
   "metadata": {},
   "outputs": [
    {
     "data": {
      "text/plain": [
       "dict_keys(['sys', 'builtins', '_frozen_importlib', '_imp', '_thread', '_warnings', '_weakref', 'winreg', '_io', 'marshal', 'nt', '_frozen_importlib_external', 'time', 'zipimport', '_codecs', 'codecs', 'encodings.aliases', 'encodings', 'encodings.utf_8', 'encodings.cp1252', '_signal', '_abc', 'abc', 'io', '__main__', '_stat', 'stat', '_collections_abc', 'genericpath', '_winapi', 'ntpath', 'os.path', 'os', '_sitebuiltins', '_distutils_hack', 'types', 'importlib._bootstrap', 'importlib._bootstrap_external', 'warnings', 'importlib', 'importlib._abc', 'itertools', 'keyword', '_operator', 'operator', 'reprlib', '_collections', 'collections', '_functools', 'functools', 'contextlib', 'importlib.util', 'importlib.machinery', 'mpl_toolkits', 'ruamel', 'sphinxcontrib', 'zope', 'site', 'runpy', 'enum', '_sre', 're._constants', 're._parser', 're._casefix', 're._compiler', 'copyreg', 're', 'collections.abc', '_typing', 'typing.io', 'typing.re', 'typing', 'ipykernel._version', '_json', 'json.scanner', 'json.decoder', 'json.encoder', 'json', 'errno', '_locale', 'locale', 'signal', '_weakrefset', 'threading', 'msvcrt', 'subprocess', 'jupyter_client._version', '_ast', 'ast', '_opcode', 'opcode', 'dis', 'token', 'tokenize', 'linecache', 'inspect', 'traitlets.utils', 'traitlets.utils.bunch', 'traitlets.utils.descriptions', 'traitlets.utils.getargspec', 'traitlets.utils.importstring', 'traitlets.utils.sentinel', 'traitlets.traitlets', 'traitlets._version', 'weakref', 'copy', 'traitlets.utils.decorators', 'traitlets', 'concurrent', 'textwrap', 'traceback', '_string', 'string', 'atexit', 'logging', 'concurrent.futures._base', 'concurrent.futures', '_heapq', 'heapq', '_socket', 'math', 'select', 'selectors', 'socket', '_ssl', '_struct', 'struct', 'binascii', 'base64', 'ssl', 'asyncio.constants', 'asyncio.coroutines', '_contextvars', 'contextvars', 'asyncio.format_helpers', 'asyncio.base_futures', 'asyncio.exceptions', 'asyncio.base_tasks', '_asyncio', 'asyncio.events', 'asyncio.futures', 'asyncio.protocols', 'asyncio.transports', 'asyncio.log', 'asyncio.sslproto', 'asyncio.mixins', 'asyncio.tasks', 'asyncio.locks', 'asyncio.staggered', 'asyncio.trsock', 'asyncio.base_events', 'asyncio.runners', 'asyncio.queues', 'asyncio.streams', 'asyncio.subprocess', 'asyncio.taskgroups', 'asyncio.timeouts', 'asyncio.threads', '_overlapped', 'asyncio.base_subprocess', 'asyncio.proactor_events', 'asyncio.selector_events', 'posixpath', 'fnmatch', 'zlib', '_compression', '_bz2', 'bz2', '_lzma', 'lzma', 'shutil', '_bisect', 'bisect', '_random', '_sha512', 'random', 'tempfile', 'asyncio.windows_utils', 'asyncio.windows_events', 'asyncio', '_queue', 'queue', 'platform', 'zmq.backend.select', '_cython_0_29_32', 'cython_runtime', 'zmq.error', 'zmq.backend.cython.context', 'zmq.backend.cython.message', '_compat_pickle', '_pickle', 'pickle', 'zmq.constants', 'zmq.backend.cython.socket', 'zmq.backend.cython._device', 'zmq.backend.cython._poll', 'zmq.backend.cython._proxy_steerable', '_cython_0_29_30', 'zmq.backend.cython._version', 'zmq.backend.cython.error', 'zmq.backend.cython.utils', 'zmq.backend.cython', 'zmq.backend', 'zmq.sugar.attrsettr', 'zmq._typing', 'zmq.utils', 'zmq.utils.jsonapi', 'zmq.sugar.poll', 'zmq.sugar.socket', 'zmq.sugar.context', 'zmq.sugar.frame', 'zmq.sugar.tracker', 'zmq.sugar.version', 'zmq.sugar.stopwatch', 'zmq.sugar', 'zmq', 'zmq._future', 'zmq.asyncio', 'jupyter_client.channelsabc', '_hashlib', '_blake2', 'hashlib', 'hmac', 'dataclasses', 'pprint', '_datetime', 'datetime', 'tornado', 'numbers', 'logging.handlers', 'html.entities', 'html', 'urllib', 'ipaddress', 'urllib.parse', 'array', 'tornado.speedups', 'tornado.util', 'tornado.escape', 'colorama.ansi', '_ctypes', 'ctypes._endian', 'ctypes', 'ctypes.wintypes', 'colorama.win32', 'colorama.winterm', 'colorama.ansitowin32', 'colorama.initialise', 'colorama', 'tornado.log', 'tornado.concurrent', 'tornado.ioloop', 'socketserver', 'logging.config', 'traitlets.utils.text', 'gettext', 'argparse', 'traitlets.config.loader', 'traitlets.config.configurable', 'traitlets.utils.nested_update', 'traitlets.config.application', 'traitlets.config', 'traitlets.log', 'tornado.platform', 'tornado.gen', 'tornado.platform.asyncio', 'zmq.eventloop.ioloop', 'zmq.eventloop', 'zmq.eventloop.zmqstream', 'jupyter_client.adapter', 'dateutil._version', 'dateutil', '__future__', 'calendar', 'six', '_decimal', 'decimal', 'dateutil._common', 'dateutil.relativedelta', 'six.moves', 'dateutil.tz._common', 'dateutil.tz._factories', 'dateutil.tz.win', 'dateutil.tz.tz', 'dateutil.tz', 'dateutil.parser._parser', 'dateutil.parser.isoparser', 'dateutil.parser', '_strptime', 'jupyter_client.jsonutil', 'jupyter_client.session', 'jupyter_client.channels', 'getpass', 'jupyter_client.clientabc', 'glob', 'jupyter_core.version', 'jupyter_core', 'pathlib', 'platformdirs.api', 'platformdirs.version', 'platformdirs.windows', 'platformdirs', 'jupyter_core.utils', 'jupyter_core.paths', 'jupyter_client.localinterfaces', 'jupyter_client.utils', 'jupyter_client.connect', 'jupyter_client.client', 'jupyter_client.asynchronous.client', 'jupyter_client.asynchronous', 'jupyter_client.blocking.client', 'jupyter_client.blocking', 'jupyter_client.launcher', '_uuid', 'uuid', 'jupyter_client.managerabc', 'zipfile', 'configparser', 'entrypoints', 'jupyter_client.provisioning.provisioner_base', 'jupyter_client.provisioning.factory', 'jupyter_client.provisioning.local_provisioner', 'jupyter_client.provisioning', 'jupyter_client.kernelspec', 'jupyter_client.manager', 'jupyter_client.multikernelmanager', 'jupyter_client', 'ipykernel.connect', 'ipykernel', 'IPython.core', 'IPython.core.getipython', 'IPython.core.release', 'pkgutil', 'sysconfig', 'pydoc', 'executing.executing', 'executing.version', 'executing', 'asttokens.line_numbers', 'asttokens.util', 'asttokens.mark_tokens', 'asttokens.asttokens', 'asttokens', 'fractions', 'pure_eval.utils', 'pure_eval.my_getattr_static', 'pure_eval.core', 'pure_eval.version', 'pure_eval', 'stack_data.utils', 'stack_data.core', 'stack_data.formatting', 'stack_data.version', 'stack_data', 'pygments', 'pygments.formatters._mapping', 'pygments.plugin', 'pygments.util', 'pygments.formatters', 'pygments.styles', 'pygments.formatter', 'pygments.console', 'pygments.token', 'pygments.style', 'pygments.formatters.terminal256', 'IPython.utils', 'IPython.utils.colorable', 'IPython.utils.ipstruct', 'IPython.utils.coloransi', 'IPython.utils.PyColorize', 'IPython.utils.encoding', 'IPython.utils.py3compat', 'IPython.core.excolors', 'cmd', 'bdb', 'codeop', 'code', 'pdb', 'IPython.core.debugger', 'IPython.core.display_trap', 'shlex', 'IPython.utils._process_common', 'IPython.utils._process_win32', 'IPython.utils.process', 'IPython.utils.path', 'IPython.utils.terminal', 'IPython.core.ultratb', 'IPython.utils._sysinfo', 'IPython.utils.sysinfo', 'IPython.core.crashhandler', 'IPython.utils.importstring', 'IPython.paths', 'IPython.core.profiledir', 'IPython.core.application', 'IPython.terminal', 'IPython.core.compilerop', 'IPython.core.error', 'IPython.utils.docs', 'IPython.utils.decorators', 'IPython.utils.text', 'IPython.core.magic_arguments', 'getopt', 'IPython.core.display_functions', 'mimetypes', 'IPython.testing', 'IPython.testing.skipdoctest', 'IPython.core.display', 'IPython.lib', 'IPython.lib.display', 'IPython.display', 'IPython.utils.data', 'IPython.core.page', 'IPython.lib.pretty', 'IPython.utils.openpy', 'IPython.utils.dir2', 'IPython.utils.wildcard', 'pygments.lexers._mapping', 'pygments.modeline', 'pygments.lexers', 'pygments.filter', 'pygments.filters', 'pygments.regexopt', 'pygments.lexer', 'pygments.unistring', 'pygments.lexers.python', 'pygments.formatters.html', 'IPython.core.oinspect', 'IPython.utils.tokenutil', 'IPython.core.inputtransformer2', 'IPython.core.magic', 'pickleshare', 'IPython.core.hooks', 'IPython.core.autocall', 'IPython.core.macro', 'IPython.core.splitinput', 'IPython.core.prefilter', 'IPython.core.alias', 'IPython.core.builtin_trap', 'IPython.core.displayhook', 'IPython.core.displaypub', 'backcall.backcall', 'backcall', 'IPython.core.events', 'IPython.core.extensions', 'decorator', 'IPython.utils.sentinel', 'IPython.core.formatters', '_sqlite3', 'sqlite3.dbapi2', 'sqlite3', 'IPython.core.history', 'IPython.core.logger', 'IPython.core.payload', 'IPython.core.usage', 'IPython.utils.capture', 'IPython.utils.io', 'IPython.utils.strdispatch', 'IPython.utils.syspathcontext', 'IPython.core.async_helpers', 'IPython.core.interactiveshell', 'prompt_toolkit.application.current', 'prompt_toolkit.eventloop.async_context_manager', 'prompt_toolkit.eventloop.utils', 'prompt_toolkit.eventloop.async_generator', 'prompt_toolkit.eventloop.inputhook', 'prompt_toolkit.eventloop', 'prompt_toolkit.application.run_in_terminal', 'prompt_toolkit.selection', 'prompt_toolkit.clipboard.base', 'prompt_toolkit.clipboard.in_memory', 'prompt_toolkit.clipboard', 'prompt_toolkit.cache', 'prompt_toolkit.enums', 'prompt_toolkit.filters.base', 'prompt_toolkit.filters.app', 'prompt_toolkit.filters.cli', 'prompt_toolkit.filters.utils', 'prompt_toolkit.filters', 'prompt_toolkit.document', 'prompt_toolkit.auto_suggest', 'prompt_toolkit.keys', 'prompt_toolkit.key_binding.key_bindings', 'wcwidth.table_wide', 'wcwidth.table_zero', 'wcwidth.unicode_versions', 'wcwidth.wcwidth', 'wcwidth', 'prompt_toolkit.utils', 'prompt_toolkit.key_binding.key_processor', 'prompt_toolkit.key_binding', 'prompt_toolkit.key_binding.vi_state', 'prompt_toolkit.cursor_shapes', 'prompt_toolkit.data_structures', 'prompt_toolkit.styles.base', 'prompt_toolkit.styles.named_colors', 'prompt_toolkit.styles.style', 'prompt_toolkit.styles.defaults', 'prompt_toolkit.styles.pygments', 'colorsys', 'prompt_toolkit.styles.style_transformation', 'prompt_toolkit.styles', 'prompt_toolkit.output.color_depth', 'prompt_toolkit.output.base', 'prompt_toolkit.output.flush_stdout', 'prompt_toolkit.output.plain_text', 'prompt_toolkit.output.defaults', 'prompt_toolkit.output', 'prompt_toolkit.output.vt100', 'prompt_toolkit.mouse_events', 'prompt_toolkit.formatted_text.base', 'prompt_toolkit.formatted_text.ansi', 'xml', 'xml.dom.domreg', 'xml.dom', 'xml.dom.minicompat', 'xml.dom.NodeFilter', 'xml.dom.xmlbuilder', 'xml.dom.minidom', 'prompt_toolkit.formatted_text.html', 'prompt_toolkit.formatted_text.pygments', 'prompt_toolkit.formatted_text.utils', 'prompt_toolkit.formatted_text', 'prompt_toolkit.completion.base', 'prompt_toolkit.completion.deduplicate', 'prompt_toolkit.completion.filesystem', 'prompt_toolkit.completion.word_completer', 'prompt_toolkit.completion.fuzzy_completer', 'prompt_toolkit.completion.nested', 'prompt_toolkit.completion', 'prompt_toolkit.history', 'prompt_toolkit.search', 'prompt_toolkit.validation', 'prompt_toolkit.buffer', 'prompt_toolkit.input.base', 'prompt_toolkit.input.defaults', 'prompt_toolkit.input', 'prompt_toolkit.input.typeahead', 'prompt_toolkit.key_binding.bindings', 'prompt_toolkit.key_binding.bindings.scroll', 'prompt_toolkit.key_binding.bindings.page_navigation', 'prompt_toolkit.lexers.base', 'prompt_toolkit.lexers.pygments', 'prompt_toolkit.lexers', 'prompt_toolkit.layout.utils', 'prompt_toolkit.layout.processors', 'prompt_toolkit.layout.controls', 'prompt_toolkit.layout.dimension', 'prompt_toolkit.layout.margins', 'prompt_toolkit.layout.mouse_handlers', 'prompt_toolkit.layout.screen', 'prompt_toolkit.layout.containers', 'prompt_toolkit.layout.layout', 'prompt_toolkit.layout.menus', 'prompt_toolkit.layout.scrollable_pane', 'prompt_toolkit.layout', 'prompt_toolkit.key_binding.bindings.completion', 'prompt_toolkit.key_binding.bindings.named_commands', 'prompt_toolkit.key_binding.bindings.basic', 'prompt_toolkit.key_binding.bindings.cpr', 'prompt_toolkit.key_binding.bindings.emacs', 'prompt_toolkit.key_binding.bindings.mouse', 'prompt_toolkit.input.ansi_escape_sequences', 'prompt_toolkit.input.vt100_parser', 'prompt_toolkit.key_binding.digraphs', 'prompt_toolkit.key_binding.bindings.vi', 'prompt_toolkit.key_binding.defaults', 'prompt_toolkit.key_binding.emacs_state', 'prompt_toolkit.layout.dummy', 'prompt_toolkit.renderer', 'prompt_toolkit.application.application', 'prompt_toolkit.application.dummy', 'prompt_toolkit.application', 'prompt_toolkit.key_binding.bindings.focus', 'prompt_toolkit.widgets.toolbars', 'prompt_toolkit.widgets.base', 'prompt_toolkit.widgets.dialogs', 'prompt_toolkit.widgets.menus', 'prompt_toolkit.widgets', 'prompt_toolkit.shortcuts.dialogs', 'prompt_toolkit.shortcuts.progress_bar.formatters', 'prompt_toolkit.shortcuts.progress_bar.base', 'prompt_toolkit.shortcuts.progress_bar', 'prompt_toolkit.key_binding.bindings.auto_suggest', 'prompt_toolkit.key_binding.bindings.open_in_editor', 'prompt_toolkit.shortcuts.prompt', 'prompt_toolkit.shortcuts.utils', 'prompt_toolkit.shortcuts', 'prompt_toolkit', 'prompt_toolkit.patch_stdout', 'unicodedata', 'IPython.core.guarded_eval', 'IPython.core.latex_symbols', 'IPython.utils.generics', 'parso.utils', 'parso.tree', 'parso.python', 'parso.python.token', 'parso.python.tokenize', 'parso.pgen2.grammar_parser', 'parso.pgen2.generator', 'parso.pgen2', 'parso.parser', 'parso._compatibility', 'difflib', 'parso.python.prefix', 'parso.python.tree', 'parso.python.parser', 'parso.python.diff', 'gc', 'parso.cache', 'parso.normalizer', 'parso.python.errors', 'parso.python.pep8', 'parso.file_io', 'parso.grammar', 'parso', 'jedi.parser_utils', 'jedi.debug', 'jedi.settings', 'jedi.cache', 'jedi.file_io', 'jedi.inference.cache', 'jedi.inference.helpers', 'jedi.inference.utils', 'jedi.inference.base_value', 'jedi.inference.sys_path', 'jedi.inference.recursion', 'jedi.inference.flow_analysis', 'jedi.common', 'jedi.inference.lazy_value', 'jedi.inference.docstrings', 'jedi.plugins', 'jedi.inference.names', 'jedi.inference.filters', 'jedi.inference.compiled.getattr_static', 'jedi.inference.compiled.access', 'jedi.inference.signature', 'jedi.inference.context', 'jedi.inference.compiled.value', 'jedi.inference.compiled', 'jedi.inference.analysis', 'jedi.inference.gradual', 'jedi.inference.value.module', 'jedi.inference.value.dynamic_arrays', 'jedi.inference.value.iterable', 'jedi.inference.arguments', 'jedi.inference.parser_cache', 'jedi.inference.gradual.generics', 'jedi.inference.value.function', 'jedi.inference.value.klass', 'jedi.inference.value.instance', 'jedi.inference.value', 'jedi.inference.gradual.base', 'jedi.inference.gradual.type_var', 'jedi.inference.gradual.typing', 'jedi.inference.gradual.stub_value', 'jedi.inference.gradual.typeshed', 'jedi._compatibility', 'jedi.inference.compiled.subprocess.functions', 'jedi.api.exceptions', 'jedi.inference.compiled.subprocess', 'jedi.inference.imports', 'jedi.inference.param', 'jedi.inference.gradual.annotation', 'jedi.inference.value.decorator', 'jedi.inference.syntax_tree', 'jedi.inference', 'jedi.inference.gradual.conversion', 'jedi.inference.compiled.mixed', 'pydoc_data', 'pydoc_data.topics', 'jedi.api.keywords', 'jedi.api.completion_cache', 'jedi.api.helpers', 'jedi.api.classes', 'jedi.api.interpreter', 'jedi.api.strings', 'jedi.api.file_name', 'jedi.inference.docstring_utils', 'jedi.api.completion', 'filecmp', 'jedi.api.environment', 'jedi.inference.references', 'jedi.api.project', 'jedi.api.errors', 'jedi.api.refactoring', 'jedi.api.refactoring.extract', 'jedi.inference.gradual.utils', 'jedi.api', 'jedi.plugins.stdlib', 'jedi.plugins.flask', 'jedi.plugins.pytest', 'jedi.plugins.django', 'jedi.plugins.registry', 'jedi', 'IPython.core.completer', 'IPython.terminal.ptutils', 'IPython.terminal.shortcuts.auto_match', 'IPython.terminal.shortcuts.filters', 'IPython.terminal.shortcuts.auto_suggest', 'IPython.lib.clipboard', 'IPython.terminal.shortcuts', 'concurrent.futures.thread', 'IPython.terminal.debugger', 'IPython.terminal.magics', 'IPython.terminal.pt_inputhooks', 'IPython.terminal.prompts', 'IPython.terminal.interactiveshell', 'IPython.core.magics.auto', 'IPython.core.magics.basic', 'email', 'http', 'email.errors', 'email.quoprimime', 'email.base64mime', 'quopri', 'email.encoders', 'email.charset', 'email.header', 'email._parseaddr', 'email.utils', 'email._policybase', 'email.feedparser', 'email.parser', 'email._encoded_words', 'email.iterators', 'email.message', 'http.client', 'urllib.response', 'urllib.error', 'nturl2path', 'urllib.request', 'IPython.utils.contexts', 'IPython.core.magics.code', 'IPython.core.magics.config', 'IPython.core.magics.display', '_lsprof', 'profile', 'cProfile', 'pstats', 'timeit', 'IPython.utils.module_paths', 'IPython.utils.timing', 'IPython.core.magics.ast_mod', 'IPython.core.magics.execution', 'IPython.core.magics.extension', 'IPython.core.magics.history', 'IPython.core.magics.logging', 'IPython.core.magics.namespace', 'IPython.core.magics.osm', 'IPython.core.magics.packaging', 'IPython.core.pylabtools', 'IPython.core.magics.pylab', 'IPython.core.magics.script', 'IPython.core.magics', 'IPython.core.shellapp', 'IPython.extensions', 'IPython.extensions.storemagic', 'IPython.terminal.ipapp', 'IPython.terminal.embed', 'IPython.utils.frame', 'IPython', 'ipykernel.control', 'ipykernel.heartbeat', 'ipykernel.iostream', 'comm.base_comm', 'comm', 'ipykernel.jsonutil', 'psutil._common', 'psutil._compat', 'psutil._psutil_windows', 'psutil._pswindows', 'psutil', 'tornado.locks', 'tornado.queues', 'ipykernel.kernelbase', 'ipykernel.comm.comm', 'ipykernel.comm.manager', 'ipykernel.comm', 'ipykernel.compiler', 'debugpy._version', 'debugpy.public_api', 'debugpy', 'debugpy._vendored._util', 'debugpy._vendored', '_pydevd_bundle', 'encodings.ascii', 'encodings.latin_1', 'stringprep', 'encodings.idna', '_pydevd_bundle.pydevd_vm_type', '_pydev_bundle', 'xmlrpc', 'xml.parsers', 'pyexpat.errors', 'pyexpat.model', 'pyexpat', 'xml.parsers.expat.model', 'xml.parsers.expat.errors', 'xml.parsers.expat', 'gzip', 'xmlrpc.client', 'http.server', 'xmlrpc.server', '_pydev_bundle._pydev_saved_modules', '_pydevd_bundle.pydevd_constants', '_pydev_runfiles', '_pydevd_frame_eval', 'pydev_ipython', 'plistlib', 'pkg_resources.extern', 'pkg_resources._vendor', 'pkg_resources._vendor.jaraco', 'pkg_resources.extern.jaraco', 'importlib.resources.abc', 'importlib.resources._adapters', 'importlib.resources._common', 'importlib.resources._legacy', 'importlib.resources', 'pkg_resources._vendor.more_itertools.recipes', 'pkg_resources._vendor.more_itertools.more', 'pkg_resources._vendor.more_itertools', 'pkg_resources.extern.more_itertools', 'pkg_resources.extern.jaraco.functools', 'pkg_resources.extern.jaraco.context', 'pkg_resources.extern.jaraco.text', 'pkg_resources._vendor.platformdirs.api', 'pkg_resources._vendor.platformdirs.version', 'pkg_resources._vendor.platformdirs.windows', 'pkg_resources._vendor.platformdirs', 'pkg_resources.extern.platformdirs', 'pkg_resources._vendor.packaging', 'pkg_resources.extern.packaging', 'pkg_resources.extern.packaging._structures', 'pkg_resources.extern.packaging.version', 'pkg_resources._vendor.packaging._elffile', 'pkg_resources._vendor.packaging._manylinux', 'pkg_resources._vendor.packaging._musllinux', 'pkg_resources.extern.packaging.tags', 'pkg_resources.extern.packaging.utils', 'pkg_resources.extern.packaging.specifiers', 'pkg_resources.extern.packaging._tokenizer', 'pkg_resources.extern.packaging._parser', 'pkg_resources.extern.packaging.markers', 'pkg_resources.extern.packaging.requirements', 'pkg_resources', 'pydevd_plugins', '_pydev_bundle.pydev_log', '_pydev_bundle._pydev_filesystem_encoding', '_pydevd_bundle.pydevd_comm_constants', 'pydevd_file_utils', '_pydev_bundle._pydev_execfile', '_pydevd_bundle.pydevd_exec2', '_pydev_bundle.pydev_imports', '_pydev_bundle.pydev_is_thread_alive', '_pydev_bundle.pydev_override', 'pydevd_plugins.extensions', '_pydevd_bundle.pydevd_extension_utils', '_pydevd_bundle.pydevd_frame_utils', '_pydevd_bundle.pydevd_filtering', '_pydevd_bundle.pydevd_io', '_pydevd_bundle.pydevd_defaults', '_pydevd_bundle.pydevd_utils', '_pydevd_bundle.pydevd_runpy', '_pydev_bundle._pydev_tipper_common', '_pydev_bundle._pydev_imports_tipper', '_pydev_bundle._pydev_calltip_util', '_pydevd_bundle.pydevd_safe_repr', '_pydevd_bundle.pydevd_resolver', '_pydevd_bundle.pydevd_extension_api', '_pydevd_bundle.pydevd_xml', '_pydevd_bundle.pydevd_dont_trace', '_pydevd_frame_eval.vendored', '_pydevd_frame_eval.vendored.bytecode.flags', '_pydevd_frame_eval.vendored.bytecode.instr', '_pydevd_frame_eval.vendored.bytecode.bytecode', '_pydevd_frame_eval.vendored.bytecode.concrete', '_pydevd_frame_eval.vendored.bytecode.cfg', '_pydevd_frame_eval.vendored.bytecode', '_pydevd_bundle.pydevd_bytecode_utils', '_pydevd_bundle.pydevd_cython', '_pydevd_bundle.pydevd_cython_wrapper', '_pydevd_bundle.pydevd_additional_thread_info', '_pydevd_bundle.pydevd_thread_lifecycle', '_pydevd_bundle.pydevd_save_locals', '_pydev_bundle.pydev_monkey', 'pydevd_tracing', '_pydevd_bundle.pydevd_collect_bytecode_info', '_pydevd_bundle.pydevd_daemon_thread', '_pydevd_bundle.pydevd_timeout', '_pydevd_bundle.pydevd_vars', '_pydev_bundle.pydev_console_utils', '_pydevd_bundle.pydevd_import_class', '_pydevd_bundle.pydevd_breakpoints', '_pydevd_bundle.pydevd_custom_frames', '_pydevd_bundle.pydevd_dont_trace_files', '_pydevd_bundle.pydevd_net_command', '_pydevd_bundle.pydevconsole_code', '_pydev_bundle.pydev_umd', 'pydevconsole', '_pydev_bundle._pydev_completer', '_pydevd_bundle.pydevd_net_command_factory_xml', '_pydevd_bundle.pydevd_frame', '_pydevd_bundle.pydevd_additional_thread_info_regular', '_pydevd_bundle.pydevd_trace_dispatch', '_pydevd_frame_eval.pydevd_frame_eval_main', '_pydevd_bundle.pydevd_source_mapping', '_pydevd_bundle.pydevd_concurrency_analyser', '_pydevd_bundle.pydevd_concurrency_analyser.pydevd_thread_wrappers', '_pydevd_bundle.pydevd_concurrency_analyser.pydevd_concurrency_logger', '_pydevd_bundle._debug_adapter', '_pydevd_bundle._debug_adapter.pydevd_schema_log', '_pydevd_bundle._debug_adapter.pydevd_base_schema', '_pydevd_bundle._debug_adapter.pydevd_schema', '_pydevd_bundle.pydevd_reload', '_pydev_bundle.fsnotify', '_pydevd_bundle.pydevd_console', '_pydevd_bundle.pydevd_comm', '_pydevd_bundle.pydevd_net_command_factory_json', '_pydevd_bundle.pydevd_api', '_pydevd_bundle.pydevd_json_debug_options', '_pydevd_bundle.pydevd_process_net_command_json', '_pydevd_bundle.pydevd_traceproperty', '_pydevd_bundle.pydevd_process_net_command', '_pydevd_bundle.pydevd_suspended_frames', '_pydevd_bundle.pydevd_trace_api', 'pydevd_plugins.pydevd_line_validation', 'pydevd_plugins.django_debug', 'pydevd_plugins.jinja2_debug', '_pydevd_bundle.pydevd_plugin_utils', 'pydevd_plugins.extensions.types', 'pydevd_plugins.extensions.types.pydevd_helpers', 'pydevd_plugins.extensions.types.pydevd_plugin_numpy_types', 'pydevd_plugins.extensions.types.pydevd_plugin_pandas_types', 'pydevd_plugins.extensions.types.pydevd_plugins_django_form_str', 'pydevd', 'debugpy._vendored.force_pydevd', 'debugpy.server', 'debugpy.adapter', 'debugpy.common', 'debugpy.common.json', 'debugpy.common.timestamp', 'debugpy.common.util', 'debugpy.common.log', 'debugpy.common.sockets', 'debugpy.server.api', 'ipykernel.debugger', 'packaging', 'packaging._structures', 'packaging.version', 'ipykernel.eventloops', 'IPython.core.payloadpage', 'ipykernel.displayhook', 'ipykernel.zmqshell', 'ipykernel.ipkernel', 'ipykernel.parentpoller', 'ipykernel.kernelapp', 'faulthandler', 'IPython.core.completerlib', 'numpy._globals', 'numpy.__config__', 'mkl._mklinit', 'mkl._py_mkl_service', 'mkl', 'numpy._distributor_init', 'numpy._version', 'numpy.version', 'numpy.core._multiarray_umath', 'numpy.compat._inspect', 'numpy.compat.py3k', 'numpy.compat', 'numpy.core.overrides', 'numpy.core.multiarray', 'numpy.core.umath', 'numpy.core._string_helpers', 'numpy.core._dtype', 'numpy.core._type_aliases', 'numpy.core.numerictypes', 'numpy.core._exceptions', 'numpy.core._ufunc_config', 'numpy.core._methods', 'numpy.core.fromnumeric', 'numpy.core.shape_base', 'numpy.core.arrayprint', 'numpy.core._asarray', 'numpy.core.numeric', 'numpy.core.defchararray', 'numpy.core.records', 'numpy.core.memmap', 'numpy.core.function_base', 'numpy.core._machar', 'numpy.core.getlimits', 'numpy.core.einsumfunc', 'numpy.core._multiarray_tests', 'numpy.core._add_newdocs', 'numpy.core._add_newdocs_scalars', 'numpy.core._dtype_ctypes', 'numpy.core._internal', 'numpy._pytesttester', 'numpy.core', 'numpy.lib.mixins', 'numpy.lib.ufunclike', 'numpy.lib.type_check', 'numpy.lib.scimath', 'numpy.lib.stride_tricks', 'numpy.lib.twodim_base', 'numpy.linalg._umath_linalg', 'numpy.linalg.linalg', 'numpy.linalg', 'numpy.matrixlib.defmatrix', 'numpy.matrixlib', 'numpy.lib.histograms', 'numpy.lib.function_base', 'numpy.lib.index_tricks', 'numpy.lib.nanfunctions', 'numpy.lib.shape_base', 'numpy.lib.polynomial', 'numpy.lib.utils', 'numpy.lib.arraysetops', 'numpy.lib.format', 'numpy.lib._datasource', 'numpy.lib._iotools', 'numpy.lib.npyio', 'numpy.lib.arrayterator', 'numpy.lib.arraypad', 'numpy.lib._version', 'numpy.lib', 'numpy.fft._pocketfft_internal', 'numpy.fft._pocketfft', 'numpy.fft.helper', 'numpy.fft', 'numpy.polynomial.polyutils', 'numpy.polynomial._polybase', 'numpy.polynomial.polynomial', 'numpy.polynomial.chebyshev', 'numpy.polynomial.legendre', 'numpy.polynomial.hermite', 'numpy.polynomial.hermite_e', 'numpy.polynomial.laguerre', 'numpy.polynomial', '_cython_0_29_33', 'numpy.random._common', 'secrets', 'numpy.random.bit_generator', 'numpy.random._bounded_integers', 'numpy.random._mt19937', 'numpy.random.mtrand', 'numpy.random._philox', 'numpy.random._pcg64', 'numpy.random._sfc64', 'numpy.random._generator', 'numpy.random._pickle', 'numpy.random', 'numpy.ctypeslib', 'numpy.ma.core', 'numpy.ma.extras', 'numpy.ma', 'numpy', 'pytz.exceptions', 'pytz.lazy', 'pytz.tzinfo', 'pytz.tzfile', 'pytz', 'pandas._typing', 'pandas.compat._constants', 'pandas.compat.compressors', '_cython_0_29_36', 'pandas._libs.tslibs.np_datetime', 'pandas._libs.tslibs.dtypes', 'pandas._libs.tslibs.base', 'pandas._libs.tslibs.nattype', 'pandas.util._exceptions', 'pandas.util.version', 'pandas.compat._optional', 'zoneinfo._tzpath', 'zoneinfo._common', '_zoneinfo', 'zoneinfo', 'pandas._libs.tslibs.timezones', 'pandas._libs.tslibs.ccalendar', 'pandas._config.config', 'pandas._config.dates', 'pandas._config.display', 'pandas._config', 'pandas._config.localization', 'pandas._libs.tslibs.fields', 'pandas._libs.tslibs.timedeltas', 'pandas._libs.tslibs.tzconversion', 'pandas._libs.tslibs.timestamps', 'dateutil.easter', 'pandas._libs.properties', 'pandas._libs.tslibs.offsets', 'pandas._libs.tslibs.strptime', 'pandas._libs.tslibs.parsing', 'pandas._libs.tslibs.conversion', 'pandas._libs.tslibs.period', 'pandas._libs.tslibs.vectorized', 'pandas._libs.tslibs', 'pandas._libs.ops_dispatch', 'pandas._libs.missing', 'pandas._libs.hashtable', 'pandas._libs.algos', 'pandas._libs.interval', 'pandas._libs', 'pandas.util._decorators', 'pandas.core', 'pandas.core.util', 'pandas._libs.lib', 'pandas._libs.hashing', 'pandas.core.dtypes', 'pandas.errors', 'pandas.core.dtypes.generic', 'pandas.core.dtypes.base', 'pandas.core.dtypes.inference', 'pandas.core.dtypes.dtypes', 'pandas.core.dtypes.common', 'pandas.core.util.hashing', 'pandas.util', 'pandas.compat.numpy', 'pyarrow._generated_version', 'cloudpickle.compat', 'typing_extensions', 'cloudpickle.cloudpickle', 'cloudpickle.cloudpickle_fast', 'cloudpickle', 'pyarrow.util', 'pyarrow.lib', 'pyarrow._hdfsio', 'pyarrow.filesystem', 'pyarrow.hdfs', 'pyarrow.ipc', 'pyarrow.serialization', 'pyarrow.types', 'pyarrow', 'pandas.compat.pyarrow', 'pandas.compat', 'pandas._libs.tslib', 'pandas.core.config_init', 'pandas.core.dtypes.missing', 'pandas.io', 'pandas.io._util', 'pandas.core.dtypes.cast', 'pandas.core.dtypes.astype', 'pandas.core.dtypes.concat', 'pandas.core.array_algos', 'pandas.core.common', 'pandas.core.construction', 'pandas.core.array_algos.take', 'pandas.core.indexers.utils', 'pandas.core.indexers', 'pandas.core.algorithms', 'pandas.util._validators', 'pandas.core.roperator', 'pandas._libs.ops', 'pandas.core.computation', 'numexpr.interpreter', 'numexpr.expressions', 'numexpr.version', 'numexpr.utils', 'numexpr.necompiler', 'numexpr', 'pandas.core.computation.check', 'pandas.core.computation.expressions', 'pandas.core.ops.missing', 'pandas.core.ops.dispatch', 'pandas.core.ops.invalid', 'pandas.core.ops.array_ops', 'pandas.core.ops.common', 'pandas.core.ops.docstrings', 'pandas.core.ops.mask_ops', 'pandas.core.ops.methods', 'pandas.core.ops', 'pandas.core.arraylike', 'pandas.compat.numpy.function', 'pandas.core.missing', 'pandas.core.array_algos.quantile', 'pandas.core.sorting', 'pandas.core.arrays.base', 'pandas.core.strings', 'pandas.core.strings.base', 'pandas.tseries', 'pandas.tseries.frequencies', 'pyarrow._compute', 'pyarrow._compute_docstrings', 'pyarrow.vendored', 'pyarrow.vendored.docscrape', 'pyarrow.compute', 'pandas.core.arrays.arrow._arrow_utils', 'pandas.core.arrays.arrow.dtype', 'pandas.core.arrays.arrow.array', 'pandas.core.arrays.arrow', 'pandas.core.array_algos.masked_accumulations', 'bottleneck.benchmark', 'bottleneck.benchmark.autotimeit', 'bottleneck.benchmark.bench', 'bottleneck.benchmark.bench_detailed', 'bottleneck.tests', 'bottleneck.tests.util', 'bottleneck.slow.reduce', 'bottleneck.slow.nonreduce', 'bottleneck.slow.nonreduce_axis', 'bottleneck.slow.move', 'bottleneck.slow', 'bottleneck._pytesttester', 'bottleneck.move', 'bottleneck.nonreduce', 'bottleneck.nonreduce_axis', 'bottleneck.reduce', 'bottleneck._version', 'bottleneck', 'pandas.core.nanops', 'pandas.core.array_algos.masked_reductions', 'pandas.core.arrays.masked', 'pandas.core.arrays.boolean', '_csv', 'csv', 'pandas._libs.arrays', 'pandas.core.accessor', 'pandas.core.array_algos.transforms', 'pandas.core.arrays._mixins', 'pandas.core.base', 'pandas.core.strings.object_array', 'pandas.io.formats', 'pandas.io.formats.console', 'pandas.core.arrays.categorical', 'pandas.core.array_algos.datetimelike_accumulations', 'pandas.core.arrays.numeric', 'pandas.core.arrays.integer', 'pandas.core.arrays.datetimelike', 'pandas.core.arrays._ranges', 'pandas.tseries.offsets', 'pandas.core.arrays.datetimes', 'pandas.core.arrays.floating', 'pandas.core.arrays.timedeltas', 'pandas.core.arrays.interval', 'pandas.core.arrays.numpy_', 'pandas.core.arrays.period', 'pandas._libs.sparse', 'pandas.core.arrays.sparse.dtype', 'pandas.io.formats.printing', 'pandas.core.arrays.sparse.array', 'pandas.core.arrays.sparse.accessor', 'pandas.core.arrays.sparse', 'pandas.core.arrays.string_', 'pandas.core.arrays.string_arrow', 'pandas.core.arrays', 'pandas.core.flags', 'pandas._libs.reduction', 'pandas.core.apply', 'pandas._libs.indexing', 'pandas.core.indexes', 'pandas._libs.index', 'pandas._libs.internals', 'pandas._libs.join', 'pandas.core.array_algos.putmask', 'pandas.core.indexes.frozen', 'pandas.core.strings.accessor', 'pandas.core.indexes.base', 'pandas.core.indexes.extension', 'pandas.core.indexes.category', 'pandas.core.indexes.range', 'pandas.core.tools', 'pandas.core.tools.timedeltas', 'pandas.core.indexes.datetimelike', 'pandas.core.tools.times', 'pandas.core.indexes.datetimes', 'pandas.core.indexes.multi', 'pandas.core.indexes.timedeltas', 'pandas.core.indexes.interval', 'pandas.core.indexes.period', 'pandas.core.indexes.api', 'pandas.core.indexing', 'pandas.core.sample', 'pandas.core.array_algos.replace', 'pandas._libs.writers', 'pandas.core.internals.blocks', 'pandas.core.internals.api', 'pandas.core.internals.base', 'pandas.core.internals.array_manager', 'pandas.core.internals.ops', 'pandas.core.internals.managers', 'pandas.core.internals.concat', 'pandas.core.internals', 'pandas.core.internals.construction', 'pandas.core.methods', 'pandas.core.reshape', 'pandas.core.reshape.concat', 'mmap', 'tarfile', 'pandas.core.shared_docs', 'pandas.io.common', 'pandas.io.formats.format', 'pandas.core.methods.describe', 'pandas._libs.window', 'pandas._libs.window.aggregations', 'pandas._libs.window.indexers', 'pandas.core.indexers.objects', 'pandas.core.util.numba_', 'pandas.core.window.common', 'pandas.core.window.doc', 'pandas.core.window.numba_', 'pandas.core.window.online', 'pandas.core._numba', 'pandas.core._numba.executor', 'pandas.core.window.rolling', 'pandas.core.window.ewm', 'pandas.core.window.expanding', 'pandas.core.window', 'pandas.core.generic', 'pandas.core.methods.selectn', 'pandas.core.reshape.util', 'pandas.core.tools.numeric', 'pandas.core.reshape.melt', 'pandas._libs.reshape', 'pandas.core.indexes.accessors', 'pandas.arrays', 'pandas.core.tools.datetimes', 'pandas.io.formats.info', 'pandas.plotting._core', 'pandas.plotting._misc', 'pandas.plotting', 'pandas.core.series', 'pandas.core.frame', 'pandas.core.groupby.base', 'pandas._libs.groupby', 'pandas.core.groupby.numba_', 'pandas.core.groupby.categorical', 'pandas.core.groupby.grouper', 'pandas.core.groupby.ops', 'pandas.core.groupby.indexing', 'pandas.core.groupby.groupby', 'pandas.core.groupby.generic', 'pandas.core.groupby', 'pandas.core.api', 'pandas.tseries.api', 'pandas.core.computation.common', 'pandas.core.computation.align', 'pandas.core.computation.scope', 'pandas.core.computation.ops', 'pandas.core.computation.engines', 'pandas.core.computation.parsing', 'pandas.core.computation.expr', 'pandas.core.computation.eval', 'pandas.core.computation.api', 'pandas.core.reshape.encoding', 'pandas.core.reshape.merge', 'pandas.core.reshape.pivot', 'pandas.core.reshape.tile', 'pandas.core.reshape.api', 'pandas.api.extensions', 'pandas.api.indexers', 'pandas.core.interchange', 'pandas.core.interchange.dataframe_protocol', 'pandas.core.dtypes.api', 'pandas.api.types', 'pandas.core.interchange.utils', 'pandas.core.interchange.from_dataframe', 'pandas.api.interchange', 'pandas.api', 'pandas._testing._random', 'pandas._testing.contexts', 'pandas._testing._io', 'pandas._testing._warnings', 'cmath', 'pandas._libs.testing', 'pandas._testing.asserters', 'pandas._testing.compat', 'pandas._testing', 'pandas.testing', 'pandas.util._print_versions', 'pandas.io.clipboards', 'pandas._libs.parsers', 'pandas.io.excel._util', 'pandas.io.parsers.base_parser', 'pandas.io.parsers.arrow_parser_wrapper', 'pandas.io.parsers.c_parser_wrapper', 'pandas.io.parsers.python_parser', 'pandas.io.parsers.readers', 'pandas.io.parsers', 'pandas.io.excel._odfreader', 'pandas.io.excel._openpyxl', 'pandas.io.excel._pyxlsb', 'pandas.io.excel._xlrd', 'pandas.io.excel._base', 'pandas._libs.json', 'pandas.io.excel._odswriter', 'pandas.io.excel._xlsxwriter', 'pandas.io.excel', 'pandas.io.feather_format', 'pandas.io.gbq', 'pandas.io.html', 'pandas.io.json._normalize', 'pandas.io.json._table_schema', 'pandas.io.json._json', 'pandas.io.json', 'pandas.io.orc', 'pandas.io.parquet', 'pandas.compat.pickle_compat', 'pandas.io.pickle', 'pandas.core.computation.pytables', 'pandas.io.pytables', 'pandas.io.sas.sasreader', 'pandas.io.sas', 'pandas.io.spss', 'pandas.io.sql', 'pandas.io.stata', 'pandas.io.xml', 'pandas.io.api', 'pandas.util._tester', 'pandas._version', 'pandas', 'matplotlib._api.deprecation', 'matplotlib._api', 'matplotlib._version', 'matplotlib._c_internal_utils', 'matplotlib.cbook', 'matplotlib._docstring', 'PIL._version', 'PIL', 'defusedxml.common', 'defusedxml', 'xml.etree', 'xml.etree.ElementPath', '_elementtree', 'xml.etree.ElementTree', 'defusedxml.ElementTree', 'PIL.ExifTags', 'PIL.ImageMode', 'PIL.TiffTags', 'PIL._binary', 'PIL._util', 'PIL._imaging', 'cffi.lock', 'cffi.error', 'cffi.model', 'cffi.api', 'cffi', 'PIL.Image', 'PIL.ImageChops', 'PIL.ImageFile', 'PIL.GimpGradientFile', 'PIL.GimpPaletteFile', 'PIL.ImageColor', 'PIL.PaletteFile', 'PIL.ImagePalette', 'PIL.ImageSequence', 'PIL.PngImagePlugin', 'matplotlib._cm', 'matplotlib._path', 'matplotlib.bezier', 'matplotlib.path', 'matplotlib.transforms', 'matplotlib.ticker', 'matplotlib.scale', 'matplotlib._color_data', 'matplotlib.colors', 'pyparsing.util', 'pyparsing.unicode', 'pyparsing.exceptions', 'pyparsing.actions', 'pyparsing.results', 'pyparsing.core', 'pyparsing.helpers', 'pyparsing.testing', 'pyparsing.common', 'pyparsing', 'matplotlib._fontconfig_pattern', 'matplotlib._enums', 'cycler', 'matplotlib.rcsetup', 'matplotlib.ft2font', 'kiwisolver._cext', 'kiwisolver', 'matplotlib._cm_listed', 'matplotlib.cm', 'matplotlib', 'matplotlib.artist', 'matplotlib.hatch', 'matplotlib.markers', 'matplotlib.lines', 'matplotlib.collections', 'matplotlib._pylab_helpers', 'matplotlib.backend_tools', 'matplotlib._mathtext_data', 'matplotlib._afm', 'matplotlib.font_manager', 'matplotlib.patches', 'matplotlib._text_helpers', 'matplotlib.dviread', 'matplotlib._mathtext', 'matplotlib.mathtext', 'matplotlib.texmanager', 'matplotlib.textpath', 'matplotlib.text', 'matplotlib._tight_bbox', 'matplotlib.widgets', 'matplotlib.backend_managers', 'matplotlib.backend_bases', 'matplotlib.contour', 'matplotlib.spines', 'matplotlib.colorbar', 'matplotlib._image', 'matplotlib.image', 'matplotlib.style.core', 'matplotlib.style', 'matplotlib._blocking_input', 'matplotlib.offsetbox', 'matplotlib.units', 'matplotlib.axis', 'matplotlib._tight_layout', 'matplotlib.gridspec', 'matplotlib.table', 'matplotlib.axes._base', 'matplotlib.category', 'dateutil.rrule', 'matplotlib.dates', 'matplotlib.container', 'matplotlib.legend_handler', 'matplotlib.legend', 'matplotlib.mlab', 'matplotlib.quiver', 'matplotlib.stackplot', 'matplotlib.streamplot', 'matplotlib.tri._triangulation', 'matplotlib.tri._tricontour', 'matplotlib.tri._trifinder', 'matplotlib.tri._tritools', 'matplotlib.tri._triinterpolate', 'matplotlib.tri._tripcolor', 'matplotlib.tri._triplot', 'matplotlib.tri._trirefine', 'matplotlib.tri', 'matplotlib.axes._secondary_axes', 'matplotlib.axes._axes', 'matplotlib.axes', 'matplotlib.projections.geo', 'matplotlib.projections.polar', 'mpl_toolkits.mplot3d.proj3d', 'mpl_toolkits.mplot3d.art3d', 'mpl_toolkits.mplot3d.axis3d', 'mpl_toolkits.mplot3d.axes3d', 'mpl_toolkits.mplot3d', 'matplotlib.projections', 'matplotlib._layoutgrid', 'matplotlib._constrained_layout', 'matplotlib.layout_engine', 'matplotlib.figure', 'matplotlib.pyplot', 'easygui.boxes', 'easygui.boxes.global_state', '_tkinter', 'tkinter.constants', 'tkinter', 'tkinter.dialog', 'tkinter.commondialog', 'tkinter.messagebox', 'tkinter.simpledialog', 'tkinter.filedialog', 'tkinter.font', 'PIL.ImageTk', 'easygui.boxes.utils', 'easygui.boxes.text_box', 'easygui.boxes.button_box', 'easygui.boxes.diropen_box', 'easygui.boxes.fileboxsetup', 'easygui.boxes.fileopen_box', 'easygui.boxes.filesave_box', 'easygui.boxes.base_boxes', 'easygui.boxes.fillable_box', 'easygui.boxes.derived_boxes', 'easygui.boxes.multi_fillable_box', 'easygui.boxes.choice_box', 'easygui.boxes.egstore', 'easygui.boxes.about', 'easygui.boxes.demo', 'easygui', 'tkinter.ttk', 'pygments.styles.default'])"
      ]
     },
     "execution_count": 63,
     "metadata": {},
     "output_type": "execute_result"
    }
   ],
   "source": [
    "# what modules are loaded at the moment?\n",
    "\n",
    "sys.modules.keys()"
   ]
  },
  {
   "cell_type": "code",
   "execution_count": 64,
   "id": "b040ef33-1603-4bc1-8614-d04ee203b258",
   "metadata": {},
   "outputs": [
    {
     "data": {
      "text/plain": [
       "sys.float_info(max=1.7976931348623157e+308, max_exp=1024, max_10_exp=308, min=2.2250738585072014e-308, min_exp=-1021, min_10_exp=-307, dig=15, mant_dig=53, epsilon=2.220446049250313e-16, radix=2, rounds=1)"
      ]
     },
     "execution_count": 64,
     "metadata": {},
     "output_type": "execute_result"
    }
   ],
   "source": [
    "# how are floating points implemented on this system?\n",
    "\n",
    "sys.float_info"
   ]
  },
  {
   "cell_type": "code",
   "execution_count": 65,
   "id": "cb192f6b-272a-4c8f-aeb9-000485d85195",
   "metadata": {},
   "outputs": [
    {
     "data": {
      "text/plain": [
       "104"
      ]
     },
     "execution_count": 65,
     "metadata": {},
     "output_type": "execute_result"
    }
   ],
   "source": [
    "# how much space does this variable take up in bits \n",
    "\n",
    "x=[1,2,3,4,5]\n",
    "sys.getsizeof(x)"
   ]
  },
  {
   "cell_type": "code",
   "execution_count": 66,
   "id": "c705dd29-24f1-402c-8fc1-423e04e1966e",
   "metadata": {},
   "outputs": [
    {
     "data": {
      "text/plain": [
       "sys.hash_info(width=64, modulus=2305843009213693951, inf=314159, nan=0, imag=1000003, algorithm='siphash13', hash_bits=64, seed_bits=128, cutoff=0)"
      ]
     },
     "execution_count": 66,
     "metadata": {},
     "output_type": "execute_result"
    }
   ],
   "source": [
    "# what hashing system is in use?\n",
    "\n",
    "sys.hash_info"
   ]
  },
  {
   "cell_type": "code",
   "execution_count": 67,
   "id": "74522be4-5e2a-4cdc-8a3a-01ad8381aa6b",
   "metadata": {},
   "outputs": [
    {
     "data": {
      "text/plain": [
       "namespace(name='cpython',\n",
       "          cache_tag='cpython-311',\n",
       "          version=sys.version_info(major=3, minor=11, micro=5, releaselevel='final', serial=0),\n",
       "          hexversion=51054064)"
      ]
     },
     "execution_count": 67,
     "metadata": {},
     "output_type": "execute_result"
    }
   ],
   "source": [
    "# what implementation of python is running?\n",
    "\n",
    "sys.implementation"
   ]
  },
  {
   "cell_type": "code",
   "execution_count": 68,
   "id": "82b57ab3-24d1-432a-b658-f04c5849b095",
   "metadata": {},
   "outputs": [
    {
     "data": {
      "text/plain": [
       "'3.11.5 | packaged by Anaconda, Inc. | (main, Sep 11 2023, 13:26:23) [MSC v.1916 64 bit (AMD64)]'"
      ]
     },
     "execution_count": 68,
     "metadata": {},
     "output_type": "execute_result"
    }
   ],
   "source": [
    "# what python version is running now?\n",
    "\n",
    "sys.version"
   ]
  },
  {
   "cell_type": "code",
   "execution_count": 69,
   "id": "9ed95340-ab89-4133-aedd-ede532dac69b",
   "metadata": {},
   "outputs": [],
   "source": [
    "# Make a beep, at least on Windows....\n",
    "\n",
    "import winsound\n",
    "winsound.Beep(400,500)"
   ]
  },
  {
   "cell_type": "code",
   "execution_count": null,
   "id": "a2f4b733-7a74-472e-96c4-dfb4ac4db376",
   "metadata": {},
   "outputs": [],
   "source": []
  },
  {
   "cell_type": "code",
   "execution_count": null,
   "id": "f54ac2fa-9152-45c4-9bf2-1a85411b1f16",
   "metadata": {},
   "outputs": [],
   "source": []
  }
 ],
 "metadata": {
  "kernelspec": {
   "display_name": "Python 3 (ipykernel)",
   "language": "python",
   "name": "python3"
  },
  "language_info": {
   "codemirror_mode": {
    "name": "ipython",
    "version": 3
   },
   "file_extension": ".py",
   "mimetype": "text/x-python",
   "name": "python",
   "nbconvert_exporter": "python",
   "pygments_lexer": "ipython3",
   "version": "3.11.5"
  }
 },
 "nbformat": 4,
 "nbformat_minor": 5
}
